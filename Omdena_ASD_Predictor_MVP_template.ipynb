{
 "cells": [
  {
   "cell_type": "markdown",
   "id": "cdc8c0b6-5c3c-4393-ba22-546639182c77",
   "metadata": {
    "id": "cdc8c0b6-5c3c-4393-ba22-546639182c77"
   },
   "source": [
    "# 1 - IMPORTS"
   ]
  },
  {
   "cell_type": "markdown",
   "id": "3e891d36-08f1-40ce-bb79-d2d0dc12557e",
   "metadata": {
    "id": "3e891d36-08f1-40ce-bb79-d2d0dc12557e"
   },
   "source": [
    "## 1.1 - Libraries"
   ]
  },
  {
   "cell_type": "markdown",
   "id": "809cad3b-c3fb-4147-b5dc-f3cd88735d4c",
   "metadata": {
    "id": "809cad3b-c3fb-4147-b5dc-f3cd88735d4c"
   },
   "source": [
    "*Load required libraries for the project*"
   ]
  },
  {
   "cell_type": "code",
   "execution_count": 1,
   "id": "Oc8yj88gmkbU",
   "metadata": {
    "id": "Oc8yj88gmkbU"
   },
   "outputs": [],
   "source": [
    "!pip install --upgrade -q pylangacq"
   ]
  },
  {
   "cell_type": "code",
   "execution_count": 2,
   "id": "2hctJgPnrG4x",
   "metadata": {
    "colab": {
     "base_uri": "https://localhost:8080/"
    },
    "id": "2hctJgPnrG4x",
    "outputId": "9ca26400-caea-436a-a3a2-bd3d816ab5a0",
    "scrolled": true
   },
   "outputs": [
    {
     "name": "stdout",
     "output_type": "stream",
     "text": [
      "Collecting catboost\n",
      "  Downloading catboost-1.1.1-cp39-none-win_amd64.whl (74.0 MB)\n",
      "Requirement already satisfied: shap in c:\\users\\admin\\anaconda3\\lib\\site-packages (0.41.0)\n",
      "Requirement already satisfied: matplotlib in c:\\users\\admin\\anaconda3\\lib\\site-packages (from catboost) (3.4.3)\n",
      "Requirement already satisfied: six in c:\\users\\admin\\anaconda3\\lib\\site-packages (from catboost) (1.16.0)\n",
      "Requirement already satisfied: scipy in c:\\users\\admin\\anaconda3\\lib\\site-packages (from catboost) (1.7.1)\n",
      "Collecting graphviz\n",
      "  Downloading graphviz-0.20.1-py3-none-any.whl (47 kB)\n",
      "Requirement already satisfied: numpy>=1.16.0 in c:\\users\\admin\\anaconda3\\lib\\site-packages (from catboost) (1.20.3)\n",
      "Requirement already satisfied: pandas>=0.24.0 in c:\\users\\admin\\anaconda3\\lib\\site-packages (from catboost) (1.3.4)\n",
      "Requirement already satisfied: plotly in c:\\users\\admin\\anaconda3\\lib\\site-packages (from catboost) (5.9.0)\n",
      "Requirement already satisfied: slicer==0.0.7 in c:\\users\\admin\\anaconda3\\lib\\site-packages (from shap) (0.0.7)\n",
      "Requirement already satisfied: numba in c:\\users\\admin\\anaconda3\\lib\\site-packages (from shap) (0.54.1)\n",
      "Requirement already satisfied: packaging>20.9 in c:\\users\\admin\\anaconda3\\lib\\site-packages (from shap) (21.0)\n",
      "Requirement already satisfied: cloudpickle in c:\\users\\admin\\anaconda3\\lib\\site-packages (from shap) (2.0.0)\n",
      "Requirement already satisfied: scikit-learn in c:\\users\\admin\\anaconda3\\lib\\site-packages (from shap) (1.1.2)\n",
      "Requirement already satisfied: tqdm>4.25.0 in c:\\users\\admin\\anaconda3\\lib\\site-packages (from shap) (4.62.3)\n",
      "Requirement already satisfied: pyparsing>=2.0.2 in c:\\users\\admin\\anaconda3\\lib\\site-packages (from packaging>20.9->shap) (3.0.4)\n",
      "Requirement already satisfied: python-dateutil>=2.7.3 in c:\\users\\admin\\anaconda3\\lib\\site-packages (from pandas>=0.24.0->catboost) (2.8.2)\n",
      "Requirement already satisfied: pytz>=2017.3 in c:\\users\\admin\\anaconda3\\lib\\site-packages (from pandas>=0.24.0->catboost) (2021.3)\n",
      "Requirement already satisfied: colorama in c:\\users\\admin\\anaconda3\\lib\\site-packages (from tqdm>4.25.0->shap) (0.4.4)\n",
      "Requirement already satisfied: cycler>=0.10 in c:\\users\\admin\\anaconda3\\lib\\site-packages (from matplotlib->catboost) (0.10.0)\n",
      "Requirement already satisfied: kiwisolver>=1.0.1 in c:\\users\\admin\\anaconda3\\lib\\site-packages (from matplotlib->catboost) (1.3.1)\n",
      "Requirement already satisfied: pillow>=6.2.0 in c:\\users\\admin\\anaconda3\\lib\\site-packages (from matplotlib->catboost) (8.4.0)\n",
      "Requirement already satisfied: setuptools in c:\\users\\admin\\anaconda3\\lib\\site-packages (from numba->shap) (67.1.0)\n",
      "Requirement already satisfied: llvmlite<0.38,>=0.37.0rc1 in c:\\users\\admin\\anaconda3\\lib\\site-packages (from numba->shap) (0.37.0)\n",
      "Requirement already satisfied: tenacity>=6.2.0 in c:\\users\\admin\\anaconda3\\lib\\site-packages (from plotly->catboost) (8.0.1)\n",
      "Requirement already satisfied: threadpoolctl>=2.0.0 in c:\\users\\admin\\anaconda3\\lib\\site-packages (from scikit-learn->shap) (2.2.0)\n",
      "Requirement already satisfied: joblib>=1.0.0 in c:\\users\\admin\\anaconda3\\lib\\site-packages (from scikit-learn->shap) (1.1.0)\n",
      "Installing collected packages: graphviz, catboost\n",
      "Successfully installed catboost-1.1.1 graphviz-0.20.1\n"
     ]
    }
   ],
   "source": [
    "!pip install catboost shap"
   ]
  },
  {
   "cell_type": "code",
   "execution_count": 1,
   "id": "538bd70b",
   "metadata": {
    "scrolled": true
   },
   "outputs": [
    {
     "name": "stdout",
     "output_type": "stream",
     "text": [
      "Requirement already satisfied: ydata-profiling in c:\\users\\admin\\anaconda3\\lib\\site-packages (0.0.dev0)\n",
      "Collecting ydata-profiling\n",
      "  Using cached ydata_profiling-4.0.0-py2.py3-none-any.whl (344 kB)\n",
      "Requirement already satisfied: tqdm<4.65,>=4.48.2 in c:\\users\\admin\\anaconda3\\lib\\site-packages (from ydata-profiling) (4.62.3)\n",
      "Requirement already satisfied: matplotlib<3.7,>=3.2 in c:\\users\\admin\\anaconda3\\lib\\site-packages (from ydata-profiling) (3.4.3)\n",
      "Requirement already satisfied: pandas!=1.4.0,<1.6,>1.1 in c:\\users\\admin\\anaconda3\\lib\\site-packages (from ydata-profiling) (1.5.3)\n",
      "Requirement already satisfied: requests<2.29,>=2.24.0 in c:\\users\\admin\\anaconda3\\lib\\site-packages (from ydata-profiling) (2.26.0)\n",
      "Requirement already satisfied: multimethod<1.10,>=1.4 in c:\\users\\admin\\anaconda3\\lib\\site-packages (from ydata-profiling) (1.9.1)\n",
      "Requirement already satisfied: seaborn<0.13,>=0.10.1 in c:\\users\\admin\\anaconda3\\lib\\site-packages (from ydata-profiling) (0.11.2)\n",
      "Requirement already satisfied: statsmodels<0.14,>=0.13.2 in c:\\users\\admin\\anaconda3\\lib\\site-packages (from ydata-profiling) (0.13.5)\n",
      "Requirement already satisfied: typeguard<2.14,>=2.13.2 in c:\\users\\admin\\anaconda3\\lib\\site-packages (from ydata-profiling) (2.13.3)\n",
      "Requirement already satisfied: PyYAML<6.1,>=5.0.0 in c:\\users\\admin\\anaconda3\\lib\\site-packages (from ydata-profiling) (6.0)\n",
      "Requirement already satisfied: scipy<1.10,>=1.4.1 in c:\\users\\admin\\anaconda3\\lib\\site-packages (from ydata-profiling) (1.7.1)\n",
      "Requirement already satisfied: htmlmin==0.1.12 in c:\\users\\admin\\anaconda3\\lib\\site-packages (from ydata-profiling) (0.1.12)\n",
      "Requirement already satisfied: visions[type_image_path]==0.7.5 in c:\\users\\admin\\anaconda3\\lib\\site-packages (from ydata-profiling) (0.7.5)\n",
      "Requirement already satisfied: phik<0.13,>=0.11.1 in c:\\users\\admin\\anaconda3\\lib\\site-packages (from ydata-profiling) (0.12.3)\n",
      "Requirement already satisfied: jinja2<3.2,>=2.11.1 in c:\\users\\admin\\anaconda3\\lib\\site-packages (from ydata-profiling) (2.11.3)\n",
      "Requirement already satisfied: pydantic<1.11,>=1.8.1 in c:\\users\\admin\\anaconda3\\lib\\site-packages (from ydata-profiling) (1.9.2)\n",
      "Requirement already satisfied: numpy<1.24,>=1.16.0 in c:\\users\\admin\\anaconda3\\lib\\site-packages (from ydata-profiling) (1.20.3)\n",
      "Requirement already satisfied: attrs>=19.3.0 in c:\\users\\admin\\anaconda3\\lib\\site-packages (from visions[type_image_path]==0.7.5->ydata-profiling) (21.2.0)\n",
      "Requirement already satisfied: tangled-up-in-unicode>=0.0.4 in c:\\users\\admin\\anaconda3\\lib\\site-packages (from visions[type_image_path]==0.7.5->ydata-profiling) (0.2.0)\n",
      "Requirement already satisfied: networkx>=2.4 in c:\\users\\admin\\anaconda3\\lib\\site-packages (from visions[type_image_path]==0.7.5->ydata-profiling) (2.6.3)\n",
      "Requirement already satisfied: imagehash in c:\\users\\admin\\anaconda3\\lib\\site-packages (from visions[type_image_path]==0.7.5->ydata-profiling) (4.3.1)\n",
      "Requirement already satisfied: Pillow in c:\\users\\admin\\anaconda3\\lib\\site-packages (from visions[type_image_path]==0.7.5->ydata-profiling) (8.4.0)\n",
      "Requirement already satisfied: MarkupSafe>=0.23 in c:\\users\\admin\\anaconda3\\lib\\site-packages (from jinja2<3.2,>=2.11.1->ydata-profiling) (1.1.1)\n",
      "Requirement already satisfied: pyparsing>=2.2.1 in c:\\users\\admin\\anaconda3\\lib\\site-packages (from matplotlib<3.7,>=3.2->ydata-profiling) (3.0.4)\n",
      "Requirement already satisfied: cycler>=0.10 in c:\\users\\admin\\anaconda3\\lib\\site-packages (from matplotlib<3.7,>=3.2->ydata-profiling) (0.10.0)\n",
      "Requirement already satisfied: kiwisolver>=1.0.1 in c:\\users\\admin\\anaconda3\\lib\\site-packages (from matplotlib<3.7,>=3.2->ydata-profiling) (1.3.1)\n",
      "Requirement already satisfied: python-dateutil>=2.7 in c:\\users\\admin\\anaconda3\\lib\\site-packages (from matplotlib<3.7,>=3.2->ydata-profiling) (2.8.2)\n",
      "Requirement already satisfied: six in c:\\users\\admin\\anaconda3\\lib\\site-packages (from cycler>=0.10->matplotlib<3.7,>=3.2->ydata-profiling) (1.16.0)\n",
      "Requirement already satisfied: pytz>=2020.1 in c:\\users\\admin\\anaconda3\\lib\\site-packages (from pandas!=1.4.0,<1.6,>1.1->ydata-profiling) (2021.3)\n",
      "Requirement already satisfied: joblib>=0.14.1 in c:\\users\\admin\\anaconda3\\lib\\site-packages (from phik<0.13,>=0.11.1->ydata-profiling) (1.1.0)\n",
      "Requirement already satisfied: typing-extensions>=3.7.4.3 in c:\\users\\admin\\anaconda3\\lib\\site-packages (from pydantic<1.11,>=1.8.1->ydata-profiling) (4.4.0)\n",
      "Requirement already satisfied: certifi>=2017.4.17 in c:\\users\\admin\\anaconda3\\lib\\site-packages (from requests<2.29,>=2.24.0->ydata-profiling) (2022.9.14)\n",
      "Requirement already satisfied: idna<4,>=2.5 in c:\\users\\admin\\anaconda3\\lib\\site-packages (from requests<2.29,>=2.24.0->ydata-profiling) (3.2)\n",
      "Requirement already satisfied: charset-normalizer~=2.0.0 in c:\\users\\admin\\anaconda3\\lib\\site-packages (from requests<2.29,>=2.24.0->ydata-profiling) (2.0.4)\n",
      "Requirement already satisfied: urllib3<1.27,>=1.21.1 in c:\\users\\admin\\anaconda3\\lib\\site-packages (from requests<2.29,>=2.24.0->ydata-profiling) (1.26.7)\n",
      "Requirement already satisfied: patsy>=0.5.2 in c:\\users\\admin\\anaconda3\\lib\\site-packages (from statsmodels<0.14,>=0.13.2->ydata-profiling) (0.5.2)\n",
      "Requirement already satisfied: packaging>=21.3 in c:\\users\\admin\\anaconda3\\lib\\site-packages (from statsmodels<0.14,>=0.13.2->ydata-profiling) (23.0)\n",
      "Requirement already satisfied: colorama in c:\\users\\admin\\anaconda3\\lib\\site-packages (from tqdm<4.65,>=4.48.2->ydata-profiling) (0.4.4)\n",
      "Requirement already satisfied: PyWavelets in c:\\users\\admin\\anaconda3\\lib\\site-packages (from imagehash->visions[type_image_path]==0.7.5->ydata-profiling) (1.1.1)\n",
      "Installing collected packages: ydata-profiling\n",
      "  Attempting uninstall: ydata-profiling\n",
      "    Found existing installation: ydata-profiling 0.0.dev0\n",
      "    Uninstalling ydata-profiling-0.0.dev0:\n",
      "      Successfully uninstalled ydata-profiling-0.0.dev0\n",
      "Successfully installed ydata-profiling-4.0.0\n",
      "Note: you may need to restart the kernel to use updated packages.\n"
     ]
    }
   ],
   "source": [
    "pip install -U ydata-profiling"
   ]
  },
  {
   "cell_type": "code",
   "execution_count": null,
   "id": "be8995cd",
   "metadata": {},
   "outputs": [],
   "source": [
    "conda install -c conda-forge ipywidgets"
   ]
  },
  {
   "cell_type": "code",
   "execution_count": 1,
   "id": "d6578c55-3ccb-43b5-b874-b73e6fb8410a",
   "metadata": {
    "id": "d6578c55-3ccb-43b5-b874-b73e6fb8410a"
   },
   "outputs": [],
   "source": [
    "# OS\n",
    "import os\n",
    "from   pathlib import Path\n",
    "\n",
    "# import required libraries\n",
    "#from google.colab import files\n",
    "\n",
    "# date\n",
    "from datetime import datetime\n",
    "\n",
    "# data manipulation\n",
    "import re\n",
    "import numpy      as     np\n",
    "import pandas     as     pd\n",
    "\n",
    "# plot and images\n",
    "import seaborn              as sns\n",
    "import matplotlib.pyplot    as plt\n",
    "\n",
    "# NLP \n",
    "import pylangacq\n",
    "# from nltk.stem import WordNetLemmatizer\n",
    "# from nltk import pos_tag\n",
    "\n",
    "# Generating Synthetic data\n",
    "from imblearn.over_sampling import RandomOverSampler, SMOTE, ADASYN, SMOTENC\n",
    "from imblearn.under_sampling import RandomUnderSampler, NearMiss, TomekLinks\n",
    "\n",
    "# modelling\n",
    "from sklearn.model_selection import train_test_split, LeavePOut, StratifiedKFold, learning_curve, cross_validate\n",
    "from sklearn.dummy           import DummyClassifier\n",
    "from sklearn.linear_model    import LogisticRegression\n",
    "from sklearn.preprocessing   import StandardScaler\n",
    "from sklearn.metrics         import log_loss, f1_score, accuracy_score, precision_score, recall_score, roc_auc_score, confusion_matrix, ConfusionMatrixDisplay, precision_recall_curve, auc, log_loss\n",
    "from sklearn.feature_selection import mutual_info_classif\n",
    "from sklearn.svm import SVC\n",
    "from sklearn.naive_bayes import BernoulliNB, ComplementNB\n",
    "from sklearn.neighbors import KNeighborsClassifier\n",
    "from sklearn.ensemble import RandomForestClassifier\n",
    "#from lightgbm import LGBMClassifier\n",
    "from catboost import CatBoostClassifier\n",
    "\n",
    "# explainability\n",
    "import shap"
   ]
  },
  {
   "cell_type": "code",
   "execution_count": 2,
   "id": "qZDmSDsWyQsR",
   "metadata": {
    "id": "qZDmSDsWyQsR"
   },
   "outputs": [],
   "source": [
    "# # download required corpus, POS, etc\n",
    "# import nltk\n",
    "# nltk.download('wordnet')\n",
    "# nltk.download('omw-1.4')\n",
    "# nltk.download('averaged_perceptron_tagger')"
   ]
  },
  {
   "cell_type": "markdown",
   "id": "b188f9ed-2942-4e91-9acc-6d2c668d44cf",
   "metadata": {
    "id": "b188f9ed-2942-4e91-9acc-6d2c668d44cf"
   },
   "source": [
    "## 1.2 - Functions"
   ]
  },
  {
   "cell_type": "markdown",
   "id": "cd53f9fe-60be-4604-a0af-d42a533e8b35",
   "metadata": {
    "id": "cd53f9fe-60be-4604-a0af-d42a533e8b35"
   },
   "source": [
    "*Define functions that will be used on the project*"
   ]
  },
  {
   "cell_type": "code",
   "execution_count": 3,
   "id": "0f8b2efe-780d-4c96-925f-5410f338549b",
   "metadata": {
    "id": "0f8b2efe-780d-4c96-925f-5410f338549b"
   },
   "outputs": [],
   "source": [
    "# TO-DO"
   ]
  },
  {
   "cell_type": "markdown",
   "id": "3b9fdafd-e7f0-410a-b9f6-85bf1c5ab688",
   "metadata": {
    "id": "3b9fdafd-e7f0-410a-b9f6-85bf1c5ab688"
   },
   "source": [
    "## 1.3 - Setup"
   ]
  },
  {
   "cell_type": "markdown",
   "id": "9c756b15-17ad-498a-b843-004ce876d4a5",
   "metadata": {
    "id": "9c756b15-17ad-498a-b843-004ce876d4a5"
   },
   "source": [
    "*Set some configurations for the whole project*"
   ]
  },
  {
   "cell_type": "code",
   "execution_count": 4,
   "id": "e81fca56-315b-487a-8c9e-1e5758a095c6",
   "metadata": {
    "id": "e81fca56-315b-487a-8c9e-1e5758a095c6"
   },
   "outputs": [],
   "source": [
    "# e.g.     \n",
    "# set cientific notation for pandas\n",
    "pd.set_option(\n",
    "    \"display.float_format\", \"{:,.3f}\".format \n",
    ")"
   ]
  },
  {
   "cell_type": "markdown",
   "id": "807d9dc9-6720-49e5-899e-73f883c290e0",
   "metadata": {
    "id": "807d9dc9-6720-49e5-899e-73f883c290e0"
   },
   "source": [
    "## 1.4 - Constants "
   ]
  },
  {
   "cell_type": "markdown",
   "id": "bc4e1368-9560-49c3-a955-f7e6efa9aad9",
   "metadata": {
    "id": "bc4e1368-9560-49c3-a955-f7e6efa9aad9"
   },
   "source": [
    "*Define constants that will be used throughout the project*"
   ]
  },
  {
   "cell_type": "code",
   "execution_count": 5,
   "id": "d8b6e6b2-6724-4cd8-b043-e6ae04461a3d",
   "metadata": {
    "id": "d8b6e6b2-6724-4cd8-b043-e6ae04461a3d"
   },
   "outputs": [],
   "source": [
    "# TO-DO"
   ]
  },
  {
   "cell_type": "code",
   "execution_count": 6,
   "id": "9ad7cd30-a440-4fb4-98a5-aacd5d2654db",
   "metadata": {
    "id": "9ad7cd30-a440-4fb4-98a5-aacd5d2654db"
   },
   "outputs": [],
   "source": [
    "# define seed and random states\n",
    "seed = 0"
   ]
  },
  {
   "cell_type": "markdown",
   "id": "b984e706-7376-42fe-97a6-4f068f547f1d",
   "metadata": {
    "id": "b984e706-7376-42fe-97a6-4f068f547f1d"
   },
   "source": [
    "# 2 - DATA EXTRACTION"
   ]
  },
  {
   "cell_type": "markdown",
   "id": "009ee3a8-0861-4d32-a3d0-752594227611",
   "metadata": {
    "id": "009ee3a8-0861-4d32-a3d0-752594227611"
   },
   "source": [
    "## 2.1 - Data dictionary"
   ]
  },
  {
   "cell_type": "markdown",
   "id": "f6623340-078b-46f2-83c3-2abbb1e370b6",
   "metadata": {
    "id": "f6623340-078b-46f2-83c3-2abbb1e370b6"
   },
   "source": [
    "*Describe the meaning of every column of the dataset*"
   ]
  },
  {
   "cell_type": "code",
   "execution_count": 7,
   "id": "xPeXrmXJrmmf",
   "metadata": {
    "id": "xPeXrmXJrmmf"
   },
   "outputs": [],
   "source": [
    "# TO-DO"
   ]
  },
  {
   "cell_type": "markdown",
   "id": "cf1e1984-ea0e-4ecf-87d2-68756c055a9e",
   "metadata": {
    "id": "cf1e1984-ea0e-4ecf-87d2-68756c055a9e"
   },
   "source": [
    "## 2.2 - Data Loading"
   ]
  },
  {
   "cell_type": "markdown",
   "id": "241024c3-8e04-4958-bc71-aeb5b164bf72",
   "metadata": {
    "id": "241024c3-8e04-4958-bc71-aeb5b164bf72"
   },
   "source": [
    "*Load data from required files*"
   ]
  },
  {
   "cell_type": "code",
   "execution_count": 8,
   "id": "SBRVW-QxrqqF",
   "metadata": {
    "id": "SBRVW-QxrqqF"
   },
   "outputs": [],
   "source": [
    "# # upload data\n",
    "# uploaded = files.upload()"
   ]
  },
  {
   "cell_type": "code",
   "execution_count": 9,
   "id": "I-ttrZoEr-Zb",
   "metadata": {
    "colab": {
     "base_uri": "https://localhost:8080/"
    },
    "id": "I-ttrZoEr-Zb",
    "outputId": "0cf52ebc-936e-49f7-d4fc-f0d14445196e"
   },
   "outputs": [
    {
     "name": "stdout",
     "output_type": "stream",
     "text": [
      "['.ipynb_checkpoints', '.log', 'Available Sheets.png', 'Baseline_Dataset_EDA.ipynb', 'Datasets', 'data_analytics_model_on_behavioural_challenges_of_asd_kids.csv', 'data_csv.csv', 'Nadig.xlsx', 'Nadig_EDA.html', 'Omdena_ASD_Predictor_MVP_template - Copy.ipynb', 'Omdena_ASD_Predictor_MVP_template.ipynb', 'Research', 'Teamate', 'Toddler Autism dataset July 2018.csv', 'Toddler data description.docx', 'Toddler Proportion Comparison across Datasets.ipynb', 'your_report.html', 'Zoom Recordings']\n"
     ]
    }
   ],
   "source": [
    "# list files in colab folder\n",
    "print(os.listdir(\".\"))"
   ]
  },
  {
   "cell_type": "code",
   "execution_count": 10,
   "id": "6bGRmZA7m264",
   "metadata": {
    "colab": {
     "base_uri": "https://localhost:8080/"
    },
    "id": "6bGRmZA7m264",
    "outputId": "bd4d9352-547c-4705-f7a0-3c50f4e1512e"
   },
   "outputs": [
    {
     "data": {
      "text/plain": [
       "38"
      ]
     },
     "execution_count": 10,
     "metadata": {},
     "output_type": "execute_result"
    }
   ],
   "source": [
    "nadig = pylangacq.read_chat( \"Datasets/NLP/textual/Nadig.zip\" )\n",
    "nadig.n_files() # how many chat files are present for this data"
   ]
  },
  {
   "cell_type": "code",
   "execution_count": 11,
   "id": "afeaa0c6",
   "metadata": {
    "scrolled": true
   },
   "outputs": [
    {
     "name": "stdout",
     "output_type": "stream",
     "text": [
      "38 files\n",
      "9453 utterances\n",
      "46271 words\n",
      "       Utterance Count    Word Count  File Path\n",
      "---  -----------------  ------------  -------------\n",
      "#1                 292          1679  Nadig\\101.cha\n",
      "#2                 312          1512  Nadig\\102.cha\n",
      "#3                 230          1305  Nadig\\103.cha\n",
      "#4                 245          1076  Nadig\\104.cha\n",
      "#5                 180          1022  Nadig\\108.cha\n",
      "#6                 242          1462  Nadig\\109.cha\n",
      "#7                 231          1198  Nadig\\110.cha\n",
      "#8                 167          1143  Nadig\\111.cha\n",
      "#9                 197           857  Nadig\\115.cha\n",
      "#10                337          1941  Nadig\\117.cha\n",
      "#11                186           900  Nadig\\119.cha\n",
      "#12                173           670  Nadig\\120.cha\n",
      "#13                304          1879  Nadig\\121.cha\n",
      "#14                237          1397  Nadig\\122.cha\n",
      "#15                323          2010  Nadig\\123.cha\n",
      "#16                284          1207  Nadig\\124.cha\n",
      "#17                402          1318  Nadig\\125.cha\n",
      "#18                323          1229  Nadig\\126.cha\n",
      "#19                184           813  Nadig\\127.cha\n",
      "#20                331          1219  Nadig\\128.cha\n",
      "#21                275          1478  Nadig\\132.cha\n",
      "#22                231          1034  Nadig\\133.cha\n",
      "#23                353          1550  Nadig\\134.cha\n",
      "#24                245          1350  Nadig\\135.cha\n",
      "#25                202          1163  Nadig\\138.cha\n",
      "#26                253          1395  Nadig\\139.cha\n",
      "#27                 54           276  Nadig\\140.cha\n",
      "#28                267          1313  Nadig\\141.cha\n",
      "#29                314          1405  Nadig\\143.cha\n",
      "#30                172           841  Nadig\\145.cha\n",
      "#31                345          1652  Nadig\\149.cha\n",
      "#32                311          1224  Nadig\\157.cha\n",
      "#33                163           666  Nadig\\159.cha\n",
      "#34                152           747  Nadig\\161.cha\n",
      "#35                213           778  Nadig\\163.cha\n",
      "#36                290          1298  Nadig\\165.cha\n",
      "#37                179           936  Nadig\\167.cha\n",
      "#38                254          1328  Nadig\\169.cha\n"
     ]
    }
   ],
   "source": [
    "# Gettting the high level information of the .cha files present in zip file\n",
    "nadig.info(verbose=True)"
   ]
  },
  {
   "cell_type": "code",
   "execution_count": 12,
   "id": "90409ca4",
   "metadata": {
    "scrolled": true
   },
   "outputs": [
    {
     "data": {
      "text/plain": [
       "[42.166666666666664,\n",
       " 50.13333333333333,\n",
       " 31.7,\n",
       " 43.06666666666667,\n",
       " 78.9,\n",
       " 37.0,\n",
       " 73.0,\n",
       " 34.43333333333333,\n",
       " 52.7,\n",
       " 37.36666666666667,\n",
       " 32.0,\n",
       " 42.833333333333336,\n",
       " 32.53333333333333,\n",
       " 58.56666666666667,\n",
       " 34.2,\n",
       " 61.7,\n",
       " 23.633333333333333,\n",
       " 64.83333333333333,\n",
       " 37.166666666666664,\n",
       " 52.43333333333333,\n",
       " 75.33333333333333,\n",
       " 23.166666666666668,\n",
       " 63.233333333333334,\n",
       " 31.666666666666668,\n",
       " 65.5,\n",
       " 32.266666666666666,\n",
       " 58.93333333333333,\n",
       " 31.9,\n",
       " 28.8,\n",
       " 26.166666666666668,\n",
       " 27.4,\n",
       " 26.966666666666665,\n",
       " 26.1,\n",
       " 22.933333333333334,\n",
       " 20.966666666666665,\n",
       " 20.466666666666665,\n",
       " 43.53333333333333,\n",
       " 42.96666666666667]"
      ]
     },
     "execution_count": 12,
     "metadata": {},
     "output_type": "execute_result"
    }
   ],
   "source": [
    "nadig.ages(months=True)"
   ]
  },
  {
   "cell_type": "code",
   "execution_count": 13,
   "id": "d48d80c4",
   "metadata": {},
   "outputs": [
    {
     "name": "stdout",
     "output_type": "stream",
     "text": [
      "[43, 51, 32, 44, 79, 37, 73, 35, 53, 38, 32, 43, 33, 59, 35, 62, 24, 65, 38, 53, 76, 24, 64, 32, 66, 33, 59, 32, 29, 27, 28, 27, 27, 23, 21, 21, 44, 43]\n"
     ]
    }
   ],
   "source": [
    "# Get the toddlers age from the given files\n",
    "# First it is extracted in months which is floating and then converted to integer\n",
    "\n",
    "import math\n",
    "\n",
    "child_age_float = nadig.ages(months=True)\n",
    "\n",
    "child_age = [math.ceil(num) for num in child_age_float]\n",
    "\n",
    "print(child_age) \n"
   ]
  },
  {
   "cell_type": "code",
   "execution_count": 14,
   "id": "z_hb2JNXsf3z",
   "metadata": {
    "colab": {
     "base_uri": "https://localhost:8080/",
     "height": 1000
    },
    "id": "z_hb2JNXsf3z",
    "outputId": "d4bd13d0-6fce-4ac1-c2ce-eb44330aa4ad",
    "require": [
     "base/js/events",
     "datatables.net",
     "d3",
     "chartjs",
     "dt-config",
     "dt-components",
     "dt-graph-objects",
     "dt-toolbar",
     "dt-tooltips",
     "jupyter-datatables"
    ]
   },
   "outputs": [
    {
     "data": {
      "text/plain": [
       "['ASD',\n",
       " 'age_in_months',\n",
       " 'child_mlu',\n",
       " 'percent_child_parents_mlu',\n",
       " 'child_mluw',\n",
       " 'percent_child_parents_mluw',\n",
       " 'child_ttr',\n",
       " 'percent_child_parents_ttr',\n",
       " 'child_ipsyn',\n",
       " 'percent_child_parents_ipsyn',\n",
       " 'child_num_words',\n",
       " 'perct_child_parents_words',\n",
       " 'child_num_unique_words',\n",
       " 'perct_child_parents_unique_words',\n",
       " 'child_num_tokens',\n",
       " 'perct_child_parents_tokens',\n",
       " 'child_utterances',\n",
       " 'perct_child_parents_utterances',\n",
       " 'pos_percent_co',\n",
       " 'pos_percent_.',\n",
       " 'pos_percent_None',\n",
       " 'pos_percent_n',\n",
       " 'pos_percent_v',\n",
       " 'pos_percent_!',\n",
       " 'pos_percent_pro:sub',\n",
       " 'pos_percent_adv',\n",
       " 'pos_percent_neg',\n",
       " 'pos_percent_qn',\n",
       " 'pos_percent_?',\n",
       " 'pos_percent_prep',\n",
       " 'pos_percent_mod',\n",
       " 'pos_percent_pro:per',\n",
       " 'pos_percent_pro:dem',\n",
       " 'pos_percent_adj',\n",
       " 'pos_percent_pro:rel',\n",
       " 'pos_percent_det:art',\n",
       " 'pos_percent_pro:int',\n",
       " 'pos_percent_aux',\n",
       " 'pos_percent_cop',\n",
       " 'pos_percent_+...',\n",
       " 'pos_percent_inf',\n",
       " 'pos_percent_conj',\n",
       " 'pos_percent_coord',\n",
       " 'pos_percent_+!?',\n",
       " 'pos_percent_post',\n",
       " 'pos_percent_pro:indef',\n",
       " 'pos_percent_part',\n",
       " 'pos_percent_det:poss',\n",
       " 'pos_percent_pro:obj',\n",
       " 'pos_percent_cm',\n",
       " 'pos_percent_det:num',\n",
       " 'pos_percent_adv:tem',\n",
       " 'pos_percent_+/.',\n",
       " 'pos_percent_det:dem',\n",
       " 'pos_percent_pro:exist',\n",
       " 'pos_percent_comp',\n",
       " 'pos_percent_n:prop',\n",
       " 'pos_percent_mid#n',\n",
       " 'pos_percent_on',\n",
       " 'pos_percent_re#v',\n",
       " 'pos_percent_n:gerund',\n",
       " 'pos_percent_sub#n',\n",
       " 'pos_percent_n:pt',\n",
       " 'pos_percent_pro:refl',\n",
       " 'pos_percent_un#part',\n",
       " 'pos_percent_L2',\n",
       " 'pos_percent_chi',\n",
       " 'pos_percent_pro:poss',\n",
       " 'pos_percent_n:let',\n",
       " 'pos_percent_bab',\n",
       " 'pos_percent_sing']"
      ]
     },
     "metadata": {},
     "output_type": "display_data"
    },
    {
     "data": {
      "text/html": [
       "<div>\n",
       "<style scoped>\n",
       "    .dataframe tbody tr th:only-of-type {\n",
       "        vertical-align: middle;\n",
       "    }\n",
       "\n",
       "    .dataframe tbody tr th {\n",
       "        vertical-align: top;\n",
       "    }\n",
       "\n",
       "    .dataframe thead th {\n",
       "        text-align: right;\n",
       "    }\n",
       "</style>\n",
       "<table border=\"1\" class=\"dataframe\">\n",
       "  <thead>\n",
       "    <tr style=\"text-align: right;\">\n",
       "      <th></th>\n",
       "      <th>ASD</th>\n",
       "      <th>age_in_months</th>\n",
       "      <th>child_mlu</th>\n",
       "      <th>percent_child_parents_mlu</th>\n",
       "      <th>child_mluw</th>\n",
       "      <th>percent_child_parents_mluw</th>\n",
       "      <th>child_ttr</th>\n",
       "      <th>percent_child_parents_ttr</th>\n",
       "      <th>child_ipsyn</th>\n",
       "      <th>percent_child_parents_ipsyn</th>\n",
       "      <th>...</th>\n",
       "      <th>pos_percent_sub#n</th>\n",
       "      <th>pos_percent_n:pt</th>\n",
       "      <th>pos_percent_pro:refl</th>\n",
       "      <th>pos_percent_un#part</th>\n",
       "      <th>pos_percent_L2</th>\n",
       "      <th>pos_percent_chi</th>\n",
       "      <th>pos_percent_pro:poss</th>\n",
       "      <th>pos_percent_n:let</th>\n",
       "      <th>pos_percent_bab</th>\n",
       "      <th>pos_percent_sing</th>\n",
       "    </tr>\n",
       "  </thead>\n",
       "  <tbody>\n",
       "    <tr>\n",
       "      <th>30</th>\n",
       "      <td>TYP</td>\n",
       "      <td>28</td>\n",
       "      <td>1.952</td>\n",
       "      <td>0.341</td>\n",
       "      <td>1.382</td>\n",
       "      <td>0.302</td>\n",
       "      <td>0.438</td>\n",
       "      <td>1.827</td>\n",
       "      <td>42</td>\n",
       "      <td>0.494</td>\n",
       "      <td>...</td>\n",
       "      <td>NaN</td>\n",
       "      <td>NaN</td>\n",
       "      <td>NaN</td>\n",
       "      <td>NaN</td>\n",
       "      <td>0.042</td>\n",
       "      <td>NaN</td>\n",
       "      <td>NaN</td>\n",
       "      <td>NaN</td>\n",
       "      <td>NaN</td>\n",
       "      <td>NaN</td>\n",
       "    </tr>\n",
       "    <tr>\n",
       "      <th>0</th>\n",
       "      <td>TYP</td>\n",
       "      <td>43</td>\n",
       "      <td>2.641</td>\n",
       "      <td>0.398</td>\n",
       "      <td>2.604</td>\n",
       "      <td>0.472</td>\n",
       "      <td>0.558</td>\n",
       "      <td>2.215</td>\n",
       "      <td>61</td>\n",
       "      <td>0.701</td>\n",
       "      <td>...</td>\n",
       "      <td>NaN</td>\n",
       "      <td>NaN</td>\n",
       "      <td>NaN</td>\n",
       "      <td>NaN</td>\n",
       "      <td>NaN</td>\n",
       "      <td>NaN</td>\n",
       "      <td>NaN</td>\n",
       "      <td>NaN</td>\n",
       "      <td>NaN</td>\n",
       "      <td>NaN</td>\n",
       "    </tr>\n",
       "    <tr>\n",
       "      <th>11</th>\n",
       "      <td>ASD</td>\n",
       "      <td>43</td>\n",
       "      <td>2.568</td>\n",
       "      <td>0.651</td>\n",
       "      <td>1.816</td>\n",
       "      <td>0.626</td>\n",
       "      <td>0.435</td>\n",
       "      <td>1.465</td>\n",
       "      <td>20</td>\n",
       "      <td>0.328</td>\n",
       "      <td>...</td>\n",
       "      <td>NaN</td>\n",
       "      <td>NaN</td>\n",
       "      <td>NaN</td>\n",
       "      <td>NaN</td>\n",
       "      <td>0.009</td>\n",
       "      <td>NaN</td>\n",
       "      <td>NaN</td>\n",
       "      <td>NaN</td>\n",
       "      <td>NaN</td>\n",
       "      <td>NaN</td>\n",
       "    </tr>\n",
       "    <tr>\n",
       "      <th>37</th>\n",
       "      <td>TYP</td>\n",
       "      <td>43</td>\n",
       "      <td>3.742</td>\n",
       "      <td>0.648</td>\n",
       "      <td>2.982</td>\n",
       "      <td>0.679</td>\n",
       "      <td>0.494</td>\n",
       "      <td>1.639</td>\n",
       "      <td>55</td>\n",
       "      <td>0.733</td>\n",
       "      <td>...</td>\n",
       "      <td>NaN</td>\n",
       "      <td>NaN</td>\n",
       "      <td>NaN</td>\n",
       "      <td>NaN</td>\n",
       "      <td>NaN</td>\n",
       "      <td>NaN</td>\n",
       "      <td>NaN</td>\n",
       "      <td>NaN</td>\n",
       "      <td>NaN</td>\n",
       "      <td>NaN</td>\n",
       "    </tr>\n",
       "    <tr>\n",
       "      <th>6</th>\n",
       "      <td>ASD</td>\n",
       "      <td>73</td>\n",
       "      <td>3.625</td>\n",
       "      <td>0.639</td>\n",
       "      <td>3.410</td>\n",
       "      <td>0.793</td>\n",
       "      <td>0.526</td>\n",
       "      <td>2.072</td>\n",
       "      <td>53</td>\n",
       "      <td>0.654</td>\n",
       "      <td>...</td>\n",
       "      <td>NaN</td>\n",
       "      <td>NaN</td>\n",
       "      <td>NaN</td>\n",
       "      <td>NaN</td>\n",
       "      <td>NaN</td>\n",
       "      <td>NaN</td>\n",
       "      <td>NaN</td>\n",
       "      <td>NaN</td>\n",
       "      <td>NaN</td>\n",
       "      <td>NaN</td>\n",
       "    </tr>\n",
       "    <tr>\n",
       "      <th>35</th>\n",
       "      <td>TYP</td>\n",
       "      <td>21</td>\n",
       "      <td>1.096</td>\n",
       "      <td>0.224</td>\n",
       "      <td>1.000</td>\n",
       "      <td>0.249</td>\n",
       "      <td>0.733</td>\n",
       "      <td>2.632</td>\n",
       "      <td>4</td>\n",
       "      <td>0.059</td>\n",
       "      <td>...</td>\n",
       "      <td>NaN</td>\n",
       "      <td>NaN</td>\n",
       "      <td>NaN</td>\n",
       "      <td>NaN</td>\n",
       "      <td>NaN</td>\n",
       "      <td>NaN</td>\n",
       "      <td>NaN</td>\n",
       "      <td>NaN</td>\n",
       "      <td>0.075</td>\n",
       "      <td>NaN</td>\n",
       "    </tr>\n",
       "    <tr>\n",
       "      <th>17</th>\n",
       "      <td>ASD</td>\n",
       "      <td>65</td>\n",
       "      <td>1.389</td>\n",
       "      <td>0.317</td>\n",
       "      <td>1.125</td>\n",
       "      <td>0.320</td>\n",
       "      <td>0.254</td>\n",
       "      <td>1.144</td>\n",
       "      <td>15</td>\n",
       "      <td>0.197</td>\n",
       "      <td>...</td>\n",
       "      <td>NaN</td>\n",
       "      <td>NaN</td>\n",
       "      <td>NaN</td>\n",
       "      <td>NaN</td>\n",
       "      <td>NaN</td>\n",
       "      <td>NaN</td>\n",
       "      <td>NaN</td>\n",
       "      <td>NaN</td>\n",
       "      <td>NaN</td>\n",
       "      <td>NaN</td>\n",
       "    </tr>\n",
       "  </tbody>\n",
       "</table>\n",
       "<p>7 rows × 71 columns</p>\n",
       "</div>"
      ],
      "text/plain": [
       "    ASD  age_in_months  child_mlu  percent_child_parents_mlu  child_mluw  \\\n",
       "30  TYP             28      1.952                      0.341       1.382   \n",
       "0   TYP             43      2.641                      0.398       2.604   \n",
       "11  ASD             43      2.568                      0.651       1.816   \n",
       "37  TYP             43      3.742                      0.648       2.982   \n",
       "6   ASD             73      3.625                      0.639       3.410   \n",
       "35  TYP             21      1.096                      0.224       1.000   \n",
       "17  ASD             65      1.389                      0.317       1.125   \n",
       "\n",
       "    percent_child_parents_mluw  child_ttr  percent_child_parents_ttr  \\\n",
       "30                       0.302      0.438                      1.827   \n",
       "0                        0.472      0.558                      2.215   \n",
       "11                       0.626      0.435                      1.465   \n",
       "37                       0.679      0.494                      1.639   \n",
       "6                        0.793      0.526                      2.072   \n",
       "35                       0.249      0.733                      2.632   \n",
       "17                       0.320      0.254                      1.144   \n",
       "\n",
       "    child_ipsyn  percent_child_parents_ipsyn  ...  pos_percent_sub#n  \\\n",
       "30           42                        0.494  ...                NaN   \n",
       "0            61                        0.701  ...                NaN   \n",
       "11           20                        0.328  ...                NaN   \n",
       "37           55                        0.733  ...                NaN   \n",
       "6            53                        0.654  ...                NaN   \n",
       "35            4                        0.059  ...                NaN   \n",
       "17           15                        0.197  ...                NaN   \n",
       "\n",
       "    pos_percent_n:pt  pos_percent_pro:refl  pos_percent_un#part  \\\n",
       "30               NaN                   NaN                  NaN   \n",
       "0                NaN                   NaN                  NaN   \n",
       "11               NaN                   NaN                  NaN   \n",
       "37               NaN                   NaN                  NaN   \n",
       "6                NaN                   NaN                  NaN   \n",
       "35               NaN                   NaN                  NaN   \n",
       "17               NaN                   NaN                  NaN   \n",
       "\n",
       "    pos_percent_L2  pos_percent_chi  pos_percent_pro:poss  pos_percent_n:let  \\\n",
       "30           0.042              NaN                   NaN                NaN   \n",
       "0              NaN              NaN                   NaN                NaN   \n",
       "11           0.009              NaN                   NaN                NaN   \n",
       "37             NaN              NaN                   NaN                NaN   \n",
       "6              NaN              NaN                   NaN                NaN   \n",
       "35             NaN              NaN                   NaN                NaN   \n",
       "17             NaN              NaN                   NaN                NaN   \n",
       "\n",
       "    pos_percent_bab  pos_percent_sing  \n",
       "30              NaN               NaN  \n",
       "0               NaN               NaN  \n",
       "11              NaN               NaN  \n",
       "37              NaN               NaN  \n",
       "6               NaN               NaN  \n",
       "35            0.075               NaN  \n",
       "17              NaN               NaN  \n",
       "\n",
       "[7 rows x 71 columns]"
      ]
     },
     "metadata": {},
     "output_type": "display_data"
    }
   ],
   "source": [
    "# create an empty dataframe \n",
    "df_extraction = pd.DataFrame()\n",
    "\n",
    "# iterate over transcripts\n",
    "for nadig_i in nadig:\n",
    "    # create a dictionary for extracted features\n",
    "    features_dict = {}\n",
    "    \n",
    "    ####### add values to dataframe #######\n",
    "    # add ASD label\n",
    "    features_dict[\"ASD\"] = nadig_i.headers()[0][\"Participants\"][\"CHI\"][\"group\"]\n",
    "    \n",
    "    # get age of the child in months\n",
    "    features_dict[\"age_in_months\"] = math.ceil(nadig_i.ages(months=True)[0])\n",
    "    \n",
    "    # get non-child participants tags\n",
    "    non_child_participants = list(nadig_i.headers()[0][\"Participants\"].keys())\n",
    "    non_child_participants.remove('CHI')\n",
    "\n",
    "    # get mlu\n",
    "    child_mlu = nadig_i.mlu(participant='CHI')[0]    \n",
    "    # get mean mlu for non-child participants\n",
    "    mean_mlu_non_child = np.mean([nadig_i.mlu(participant=non_child)[0] \n",
    "                                  for non_child \n",
    "                                  in non_child_participants])\n",
    "    # add child mlu\n",
    "    features_dict[\"child_mlu\"] = child_mlu\n",
    "    # get percentage of child mlu / non-child mean mlu\n",
    "    features_dict[\"percent_child_parents_mlu\"] = child_mlu / mean_mlu_non_child\n",
    "\n",
    "    # get mluw\n",
    "    child_mluw = nadig_i.mluw(participant='CHI')[0]\n",
    "    # get mean mluw for non-child participants\n",
    "    mean_mluw_non_child = np.mean([nadig_i.mluw(participant=non_child)[0] \n",
    "                                   for non_child \n",
    "                                   in non_child_participants])\n",
    "    # add child mluw\n",
    "    features_dict[\"child_mluw\"] = child_mluw\n",
    "    # get percentage of child mluw / non-child mean mluw\n",
    "    features_dict[\"percent_child_parents_mluw\"] = child_mluw / mean_mluw_non_child\n",
    "\n",
    "    # get ttr\n",
    "    child_ttr = nadig_i.ttr(participant='CHI')[0]\n",
    "    # get mean ttr for non-child participants\n",
    "    mean_ttr_non_child = np.mean([nadig_i.ttr(participant=non_child)[0] \n",
    "                                  for non_child \n",
    "                                  in non_child_participants])\n",
    "    # add child ttr\n",
    "    features_dict[\"child_ttr\"] = child_ttr\n",
    "    # get percentage of child ttr / non-child mean ttr\n",
    "    features_dict[\"percent_child_parents_ttr\"] = child_ttr / mean_ttr_non_child\n",
    "\n",
    "    # get ipsyn\n",
    "    child_ipsyn = nadig_i.ipsyn(participant='CHI')[0]\n",
    "    # get mean ipsyn for non-child participants\n",
    "    mean_ipsyn_non_child = np.mean([nadig_i.ipsyn(participant=non_child)[0] \n",
    "                                    for non_child \n",
    "                                    in non_child_participants])\n",
    "    # add child ipsyn\n",
    "    features_dict[\"child_ipsyn\"] = child_ipsyn\n",
    "    # get percentage of child ipsyn / non-child mean ipsyn\n",
    "    features_dict[\"percent_child_parents_ipsyn\"] = child_ipsyn / mean_ipsyn_non_child\n",
    "\n",
    "    # get number of words\n",
    "    features_dict[\"child_num_words\"] = len(nadig_i.words(participants=\"CHI\"))\n",
    "    # get percentage of child words / parent words\n",
    "    features_dict[\"perct_child_parents_words\"] = len(nadig_i.words(participants=\"CHI\")) / len(nadig_i.words(exclude=(\"CHI\")))\n",
    "    # get number of unique words\n",
    "    features_dict[\"child_num_unique_words\"] = len(set(nadig_i.words(participants=\"CHI\")))\n",
    "    # get percentage of child unique words / parent unique words\n",
    "    features_dict[\"perct_child_parents_unique_words\"] = len(set(nadig_i.words(participants=\"CHI\"))) / len(set(nadig_i.words(exclude=(\"CHI\"))))\n",
    "    # get number of tokens\n",
    "    features_dict[\"child_num_tokens\"] = len(nadig_i.tokens(participants=\"CHI\"))\n",
    "    # get percentage of child tokens / parent tokens\n",
    "    features_dict[\"perct_child_parents_tokens\"] = len(nadig_i.tokens(participants=\"CHI\")) / len(nadig_i.tokens(exclude=(\"CHI\")))\n",
    "    # get number of utterances\n",
    "    features_dict[\"child_utterances\"] = len(nadig_i.utterances(participants=\"CHI\"))\n",
    "    # get percentage of child utterances / parent utterances\n",
    "    features_dict[\"perct_child_parents_utterances\"] = len(nadig_i.utterances(participants=\"CHI\")) / len(nadig_i.utterances(exclude=\"CHI\"))\n",
    "\n",
    "    # get part of speech (POS) for every token in child utterances\n",
    "    child_pos = [token.pos for token in nadig_i.tokens(participants=\"CHI\")]   \n",
    "    # get number of tokens\n",
    "    num_tokens = features_dict[\"child_num_tokens\"]\n",
    "    # sanity check\n",
    "    assert num_tokens == len(child_pos), \"Missing POS tags!\"\n",
    "    \n",
    "    # get values counts for pos\n",
    "    pos_value_counts = pd.Series(child_pos).value_counts(dropna=False)\n",
    "    # convert to dict\n",
    "    pos_value_counts_dict = pos_value_counts.to_dict()\n",
    "    # add pos_ prefix before pos tags\n",
    "    pos_value_counts_dict = { (\"pos_percent_\" + str(k)): (v / num_tokens) for k, v in pos_value_counts_dict.items() }\n",
    "    # sanity check \n",
    "    assert abs(1 - sum([*pos_value_counts_dict.values()])) < 0.01, \"Missing POS tags!\"\n",
    "    \n",
    "    # add pos_value_counts_dict to features_dict\n",
    "    features_dict = {**features_dict, **pos_value_counts_dict}\n",
    "    # create a pandas dataframe from features dict\n",
    "    df_features = pd.DataFrame(data=features_dict, index=[0])\n",
    "    # concatenate features dataframe with extraction dataframe\n",
    "    df_extraction = pd.concat(objs=[df_extraction, df_features], ignore_index=True)\n",
    "\n",
    "# inspect dataframe\n",
    "display(df_extraction.columns.tolist(), df_extraction.sample(7))"
   ]
  },
  {
   "cell_type": "code",
   "execution_count": 15,
   "id": "xNOezzdZp9uh",
   "metadata": {
    "id": "xNOezzdZp9uh"
   },
   "outputs": [],
   "source": [
    "# print(\n",
    "#     len(nadig.mlu(participant='CHI')),\n",
    "#     len(nadig.mluw(participant='CHI'))\n",
    "#         )\n",
    "\n",
    "# # tagged_words -> Deprecated since version 0.13.0: Please use tokens() with by_utterances=False instead.\n",
    "# # tokens(participants=None, exclude=None, by_utterances=False, by_files=False) → Union[List[pylangacq.objects.Token], List[List[pylangacq.objects.Token]], List[List[List[pylangacq.objects.Token]]]]\n",
    "# # ttr(keep_case=True, participant='CHI') → List[float\n",
    "# # utterances(participants=None, exclude=None, by_files=False) → Union[List[pylangacq.objects.Utterance], List[List[pylangacq.objects.Utterance]]]\n",
    "# # ipsyn(participant='CHI') → List[int][source] -> Return the indexes of productive syntax (IPSyn)."
   ]
  },
  {
   "cell_type": "code",
   "execution_count": 16,
   "id": "Tljql138n0GK",
   "metadata": {
    "id": "Tljql138n0GK"
   },
   "outputs": [],
   "source": [
    "# nadig_utterance = nadig.utterances(by_files = True) # get all the utterrance of the chat files of Nadig chat data\n",
    "# print(len(nadig_utterance))\n",
    "# nadig_utterance[0][0] # describe the first utterrance in the first conversation."
   ]
  },
  {
   "cell_type": "code",
   "execution_count": 17,
   "id": "VHLi_J15n0xe",
   "metadata": {
    "id": "VHLi_J15n0xe"
   },
   "outputs": [],
   "source": [
    "# first_utter = nadig_utterance[0][0]\n",
    "# participant = first_utter.participant #Get participant name of the utterrance\n",
    "# list_of_tokens = first_utter.tokens #Get the tokens of the utterrance\n",
    "\n",
    "# print(f'Participant: {participant}')\n",
    "# print(f'Tokens: ')\n",
    "# #Let's anaylyse each token\n",
    "# for i, token in enumerate(list_of_tokens):\n",
    "#   print(f'token {i+1}: {token}')\n",
    "#   token_word = token.word #extract the word of token\n",
    "#   print(f'\\t token word: {token_word}')\n",
    "#   token_pos = token.pos #get the parts of speech of the token\n",
    "#   print(f'\\t token pos: {token_pos}')\n",
    "#   token_mor = token.mor #get the morphological information of the token\n",
    "#   print(f'\\t token mor: {token_mor}')\n",
    "#   token_gra = token.gra #get the grammatical info. of the token\n",
    "#   print(f'\\t token gra: {token_gra}: {token_gra.dep} | {token_gra.head} | {token_gra.rel}')"
   ]
  },
  {
   "cell_type": "code",
   "execution_count": 18,
   "id": "12xSBuhfn1FO",
   "metadata": {
    "id": "12xSBuhfn1FO"
   },
   "outputs": [],
   "source": [
    "# tier = first_utter.tiers #tier is a dictionary that contains the utterrance, %mor and %gra info in a summarised form\n",
    "# print(tier)\n",
    "# utter_sentence = tier[participant] #get the dialogue sentence\n",
    "# print(f'sentence: {utter_sentence}')\n",
    "# morphological_info = tier['%mor'] #get the morphological info of all the words\n",
    "# print(f'%mor: {morphological_info}')\n",
    "# grammatical_info = tier['%gra'] #get the grammatical relation info of all the words\n",
    "# print(f'%gra: {grammatical_info}')\n",
    "     "
   ]
  },
  {
   "cell_type": "code",
   "execution_count": 19,
   "id": "7f9e9015-9810-47b0-8187-e9cff9885b22",
   "metadata": {
    "id": "7f9e9015-9810-47b0-8187-e9cff9885b22"
   },
   "outputs": [],
   "source": [
    "# # instanciate an empty dataframe\n",
    "# df_extraction = pd.DataFrame(columns=[\"participant\", \"sentence\", \"csv\"])\n",
    "\n",
    "# # iterate over files and get names from csv files\n",
    "# csv_files = [file for file in os.listdir(\".\") if file.endswith(\".csv\")]\n",
    "\n",
    "# # iterate over csv names\n",
    "# for csv in csv_files:\n",
    "#     # read csv data\n",
    "#     df_ = pd.read_csv(csv)\n",
    "#     # create a new row to indicate source origin\n",
    "#     df_[\"csv\"] = int(csv[:-4])\n",
    "#     # concatenate csv data to main dataframe    \n",
    "#     df_extraction = pd.concat(objs=[df_, df_extraction])\n",
    "\n",
    "# # print unique participants and a sample of dataframe\n",
    "# print(f'Unique participants: {df_extraction[\"participant\"].unique()}')\n",
    "# display(df_extraction.sample(10, random_state=7))"
   ]
  },
  {
   "cell_type": "markdown",
   "id": "11a6ad33-826c-4fab-bf1a-c78507176f69",
   "metadata": {
    "id": "11a6ad33-826c-4fab-bf1a-c78507176f69"
   },
   "source": [
    "# 3 - DATA DESCRIPTION"
   ]
  },
  {
   "cell_type": "markdown",
   "id": "31c82291-5ce8-47fe-bce7-4b422750f8df",
   "metadata": {
    "id": "31c82291-5ce8-47fe-bce7-4b422750f8df"
   },
   "source": [
    "## 3.1 - Restore Point"
   ]
  },
  {
   "cell_type": "markdown",
   "id": "6003f2c1-705b-4be0-b623-d6cad51de9b9",
   "metadata": {
    "id": "6003f2c1-705b-4be0-b623-d6cad51de9b9"
   },
   "source": [
    "*Create a checkpoint of the last dataframe from previous section*"
   ]
  },
  {
   "cell_type": "code",
   "execution_count": 20,
   "id": "892a84ee-b475-4942-81ad-fdd2c0bc4c83",
   "metadata": {
    "colab": {
     "base_uri": "https://localhost:8080/",
     "height": 237
    },
    "id": "892a84ee-b475-4942-81ad-fdd2c0bc4c83",
    "outputId": "4a063ad1-c95d-4795-b520-d1b56cd243f0",
    "require": [
     "base/js/events",
     "datatables.net",
     "d3",
     "chartjs",
     "dt-config",
     "dt-components",
     "dt-graph-objects",
     "dt-toolbar",
     "dt-tooltips",
     "jupyter-datatables"
    ]
   },
   "outputs": [
    {
     "data": {
      "text/html": [
       "<div>\n",
       "<style scoped>\n",
       "    .dataframe tbody tr th:only-of-type {\n",
       "        vertical-align: middle;\n",
       "    }\n",
       "\n",
       "    .dataframe tbody tr th {\n",
       "        vertical-align: top;\n",
       "    }\n",
       "\n",
       "    .dataframe thead th {\n",
       "        text-align: right;\n",
       "    }\n",
       "</style>\n",
       "<table border=\"1\" class=\"dataframe\">\n",
       "  <thead>\n",
       "    <tr style=\"text-align: right;\">\n",
       "      <th></th>\n",
       "      <th>ASD</th>\n",
       "      <th>age_in_months</th>\n",
       "      <th>child_mlu</th>\n",
       "      <th>percent_child_parents_mlu</th>\n",
       "      <th>child_mluw</th>\n",
       "      <th>percent_child_parents_mluw</th>\n",
       "      <th>child_ttr</th>\n",
       "      <th>percent_child_parents_ttr</th>\n",
       "      <th>child_ipsyn</th>\n",
       "      <th>percent_child_parents_ipsyn</th>\n",
       "      <th>...</th>\n",
       "      <th>pos_percent_sub#n</th>\n",
       "      <th>pos_percent_n:pt</th>\n",
       "      <th>pos_percent_pro:refl</th>\n",
       "      <th>pos_percent_un#part</th>\n",
       "      <th>pos_percent_L2</th>\n",
       "      <th>pos_percent_chi</th>\n",
       "      <th>pos_percent_pro:poss</th>\n",
       "      <th>pos_percent_n:let</th>\n",
       "      <th>pos_percent_bab</th>\n",
       "      <th>pos_percent_sing</th>\n",
       "    </tr>\n",
       "  </thead>\n",
       "  <tbody>\n",
       "    <tr>\n",
       "      <th>5</th>\n",
       "      <td>TYP</td>\n",
       "      <td>37</td>\n",
       "      <td>4.358</td>\n",
       "      <td>0.634</td>\n",
       "      <td>3.672</td>\n",
       "      <td>0.665</td>\n",
       "      <td>0.443</td>\n",
       "      <td>1.496</td>\n",
       "      <td>77</td>\n",
       "      <td>0.885</td>\n",
       "      <td>...</td>\n",
       "      <td>NaN</td>\n",
       "      <td>NaN</td>\n",
       "      <td>NaN</td>\n",
       "      <td>NaN</td>\n",
       "      <td>NaN</td>\n",
       "      <td>NaN</td>\n",
       "      <td>NaN</td>\n",
       "      <td>NaN</td>\n",
       "      <td>NaN</td>\n",
       "      <td>NaN</td>\n",
       "    </tr>\n",
       "    <tr>\n",
       "      <th>21</th>\n",
       "      <td>TYP</td>\n",
       "      <td>24</td>\n",
       "      <td>1.051</td>\n",
       "      <td>0.218</td>\n",
       "      <td>1.000</td>\n",
       "      <td>0.255</td>\n",
       "      <td>1.000</td>\n",
       "      <td>4.445</td>\n",
       "      <td>3</td>\n",
       "      <td>0.043</td>\n",
       "      <td>...</td>\n",
       "      <td>NaN</td>\n",
       "      <td>NaN</td>\n",
       "      <td>NaN</td>\n",
       "      <td>NaN</td>\n",
       "      <td>NaN</td>\n",
       "      <td>NaN</td>\n",
       "      <td>NaN</td>\n",
       "      <td>NaN</td>\n",
       "      <td>0.024</td>\n",
       "      <td>NaN</td>\n",
       "    </tr>\n",
       "    <tr>\n",
       "      <th>22</th>\n",
       "      <td>ASD</td>\n",
       "      <td>64</td>\n",
       "      <td>1.444</td>\n",
       "      <td>0.269</td>\n",
       "      <td>1.344</td>\n",
       "      <td>0.324</td>\n",
       "      <td>0.512</td>\n",
       "      <td>3.007</td>\n",
       "      <td>37</td>\n",
       "      <td>0.597</td>\n",
       "      <td>...</td>\n",
       "      <td>NaN</td>\n",
       "      <td>NaN</td>\n",
       "      <td>NaN</td>\n",
       "      <td>NaN</td>\n",
       "      <td>NaN</td>\n",
       "      <td>NaN</td>\n",
       "      <td>NaN</td>\n",
       "      <td>NaN</td>\n",
       "      <td>NaN</td>\n",
       "      <td>NaN</td>\n",
       "    </tr>\n",
       "  </tbody>\n",
       "</table>\n",
       "<p>3 rows × 71 columns</p>\n",
       "</div>"
      ],
      "text/plain": [
       "    ASD  age_in_months  child_mlu  percent_child_parents_mlu  child_mluw  \\\n",
       "5   TYP             37      4.358                      0.634       3.672   \n",
       "21  TYP             24      1.051                      0.218       1.000   \n",
       "22  ASD             64      1.444                      0.269       1.344   \n",
       "\n",
       "    percent_child_parents_mluw  child_ttr  percent_child_parents_ttr  \\\n",
       "5                        0.665      0.443                      1.496   \n",
       "21                       0.255      1.000                      4.445   \n",
       "22                       0.324      0.512                      3.007   \n",
       "\n",
       "    child_ipsyn  percent_child_parents_ipsyn  ...  pos_percent_sub#n  \\\n",
       "5            77                        0.885  ...                NaN   \n",
       "21            3                        0.043  ...                NaN   \n",
       "22           37                        0.597  ...                NaN   \n",
       "\n",
       "    pos_percent_n:pt  pos_percent_pro:refl  pos_percent_un#part  \\\n",
       "5                NaN                   NaN                  NaN   \n",
       "21               NaN                   NaN                  NaN   \n",
       "22               NaN                   NaN                  NaN   \n",
       "\n",
       "    pos_percent_L2  pos_percent_chi  pos_percent_pro:poss  pos_percent_n:let  \\\n",
       "5              NaN              NaN                   NaN                NaN   \n",
       "21             NaN              NaN                   NaN                NaN   \n",
       "22             NaN              NaN                   NaN                NaN   \n",
       "\n",
       "    pos_percent_bab  pos_percent_sing  \n",
       "5               NaN               NaN  \n",
       "21            0.024               NaN  \n",
       "22              NaN               NaN  \n",
       "\n",
       "[3 rows x 71 columns]"
      ]
     },
     "execution_count": 20,
     "metadata": {},
     "output_type": "execute_result"
    }
   ],
   "source": [
    "# create a restore point for the previous section dataframe\n",
    "df_description = df_extraction.copy()\n",
    "\n",
    "# check dataframe\n",
    "df_description.sample(3)"
   ]
  },
  {
   "cell_type": "markdown",
   "id": "c7b73eaf-1647-43bd-8029-139cbd8e1b94",
   "metadata": {
    "id": "c7b73eaf-1647-43bd-8029-139cbd8e1b94"
   },
   "source": [
    "## 3.2 - Column Names"
   ]
  },
  {
   "cell_type": "markdown",
   "id": "76b7d6f7-ad5b-4fb7-9bf7-c9f651144d4a",
   "metadata": {
    "id": "76b7d6f7-ad5b-4fb7-9bf7-c9f651144d4a"
   },
   "source": [
    "*Search for misleading or error-prone column names*"
   ]
  },
  {
   "cell_type": "code",
   "execution_count": 21,
   "id": "8951f194-ced8-40b5-979a-24a1aec9bc78",
   "metadata": {
    "colab": {
     "base_uri": "https://localhost:8080/"
    },
    "id": "8951f194-ced8-40b5-979a-24a1aec9bc78",
    "outputId": "14bd3ec3-9be5-44b5-efa8-53b63ea22933"
   },
   "outputs": [
    {
     "data": {
      "text/plain": [
       "Index(['ASD', 'age_in_months', 'child_mlu', 'percent_child_parents_mlu',\n",
       "       'child_mluw', 'percent_child_parents_mluw', 'child_ttr',\n",
       "       'percent_child_parents_ttr', 'child_ipsyn',\n",
       "       'percent_child_parents_ipsyn', 'child_num_words',\n",
       "       'perct_child_parents_words', 'child_num_unique_words',\n",
       "       'perct_child_parents_unique_words', 'child_num_tokens',\n",
       "       'perct_child_parents_tokens', 'child_utterances',\n",
       "       'perct_child_parents_utterances', 'pos_percent_co', 'pos_percent_.',\n",
       "       'pos_percent_None', 'pos_percent_n', 'pos_percent_v', 'pos_percent_!',\n",
       "       'pos_percent_pro:sub', 'pos_percent_adv', 'pos_percent_neg',\n",
       "       'pos_percent_qn', 'pos_percent_?', 'pos_percent_prep',\n",
       "       'pos_percent_mod', 'pos_percent_pro:per', 'pos_percent_pro:dem',\n",
       "       'pos_percent_adj', 'pos_percent_pro:rel', 'pos_percent_det:art',\n",
       "       'pos_percent_pro:int', 'pos_percent_aux', 'pos_percent_cop',\n",
       "       'pos_percent_+...', 'pos_percent_inf', 'pos_percent_conj',\n",
       "       'pos_percent_coord', 'pos_percent_+!?', 'pos_percent_post',\n",
       "       'pos_percent_pro:indef', 'pos_percent_part', 'pos_percent_det:poss',\n",
       "       'pos_percent_pro:obj', 'pos_percent_cm', 'pos_percent_det:num',\n",
       "       'pos_percent_adv:tem', 'pos_percent_+/.', 'pos_percent_det:dem',\n",
       "       'pos_percent_pro:exist', 'pos_percent_comp', 'pos_percent_n:prop',\n",
       "       'pos_percent_mid#n', 'pos_percent_on', 'pos_percent_re#v',\n",
       "       'pos_percent_n:gerund', 'pos_percent_sub#n', 'pos_percent_n:pt',\n",
       "       'pos_percent_pro:refl', 'pos_percent_un#part', 'pos_percent_L2',\n",
       "       'pos_percent_chi', 'pos_percent_pro:poss', 'pos_percent_n:let',\n",
       "       'pos_percent_bab', 'pos_percent_sing'],\n",
       "      dtype='object')"
      ]
     },
     "execution_count": 21,
     "metadata": {},
     "output_type": "execute_result"
    }
   ],
   "source": [
    "# check column names\n",
    "df_description.columns"
   ]
  },
  {
   "cell_type": "markdown",
   "id": "82df00c8-b83a-450e-944d-baa18b27e0fc",
   "metadata": {
    "id": "82df00c8-b83a-450e-944d-baa18b27e0fc"
   },
   "source": [
    "## 3.3 - Data Types"
   ]
  },
  {
   "cell_type": "markdown",
   "id": "eeff2471-88d2-4636-9d52-b59ea55116ca",
   "metadata": {
    "id": "eeff2471-88d2-4636-9d52-b59ea55116ca"
   },
   "source": [
    "*Check if data types on dataframe makes sense according to database information*"
   ]
  },
  {
   "cell_type": "code",
   "execution_count": 22,
   "id": "bb804129-bef8-4b98-9e02-4416e95aee68",
   "metadata": {
    "colab": {
     "base_uri": "https://localhost:8080/"
    },
    "id": "bb804129-bef8-4b98-9e02-4416e95aee68",
    "outputId": "095e7d5d-5a95-4147-836a-eaef721c3069"
   },
   "outputs": [
    {
     "data": {
      "text/plain": [
       "ASD                           object\n",
       "age_in_months                  int64\n",
       "child_mlu                    float64\n",
       "percent_child_parents_mlu    float64\n",
       "child_mluw                   float64\n",
       "                              ...   \n",
       "pos_percent_chi              float64\n",
       "pos_percent_pro:poss         float64\n",
       "pos_percent_n:let            float64\n",
       "pos_percent_bab              float64\n",
       "pos_percent_sing             float64\n",
       "Length: 71, dtype: object"
      ]
     },
     "execution_count": 22,
     "metadata": {},
     "output_type": "execute_result"
    }
   ],
   "source": [
    "# check data types\n",
    "df_description.dtypes"
   ]
  },
  {
   "cell_type": "markdown",
   "id": "40c474b2-9df6-456c-95ff-93ced9481a76",
   "metadata": {
    "id": "40c474b2-9df6-456c-95ff-93ced9481a76"
   },
   "source": [
    "## 3.4 - Check Duplicated Rows"
   ]
  },
  {
   "cell_type": "markdown",
   "id": "e0da0878-91db-4e34-b8f9-a5aafb4959a3",
   "metadata": {
    "id": "e0da0878-91db-4e34-b8f9-a5aafb4959a3"
   },
   "source": [
    "*Inspect duplicated rows (based on dataframe granularity) and handle them properly*"
   ]
  },
  {
   "cell_type": "code",
   "execution_count": 23,
   "id": "4c8f21f9-1fc6-49ca-bf64-cf54412cc732",
   "metadata": {
    "id": "4c8f21f9-1fc6-49ca-bf64-cf54412cc732"
   },
   "outputs": [],
   "source": [
    "# TO-DO"
   ]
  },
  {
   "cell_type": "markdown",
   "id": "b2cf33dc-1446-4285-ba7e-1ddf2ceb9adb",
   "metadata": {
    "id": "b2cf33dc-1446-4285-ba7e-1ddf2ceb9adb"
   },
   "source": [
    "## 3.5 - Check Missing Values"
   ]
  },
  {
   "cell_type": "markdown",
   "id": "623c4ef2-ee8c-4d0c-aada-bb1ee973c7e0",
   "metadata": {
    "id": "623c4ef2-ee8c-4d0c-aada-bb1ee973c7e0"
   },
   "source": [
    "*Inspect number and percentage of missing value per column to decide what to do with them*"
   ]
  },
  {
   "cell_type": "code",
   "execution_count": 24,
   "id": "aec810a2-633c-43a4-bdc8-b036692f1f08",
   "metadata": {
    "colab": {
     "base_uri": "https://localhost:8080/"
    },
    "id": "aec810a2-633c-43a4-bdc8-b036692f1f08",
    "outputId": "305df7f6-a446-48b3-a562-206e02b288b3"
   },
   "outputs": [
    {
     "data": {
      "text/plain": [
       "ASD                           0\n",
       "age_in_months                 0\n",
       "child_mlu                     0\n",
       "percent_child_parents_mlu     0\n",
       "child_mluw                    0\n",
       "                             ..\n",
       "pos_percent_chi              33\n",
       "pos_percent_pro:poss         34\n",
       "pos_percent_n:let            37\n",
       "pos_percent_bab              36\n",
       "pos_percent_sing             37\n",
       "Length: 71, dtype: int64"
      ]
     },
     "execution_count": 24,
     "metadata": {},
     "output_type": "execute_result"
    }
   ],
   "source": [
    "# check NAs\n",
    "df_description.isna().sum()"
   ]
  },
  {
   "cell_type": "markdown",
   "id": "af603ed1-d856-4203-b7cb-de98af5a662d",
   "metadata": {
    "id": "af603ed1-d856-4203-b7cb-de98af5a662d"
   },
   "source": [
    "## 3.6 - Handle Missing Values"
   ]
  },
  {
   "cell_type": "markdown",
   "id": "ca853543-99b5-45ba-a4b0-3af8b543d5aa",
   "metadata": {
    "id": "ca853543-99b5-45ba-a4b0-3af8b543d5aa"
   },
   "source": [
    "*Handle missing value for columns*"
   ]
  },
  {
   "cell_type": "code",
   "execution_count": 25,
   "id": "d48c56fc-d84b-4ffd-b695-f2fdf233221b",
   "metadata": {
    "id": "d48c56fc-d84b-4ffd-b695-f2fdf233221b"
   },
   "outputs": [],
   "source": [
    "# fill missing values with 0\n",
    "df_description = df_description.fillna(value=0)"
   ]
  },
  {
   "cell_type": "code",
   "execution_count": 26,
   "id": "xPcCc_THz6gG",
   "metadata": {
    "id": "xPcCc_THz6gG"
   },
   "outputs": [],
   "source": [
    "# sanity check\n",
    "assert df_description.isna().sum().sum() == 0, \"There are missing values!\""
   ]
  },
  {
   "cell_type": "markdown",
   "id": "e61914a1-a4f6-4a06-b585-c55fe879c8f8",
   "metadata": {
    "id": "e61914a1-a4f6-4a06-b585-c55fe879c8f8"
   },
   "source": [
    "# 4 - FEATURE ENGINEERING"
   ]
  },
  {
   "cell_type": "markdown",
   "id": "a2b77ee0-c217-4d6f-971c-bd962df74a93",
   "metadata": {
    "id": "a2b77ee0-c217-4d6f-971c-bd962df74a93"
   },
   "source": [
    "## 4.1 - Restore Point"
   ]
  },
  {
   "cell_type": "markdown",
   "id": "b023802f-2c08-4e91-b36a-f3b98219c3bc",
   "metadata": {
    "id": "b023802f-2c08-4e91-b36a-f3b98219c3bc"
   },
   "source": [
    "*Create a checkpoint of the last dataframe from previous section*"
   ]
  },
  {
   "cell_type": "code",
   "execution_count": 27,
   "id": "0cc624c9-4d7e-4ac6-b272-06fbab9f51c2",
   "metadata": {
    "colab": {
     "base_uri": "https://localhost:8080/",
     "height": 237
    },
    "id": "0cc624c9-4d7e-4ac6-b272-06fbab9f51c2",
    "outputId": "03a7a92d-77e2-44cb-de07-e091aaf044ee",
    "require": [
     "base/js/events",
     "datatables.net",
     "d3",
     "chartjs",
     "dt-config",
     "dt-components",
     "dt-graph-objects",
     "dt-toolbar",
     "dt-tooltips",
     "jupyter-datatables"
    ]
   },
   "outputs": [
    {
     "data": {
      "text/html": [
       "<div>\n",
       "<style scoped>\n",
       "    .dataframe tbody tr th:only-of-type {\n",
       "        vertical-align: middle;\n",
       "    }\n",
       "\n",
       "    .dataframe tbody tr th {\n",
       "        vertical-align: top;\n",
       "    }\n",
       "\n",
       "    .dataframe thead th {\n",
       "        text-align: right;\n",
       "    }\n",
       "</style>\n",
       "<table border=\"1\" class=\"dataframe\">\n",
       "  <thead>\n",
       "    <tr style=\"text-align: right;\">\n",
       "      <th></th>\n",
       "      <th>ASD</th>\n",
       "      <th>age_in_months</th>\n",
       "      <th>child_mlu</th>\n",
       "      <th>percent_child_parents_mlu</th>\n",
       "      <th>child_mluw</th>\n",
       "      <th>percent_child_parents_mluw</th>\n",
       "      <th>child_ttr</th>\n",
       "      <th>percent_child_parents_ttr</th>\n",
       "      <th>child_ipsyn</th>\n",
       "      <th>percent_child_parents_ipsyn</th>\n",
       "      <th>...</th>\n",
       "      <th>pos_percent_sub#n</th>\n",
       "      <th>pos_percent_n:pt</th>\n",
       "      <th>pos_percent_pro:refl</th>\n",
       "      <th>pos_percent_un#part</th>\n",
       "      <th>pos_percent_L2</th>\n",
       "      <th>pos_percent_chi</th>\n",
       "      <th>pos_percent_pro:poss</th>\n",
       "      <th>pos_percent_n:let</th>\n",
       "      <th>pos_percent_bab</th>\n",
       "      <th>pos_percent_sing</th>\n",
       "    </tr>\n",
       "  </thead>\n",
       "  <tbody>\n",
       "    <tr>\n",
       "      <th>16</th>\n",
       "      <td>TYP</td>\n",
       "      <td>24</td>\n",
       "      <td>1.333</td>\n",
       "      <td>0.317</td>\n",
       "      <td>1.074</td>\n",
       "      <td>0.331</td>\n",
       "      <td>0.397</td>\n",
       "      <td>1.487</td>\n",
       "      <td>10</td>\n",
       "      <td>0.145</td>\n",
       "      <td>...</td>\n",
       "      <td>0.000</td>\n",
       "      <td>0.000</td>\n",
       "      <td>0.000</td>\n",
       "      <td>0.000</td>\n",
       "      <td>0.000</td>\n",
       "      <td>0.005</td>\n",
       "      <td>0.000</td>\n",
       "      <td>0.000</td>\n",
       "      <td>0.000</td>\n",
       "      <td>0.000</td>\n",
       "    </tr>\n",
       "    <tr>\n",
       "      <th>33</th>\n",
       "      <td>TYP</td>\n",
       "      <td>23</td>\n",
       "      <td>1.083</td>\n",
       "      <td>0.215</td>\n",
       "      <td>1.000</td>\n",
       "      <td>0.253</td>\n",
       "      <td>1.000</td>\n",
       "      <td>3.801</td>\n",
       "      <td>1</td>\n",
       "      <td>0.014</td>\n",
       "      <td>...</td>\n",
       "      <td>0.000</td>\n",
       "      <td>0.000</td>\n",
       "      <td>0.000</td>\n",
       "      <td>0.000</td>\n",
       "      <td>0.000</td>\n",
       "      <td>0.000</td>\n",
       "      <td>0.000</td>\n",
       "      <td>0.000</td>\n",
       "      <td>0.000</td>\n",
       "      <td>0.000</td>\n",
       "    </tr>\n",
       "    <tr>\n",
       "      <th>8</th>\n",
       "      <td>TYP</td>\n",
       "      <td>53</td>\n",
       "      <td>3.341</td>\n",
       "      <td>0.745</td>\n",
       "      <td>3.183</td>\n",
       "      <td>0.873</td>\n",
       "      <td>0.518</td>\n",
       "      <td>1.161</td>\n",
       "      <td>56</td>\n",
       "      <td>0.767</td>\n",
       "      <td>...</td>\n",
       "      <td>0.000</td>\n",
       "      <td>0.007</td>\n",
       "      <td>0.003</td>\n",
       "      <td>0.003</td>\n",
       "      <td>0.000</td>\n",
       "      <td>0.000</td>\n",
       "      <td>0.000</td>\n",
       "      <td>0.000</td>\n",
       "      <td>0.000</td>\n",
       "      <td>0.000</td>\n",
       "    </tr>\n",
       "  </tbody>\n",
       "</table>\n",
       "<p>3 rows × 71 columns</p>\n",
       "</div>"
      ],
      "text/plain": [
       "    ASD  age_in_months  child_mlu  percent_child_parents_mlu  child_mluw  \\\n",
       "16  TYP             24      1.333                      0.317       1.074   \n",
       "33  TYP             23      1.083                      0.215       1.000   \n",
       "8   TYP             53      3.341                      0.745       3.183   \n",
       "\n",
       "    percent_child_parents_mluw  child_ttr  percent_child_parents_ttr  \\\n",
       "16                       0.331      0.397                      1.487   \n",
       "33                       0.253      1.000                      3.801   \n",
       "8                        0.873      0.518                      1.161   \n",
       "\n",
       "    child_ipsyn  percent_child_parents_ipsyn  ...  pos_percent_sub#n  \\\n",
       "16           10                        0.145  ...              0.000   \n",
       "33            1                        0.014  ...              0.000   \n",
       "8            56                        0.767  ...              0.000   \n",
       "\n",
       "    pos_percent_n:pt  pos_percent_pro:refl  pos_percent_un#part  \\\n",
       "16             0.000                 0.000                0.000   \n",
       "33             0.000                 0.000                0.000   \n",
       "8              0.007                 0.003                0.003   \n",
       "\n",
       "    pos_percent_L2  pos_percent_chi  pos_percent_pro:poss  pos_percent_n:let  \\\n",
       "16           0.000            0.005                 0.000              0.000   \n",
       "33           0.000            0.000                 0.000              0.000   \n",
       "8            0.000            0.000                 0.000              0.000   \n",
       "\n",
       "    pos_percent_bab  pos_percent_sing  \n",
       "16            0.000             0.000  \n",
       "33            0.000             0.000  \n",
       "8             0.000             0.000  \n",
       "\n",
       "[3 rows x 71 columns]"
      ]
     },
     "execution_count": 27,
     "metadata": {},
     "output_type": "execute_result"
    }
   ],
   "source": [
    "# create a restore point for the previous section dataframe\n",
    "df_f_eng = df_description.copy()\n",
    "\n",
    "# check dataframe\n",
    "df_f_eng.sample(3)"
   ]
  },
  {
   "cell_type": "markdown",
   "id": "11793090-dc5c-4992-ae69-f6e9b97b6af7",
   "metadata": {
    "id": "11793090-dc5c-4992-ae69-f6e9b97b6af7"
   },
   "source": [
    "## 4.2 - Feature Creation"
   ]
  },
  {
   "cell_type": "markdown",
   "id": "ad73620a-74e0-4aa7-863e-7cdf0151b868",
   "metadata": {
    "id": "ad73620a-74e0-4aa7-863e-7cdf0151b868"
   },
   "source": [
    "*Create new features (columns) that can be meaningful for EDA and, especially, machine learning modelling.*"
   ]
  },
  {
   "cell_type": "code",
   "execution_count": 28,
   "id": "CCMjorEistuK",
   "metadata": {
    "id": "CCMjorEistuK"
   },
   "outputs": [],
   "source": [
    "# # create ASD label\n",
    "# # odd csv = TYP\n",
    "# # even csv = ASD\n",
    "# df_f_eng[\"label\"] = df_f_eng[\"csv\"].apply(lambda x: \"ASD\" if (x % 2 == 0) else \"TYP\")\n",
    "\n",
    "# # check operation\n",
    "# df_f_eng.sample(5, random_state=0)"
   ]
  },
  {
   "cell_type": "code",
   "execution_count": 29,
   "id": "6203bca9-c78d-4341-a2ca-83982f2a05e0",
   "metadata": {
    "id": "6203bca9-c78d-4341-a2ca-83982f2a05e0"
   },
   "outputs": [],
   "source": [
    "# # split sentence into [\".\", \"!\", \"?\", \",\"]\n",
    "# df_f_eng[\"clean_sentence\"] = df_f_eng[\"sentence\"].apply(\n",
    "#     lambda sentence: re.split(f\"[,.!? ]+\", sentence)\n",
    "#     )\n",
    "# # inspect transformation\n",
    "# display('split sentence into [\".\", \"!\", \"?\", \",\"]', df_f_eng[\"clean_sentence\"].head(3))\n",
    "# print(\"\\n\\n\")\n",
    "\n",
    "# # remove any spaces with regex\n",
    "# df_f_eng[\"clean_sentence\"] = df_f_eng[\"clean_sentence\"].apply(\n",
    "#     lambda sentence_list: [re.sub(\"\\s+\", \"\", item) for item in sentence_list] \n",
    "#     )\n",
    "# # inspect transformation\n",
    "# display('remove any spaces with regex', df_f_eng[\"clean_sentence\"].head(3))\n",
    "# print(\"\\n\\n\")\n",
    "\n",
    "# # lower the case of the words in a text\n",
    "# df_f_eng[\"clean_sentence\"] = df_f_eng[\"clean_sentence\"].apply(\n",
    "#     lambda sentence_list: [item.lower() for item in sentence_list] \n",
    "#     )\n",
    "# # inspect transformation\n",
    "# display('lower the case of the words in a text', df_f_eng[\"clean_sentence\"].head(3))\n",
    "# print(\"\\n\\n\")\n",
    "\n",
    "# # remove empty tokens\n",
    "# df_f_eng[\"clean_sentence\"] = df_f_eng[\"clean_sentence\"].apply(\n",
    "#     lambda sentence_list: [item for item in sentence_list if item != \"\"] \n",
    "#     )\n",
    "# # inspect transformation\n",
    "# display('remove empty tokens', df_f_eng[\"clean_sentence\"].head(3))\n",
    "# print(\"\\n\\n\")\n",
    "\n",
    "# # instanciate lemmatizer\n",
    "# lemmatizer = WordNetLemmatizer()\n",
    "\n",
    "# # lemmatize tokens\n",
    "# df_f_eng[\"clean_sentence\"] = df_f_eng[\"clean_sentence\"].apply(\n",
    "#     lambda sentence_list: [lemmatizer.lemmatize(item) for item in sentence_list] \n",
    "#     )\n",
    "# # inspect transformation\n",
    "# display('lemmatize tokens', df_f_eng[\"clean_sentence\"].head(3))\n",
    "# print(\"\\n\\n\")\n",
    "\n",
    "# # NLTK part of speech\n",
    "# # https://www.nltk.org/book/ch05.html\n",
    "# # https://stackoverflow.com/questions/15388831/what-are-all-possible-pos-tags-of-nltk\n",
    "# # ADJ \tadjective \tnew, good, high, special, big, local\n",
    "# # ADP \tadposition \ton, of, at, with, by, into, under\n",
    "# # ADV \tadverb \treally, already, still, early, now\n",
    "# # CONJ \tconjunction \tand, or, but, if, while, although\n",
    "# # DET \tdeterminer, article \tthe, a, some, most, every, no, which\n",
    "# # NOUN \tnoun \tyear, home, costs, time, Africa\n",
    "# # NUM \tnumeral \ttwenty-four, fourth, 1991, 14:24\n",
    "# # PRT \tparticle \tat, on, out, over per, that, up, with\n",
    "# # PRON \tpronoun \the, their, her, its, my, I, us\n",
    "# # VERB \tverb \tis, say, told, given, playing, would\n",
    "# # . \tpunctuation marks \t. , ; !\n",
    "# # X \tother \tersatz, esprit, dunno, gr8, univeristy\n",
    "\n",
    "# # define POS tags\n",
    "# pos_tags = [\n",
    "#     \"JJ\", # adj\n",
    "#     \"NN\", # noun\n",
    "#     \"RB\", # adverb\n",
    "#     \"VB\" # verbs\n",
    "# ]\n",
    "\n",
    "# # iterate over tags\n",
    "# for idx, tag in enumerate(pos_tags):\n",
    "\n",
    "#     # check apply POS to each word (word, POS)\n",
    "#     # and return the POS per row\n",
    "#     df_f_eng[f\"pos_tag_{tag}\"] = df_f_eng[\"clean_sentence\"].apply( \n",
    "#         lambda sentence_list: [ word for word, pos in pos_tag(sentence_list) if pos == tag]\n",
    "#     )\n",
    "    \n",
    "#     # inspect the first transformation\n",
    "#     if idx == 0: \n",
    "#         display('apply POS tags', df_f_eng[f\"pos_tag_{tag}\"].head(3))\n",
    "#         print(\"\\n\\n\")\n",
    "\n",
    "#     # get total number of tags\n",
    "#     df_f_eng[f\"num_pos_tag_{tag}\"] = df_f_eng[f\"pos_tag_{tag}\"].apply(lambda tags_list: len(tags_list))\n",
    "#     # inspect the first transformation\n",
    "#     if idx == 0: \n",
    "#         display('count number of POS tags', df_f_eng[f\"pos_tag_{tag}\"].head(3))\n",
    "#         print(\"\\n\\n\")\n",
    "\n",
    "# # inspect results\n",
    "# print(\"*\"*49)\n",
    "# df_f_eng.sample(10)"
   ]
  },
  {
   "cell_type": "code",
   "execution_count": 30,
   "id": "LplmeFPA6lul",
   "metadata": {
    "id": "LplmeFPA6lul"
   },
   "outputs": [],
   "source": [
    "# # get number of tokens\n",
    "# df_f_eng[\"num_tokens\"] = df_f_eng[\"clean_sentence\"].apply(lambda sentence_list: len(sentence_list))\n",
    "\n",
    "# # get number of chars\n",
    "# df_f_eng[\"num_chars\"] = df_f_eng[\"clean_sentence\"].apply(lambda sentence_list: len(\"\".join(sentence_list)))\n",
    "\n",
    "# # inspect results\n",
    "# df_f_eng.sample(10)"
   ]
  },
  {
   "cell_type": "code",
   "execution_count": 31,
   "id": "BS9UnfSu77hz",
   "metadata": {
    "id": "BS9UnfSu77hz"
   },
   "outputs": [],
   "source": [
    "# # create a empty dataframe to hold modelling data\n",
    "# df_modelling = pd.DataFrame()\n",
    "\n",
    "# # define features to model\n",
    "# features = [\"num_pos_tag_JJ\", \"num_pos_tag_NN\", \"num_pos_tag_RB\", \"num_pos_tag_VB\", \"num_tokens\", \"num_chars\"]\n",
    "\n",
    "# # get unique csv (childs)\n",
    "# for idx, child in enumerate(df_f_eng[\"csv\"].unique().tolist()):\n",
    "#     # filter dataframe to the given child\n",
    "#     df_child = df_f_eng[df_f_eng[\"csv\"] == child]\n",
    "\n",
    "#     # extract label\n",
    "#     label = df_child[\"label\"].unique().tolist()[0]\n",
    "\n",
    "#     # groupby participant and create features per participant\n",
    "#     df_agg = df_child.groupby(\"participant\", as_index=False).agg(\n",
    "#         sum_num_pos_tag_JJ = (\"num_pos_tag_JJ\", \"sum\"), \n",
    "#         mean_num_pos_tag_JJ = (\"num_pos_tag_JJ\", \"mean\"), \n",
    "#         std_num_pos_tag_JJ = (\"num_pos_tag_JJ\", \"std\"),\n",
    "#         sum_num_pos_tag_NN = (\"num_pos_tag_NN\", \"sum\"),\n",
    "#         mean_num_pos_tag_NN = (\"num_pos_tag_NN\", \"mean\"),\n",
    "#         std_num_pos_tag_NN = (\"num_pos_tag_NN\", \"std\"), \n",
    "#         sum_num_pos_tag_RB = (\"num_pos_tag_RB\", \"sum\"),\n",
    "#         mean_num_pos_tag_RB = (\"num_pos_tag_RB\", \"mean\"),\n",
    "#         std_num_pos_tag_RB = (\"num_pos_tag_RB\", \"std\"), \n",
    "#         sum_num_pos_tag_VB = (\"num_pos_tag_VB\", \"sum\"),\n",
    "#         mean_num_pos_tag_VB = (\"num_pos_tag_VB\", \"mean\"),\n",
    "#         std_num_pos_tag_VB = (\"num_pos_tag_VB\", \"std\"),\n",
    "#         sum_num_tokens = (\"num_tokens\", \"sum\"), \n",
    "#         mean_num_tokens = (\"num_tokens\", \"mean\"), \n",
    "#         std_num_tokens = (\"num_tokens\", \"std\"), \n",
    "#         sum_num_chars = (\"num_chars\", \"sum\"),\n",
    "#         mean_num_chars = (\"num_chars\", \"mean\"),\n",
    "#         std_num_chars = (\"num_chars\", \"std\")\n",
    "#         )\n",
    "#     # inspect aggregation dataframe\n",
    "#     if idx == 0: \n",
    "#         display(\"df_agg just after aggregation\", df_agg.head(3))\n",
    "#         print(\"\\n\\n\")\n",
    "\n",
    "#     # iterate over pre-defined features\n",
    "#     for feature in features:\n",
    "#         # for each feature, create a percentage number of child / (child + parent)\n",
    "#         df_agg[f\"percent_child_total_of_{feature[-2:]}\"] = df_agg.loc[df_agg[\"participant\"] == \"CHI\", f\"sum_{feature}\"] / df_agg[f\"sum_{feature}\"].sum()\n",
    "#     # inspect aggregation dataframe\n",
    "#     if idx == 0: \n",
    "#         display(\"df_agg just after precent columns creation\", df_agg.head(3))\n",
    "#         print(\"\\n\\n\")\n",
    "\n",
    "#     # filter dataframe to only child features\n",
    "#     df_child_features = df_agg[df_agg[\"participant\"] == \"CHI\"]\n",
    "#     # inspect aggregation dataframe\n",
    "#     if idx == 0: \n",
    "#         display(\"df_agg just after CHI filtering\", df_agg.head(3))\n",
    "#         print(\"\\n\\n\")\n",
    "\n",
    "#     # define label\n",
    "#     df_child_features[\"label\"] = label\n",
    "#     df_child_features[\"csv\"] = child\n",
    "\n",
    "#     # append child features to modelling dataframe\n",
    "#     df_modelling = pd.concat(objs=[df_modelling, df_child_features], ignore_index=True)\n",
    "#     # inspect modelling dataframe\n",
    "#     if idx == 0: \n",
    "#         display(\"df_modelling just after concatenation\", df_modelling.head(3))\n",
    "#         print(\"\\n\\n\")\n",
    "\n",
    "# # inspect results\n",
    "# print(\"*\"*49)\n",
    "# df_modelling"
   ]
  },
  {
   "cell_type": "code",
   "execution_count": 32,
   "id": "caIvhfZ4CTbh",
   "metadata": {
    "id": "caIvhfZ4CTbh"
   },
   "outputs": [],
   "source": [
    "# # reassing section dataframe\n",
    "# df_f_eng = df_modelling"
   ]
  },
  {
   "cell_type": "markdown",
   "id": "7f175924-8104-4183-b3c3-88ce24a96a95",
   "metadata": {
    "id": "7f175924-8104-4183-b3c3-88ce24a96a95"
   },
   "source": [
    "# 5 - DATA FILTERING"
   ]
  },
  {
   "cell_type": "markdown",
   "id": "3db87ecb-54d3-4a7c-92a3-bd7608812e56",
   "metadata": {
    "id": "3db87ecb-54d3-4a7c-92a3-bd7608812e56"
   },
   "source": [
    "## 5.1 - Restore Point"
   ]
  },
  {
   "cell_type": "markdown",
   "id": "ea28e2b0-7968-4506-9a6e-f42a395cc213",
   "metadata": {
    "id": "ea28e2b0-7968-4506-9a6e-f42a395cc213"
   },
   "source": [
    "*Create a checkpoint of the last dataframe from previous section*"
   ]
  },
  {
   "cell_type": "code",
   "execution_count": 33,
   "id": "c2c97507-6e12-40d3-ac53-c15ac611bfc4",
   "metadata": {
    "colab": {
     "base_uri": "https://localhost:8080/",
     "height": 237
    },
    "id": "c2c97507-6e12-40d3-ac53-c15ac611bfc4",
    "outputId": "b76ae003-d8b2-4ef7-d357-bdb85dcf5165",
    "require": [
     "base/js/events",
     "datatables.net",
     "d3",
     "chartjs",
     "dt-config",
     "dt-components",
     "dt-graph-objects",
     "dt-toolbar",
     "dt-tooltips",
     "jupyter-datatables"
    ]
   },
   "outputs": [
    {
     "data": {
      "text/html": [
       "<div>\n",
       "<style scoped>\n",
       "    .dataframe tbody tr th:only-of-type {\n",
       "        vertical-align: middle;\n",
       "    }\n",
       "\n",
       "    .dataframe tbody tr th {\n",
       "        vertical-align: top;\n",
       "    }\n",
       "\n",
       "    .dataframe thead th {\n",
       "        text-align: right;\n",
       "    }\n",
       "</style>\n",
       "<table border=\"1\" class=\"dataframe\">\n",
       "  <thead>\n",
       "    <tr style=\"text-align: right;\">\n",
       "      <th></th>\n",
       "      <th>ASD</th>\n",
       "      <th>age_in_months</th>\n",
       "      <th>child_mlu</th>\n",
       "      <th>percent_child_parents_mlu</th>\n",
       "      <th>child_mluw</th>\n",
       "      <th>percent_child_parents_mluw</th>\n",
       "      <th>child_ttr</th>\n",
       "      <th>percent_child_parents_ttr</th>\n",
       "      <th>child_ipsyn</th>\n",
       "      <th>percent_child_parents_ipsyn</th>\n",
       "      <th>...</th>\n",
       "      <th>pos_percent_sub#n</th>\n",
       "      <th>pos_percent_n:pt</th>\n",
       "      <th>pos_percent_pro:refl</th>\n",
       "      <th>pos_percent_un#part</th>\n",
       "      <th>pos_percent_L2</th>\n",
       "      <th>pos_percent_chi</th>\n",
       "      <th>pos_percent_pro:poss</th>\n",
       "      <th>pos_percent_n:let</th>\n",
       "      <th>pos_percent_bab</th>\n",
       "      <th>pos_percent_sing</th>\n",
       "    </tr>\n",
       "  </thead>\n",
       "  <tbody>\n",
       "    <tr>\n",
       "      <th>13</th>\n",
       "      <td>ASD</td>\n",
       "      <td>59</td>\n",
       "      <td>4.392</td>\n",
       "      <td>0.611</td>\n",
       "      <td>3.621</td>\n",
       "      <td>0.640</td>\n",
       "      <td>0.467</td>\n",
       "      <td>1.507</td>\n",
       "      <td>74</td>\n",
       "      <td>0.892</td>\n",
       "      <td>...</td>\n",
       "      <td>0.000</td>\n",
       "      <td>0.000</td>\n",
       "      <td>0.000</td>\n",
       "      <td>0.000</td>\n",
       "      <td>0.000</td>\n",
       "      <td>0.002</td>\n",
       "      <td>0.000</td>\n",
       "      <td>0.000</td>\n",
       "      <td>0.000</td>\n",
       "      <td>0.000</td>\n",
       "    </tr>\n",
       "    <tr>\n",
       "      <th>32</th>\n",
       "      <td>TYP</td>\n",
       "      <td>27</td>\n",
       "      <td>2.606</td>\n",
       "      <td>0.509</td>\n",
       "      <td>2.308</td>\n",
       "      <td>0.569</td>\n",
       "      <td>0.500</td>\n",
       "      <td>1.051</td>\n",
       "      <td>45</td>\n",
       "      <td>0.616</td>\n",
       "      <td>...</td>\n",
       "      <td>0.000</td>\n",
       "      <td>0.000</td>\n",
       "      <td>0.000</td>\n",
       "      <td>0.000</td>\n",
       "      <td>0.000</td>\n",
       "      <td>0.000</td>\n",
       "      <td>0.000</td>\n",
       "      <td>0.000</td>\n",
       "      <td>0.000</td>\n",
       "      <td>0.000</td>\n",
       "    </tr>\n",
       "    <tr>\n",
       "      <th>1</th>\n",
       "      <td>ASD</td>\n",
       "      <td>51</td>\n",
       "      <td>1.105</td>\n",
       "      <td>0.218</td>\n",
       "      <td>1.000</td>\n",
       "      <td>0.265</td>\n",
       "      <td>0.500</td>\n",
       "      <td>2.556</td>\n",
       "      <td>2</td>\n",
       "      <td>0.026</td>\n",
       "      <td>...</td>\n",
       "      <td>0.000</td>\n",
       "      <td>0.000</td>\n",
       "      <td>0.000</td>\n",
       "      <td>0.000</td>\n",
       "      <td>0.000</td>\n",
       "      <td>0.000</td>\n",
       "      <td>0.000</td>\n",
       "      <td>0.000</td>\n",
       "      <td>0.000</td>\n",
       "      <td>0.000</td>\n",
       "    </tr>\n",
       "  </tbody>\n",
       "</table>\n",
       "<p>3 rows × 71 columns</p>\n",
       "</div>"
      ],
      "text/plain": [
       "    ASD  age_in_months  child_mlu  percent_child_parents_mlu  child_mluw  \\\n",
       "13  ASD             59      4.392                      0.611       3.621   \n",
       "32  TYP             27      2.606                      0.509       2.308   \n",
       "1   ASD             51      1.105                      0.218       1.000   \n",
       "\n",
       "    percent_child_parents_mluw  child_ttr  percent_child_parents_ttr  \\\n",
       "13                       0.640      0.467                      1.507   \n",
       "32                       0.569      0.500                      1.051   \n",
       "1                        0.265      0.500                      2.556   \n",
       "\n",
       "    child_ipsyn  percent_child_parents_ipsyn  ...  pos_percent_sub#n  \\\n",
       "13           74                        0.892  ...              0.000   \n",
       "32           45                        0.616  ...              0.000   \n",
       "1             2                        0.026  ...              0.000   \n",
       "\n",
       "    pos_percent_n:pt  pos_percent_pro:refl  pos_percent_un#part  \\\n",
       "13             0.000                 0.000                0.000   \n",
       "32             0.000                 0.000                0.000   \n",
       "1              0.000                 0.000                0.000   \n",
       "\n",
       "    pos_percent_L2  pos_percent_chi  pos_percent_pro:poss  pos_percent_n:let  \\\n",
       "13           0.000            0.002                 0.000              0.000   \n",
       "32           0.000            0.000                 0.000              0.000   \n",
       "1            0.000            0.000                 0.000              0.000   \n",
       "\n",
       "    pos_percent_bab  pos_percent_sing  \n",
       "13            0.000             0.000  \n",
       "32            0.000             0.000  \n",
       "1             0.000             0.000  \n",
       "\n",
       "[3 rows x 71 columns]"
      ]
     },
     "execution_count": 33,
     "metadata": {},
     "output_type": "execute_result"
    }
   ],
   "source": [
    "# create a restore point for the previous section dataframe\n",
    "df_filter = df_f_eng.copy()\n",
    "\n",
    "# check dataframe\n",
    "df_filter.sample(3)"
   ]
  },
  {
   "cell_type": "markdown",
   "id": "de764f6f-e4c0-42af-a7dc-1caeb8e634d1",
   "metadata": {
    "id": "de764f6f-e4c0-42af-a7dc-1caeb8e634d1"
   },
   "source": [
    "## 5.2 - Rows Filtering"
   ]
  },
  {
   "cell_type": "markdown",
   "id": "7090d373-2060-47aa-8cd4-76f360cddaa2",
   "metadata": {
    "id": "7090d373-2060-47aa-8cd4-76f360cddaa2"
   },
   "source": [
    "*Remove rows with meaningless (or unimportant) data*"
   ]
  },
  {
   "cell_type": "code",
   "execution_count": 34,
   "id": "113bebaf-72d0-43b4-8542-9b8ba80ae064",
   "metadata": {
    "id": "113bebaf-72d0-43b4-8542-9b8ba80ae064"
   },
   "outputs": [],
   "source": [
    "# TO-DO"
   ]
  },
  {
   "cell_type": "markdown",
   "id": "80c3ea85-8d74-4995-bc67-d7e1fa81ccb9",
   "metadata": {
    "id": "80c3ea85-8d74-4995-bc67-d7e1fa81ccb9"
   },
   "source": [
    "## 5.3 - Columns Filtering"
   ]
  },
  {
   "cell_type": "markdown",
   "id": "49ffe601-d210-407d-86cf-5352097747b4",
   "metadata": {
    "id": "49ffe601-d210-407d-86cf-5352097747b4"
   },
   "source": [
    "*Remove auxiliary columns or columns that won't be available in the prediction moment*"
   ]
  },
  {
   "cell_type": "code",
   "execution_count": 35,
   "id": "wm2XkQ_PCbNp",
   "metadata": {
    "id": "wm2XkQ_PCbNp"
   },
   "outputs": [],
   "source": [
    "# TO-DO"
   ]
  },
  {
   "cell_type": "markdown",
   "id": "80dc1dd0-4a71-4e3c-b028-55745369f2cd",
   "metadata": {
    "id": "80dc1dd0-4a71-4e3c-b028-55745369f2cd"
   },
   "source": [
    "# 6 - Exploratory Data Analysis"
   ]
  },
  {
   "cell_type": "markdown",
   "id": "c1771d58-8a2d-4f96-b02b-ba3e24da3c92",
   "metadata": {
    "id": "c1771d58-8a2d-4f96-b02b-ba3e24da3c92"
   },
   "source": [
    "## 6.1 - Restore Point"
   ]
  },
  {
   "cell_type": "markdown",
   "id": "48b73ff0-6c16-4a82-9d27-b1c638970f45",
   "metadata": {
    "id": "48b73ff0-6c16-4a82-9d27-b1c638970f45"
   },
   "source": [
    "*Create a checkpoint of the last dataframe from previous section*"
   ]
  },
  {
   "cell_type": "code",
   "execution_count": 36,
   "id": "fd8459ce-2965-4249-be05-284ea01f1962",
   "metadata": {
    "colab": {
     "base_uri": "https://localhost:8080/",
     "height": 237
    },
    "id": "fd8459ce-2965-4249-be05-284ea01f1962",
    "outputId": "b42d79a6-5913-4700-95b9-a5108a42bf31",
    "require": [
     "base/js/events",
     "datatables.net",
     "d3",
     "chartjs",
     "dt-config",
     "dt-components",
     "dt-graph-objects",
     "dt-toolbar",
     "dt-tooltips",
     "jupyter-datatables"
    ]
   },
   "outputs": [
    {
     "data": {
      "text/html": [
       "<div>\n",
       "<style scoped>\n",
       "    .dataframe tbody tr th:only-of-type {\n",
       "        vertical-align: middle;\n",
       "    }\n",
       "\n",
       "    .dataframe tbody tr th {\n",
       "        vertical-align: top;\n",
       "    }\n",
       "\n",
       "    .dataframe thead th {\n",
       "        text-align: right;\n",
       "    }\n",
       "</style>\n",
       "<table border=\"1\" class=\"dataframe\">\n",
       "  <thead>\n",
       "    <tr style=\"text-align: right;\">\n",
       "      <th></th>\n",
       "      <th>ASD</th>\n",
       "      <th>age_in_months</th>\n",
       "      <th>child_mlu</th>\n",
       "      <th>percent_child_parents_mlu</th>\n",
       "      <th>child_mluw</th>\n",
       "      <th>percent_child_parents_mluw</th>\n",
       "      <th>child_ttr</th>\n",
       "      <th>percent_child_parents_ttr</th>\n",
       "      <th>child_ipsyn</th>\n",
       "      <th>percent_child_parents_ipsyn</th>\n",
       "      <th>...</th>\n",
       "      <th>pos_percent_sub#n</th>\n",
       "      <th>pos_percent_n:pt</th>\n",
       "      <th>pos_percent_pro:refl</th>\n",
       "      <th>pos_percent_un#part</th>\n",
       "      <th>pos_percent_L2</th>\n",
       "      <th>pos_percent_chi</th>\n",
       "      <th>pos_percent_pro:poss</th>\n",
       "      <th>pos_percent_n:let</th>\n",
       "      <th>pos_percent_bab</th>\n",
       "      <th>pos_percent_sing</th>\n",
       "    </tr>\n",
       "  </thead>\n",
       "  <tbody>\n",
       "    <tr>\n",
       "      <th>21</th>\n",
       "      <td>TYP</td>\n",
       "      <td>24</td>\n",
       "      <td>1.051</td>\n",
       "      <td>0.218</td>\n",
       "      <td>1.000</td>\n",
       "      <td>0.255</td>\n",
       "      <td>1.000</td>\n",
       "      <td>4.445</td>\n",
       "      <td>3</td>\n",
       "      <td>0.043</td>\n",
       "      <td>...</td>\n",
       "      <td>0.000</td>\n",
       "      <td>0.000</td>\n",
       "      <td>0.000</td>\n",
       "      <td>0.000</td>\n",
       "      <td>0.000</td>\n",
       "      <td>0.000</td>\n",
       "      <td>0.000</td>\n",
       "      <td>0.000</td>\n",
       "      <td>0.024</td>\n",
       "      <td>0.000</td>\n",
       "    </tr>\n",
       "    <tr>\n",
       "      <th>13</th>\n",
       "      <td>ASD</td>\n",
       "      <td>59</td>\n",
       "      <td>4.392</td>\n",
       "      <td>0.611</td>\n",
       "      <td>3.621</td>\n",
       "      <td>0.640</td>\n",
       "      <td>0.467</td>\n",
       "      <td>1.507</td>\n",
       "      <td>74</td>\n",
       "      <td>0.892</td>\n",
       "      <td>...</td>\n",
       "      <td>0.000</td>\n",
       "      <td>0.000</td>\n",
       "      <td>0.000</td>\n",
       "      <td>0.000</td>\n",
       "      <td>0.000</td>\n",
       "      <td>0.002</td>\n",
       "      <td>0.000</td>\n",
       "      <td>0.000</td>\n",
       "      <td>0.000</td>\n",
       "      <td>0.000</td>\n",
       "    </tr>\n",
       "    <tr>\n",
       "      <th>17</th>\n",
       "      <td>ASD</td>\n",
       "      <td>65</td>\n",
       "      <td>1.389</td>\n",
       "      <td>0.317</td>\n",
       "      <td>1.125</td>\n",
       "      <td>0.320</td>\n",
       "      <td>0.254</td>\n",
       "      <td>1.144</td>\n",
       "      <td>15</td>\n",
       "      <td>0.197</td>\n",
       "      <td>...</td>\n",
       "      <td>0.000</td>\n",
       "      <td>0.000</td>\n",
       "      <td>0.000</td>\n",
       "      <td>0.000</td>\n",
       "      <td>0.000</td>\n",
       "      <td>0.000</td>\n",
       "      <td>0.000</td>\n",
       "      <td>0.000</td>\n",
       "      <td>0.000</td>\n",
       "      <td>0.000</td>\n",
       "    </tr>\n",
       "  </tbody>\n",
       "</table>\n",
       "<p>3 rows × 71 columns</p>\n",
       "</div>"
      ],
      "text/plain": [
       "    ASD  age_in_months  child_mlu  percent_child_parents_mlu  child_mluw  \\\n",
       "21  TYP             24      1.051                      0.218       1.000   \n",
       "13  ASD             59      4.392                      0.611       3.621   \n",
       "17  ASD             65      1.389                      0.317       1.125   \n",
       "\n",
       "    percent_child_parents_mluw  child_ttr  percent_child_parents_ttr  \\\n",
       "21                       0.255      1.000                      4.445   \n",
       "13                       0.640      0.467                      1.507   \n",
       "17                       0.320      0.254                      1.144   \n",
       "\n",
       "    child_ipsyn  percent_child_parents_ipsyn  ...  pos_percent_sub#n  \\\n",
       "21            3                        0.043  ...              0.000   \n",
       "13           74                        0.892  ...              0.000   \n",
       "17           15                        0.197  ...              0.000   \n",
       "\n",
       "    pos_percent_n:pt  pos_percent_pro:refl  pos_percent_un#part  \\\n",
       "21             0.000                 0.000                0.000   \n",
       "13             0.000                 0.000                0.000   \n",
       "17             0.000                 0.000                0.000   \n",
       "\n",
       "    pos_percent_L2  pos_percent_chi  pos_percent_pro:poss  pos_percent_n:let  \\\n",
       "21           0.000            0.000                 0.000              0.000   \n",
       "13           0.000            0.002                 0.000              0.000   \n",
       "17           0.000            0.000                 0.000              0.000   \n",
       "\n",
       "    pos_percent_bab  pos_percent_sing  \n",
       "21            0.024             0.000  \n",
       "13            0.000             0.000  \n",
       "17            0.000             0.000  \n",
       "\n",
       "[3 rows x 71 columns]"
      ]
     },
     "execution_count": 36,
     "metadata": {},
     "output_type": "execute_result"
    }
   ],
   "source": [
    "# create a restore point for the previous section dataframe\n",
    "df_eda = df_filter.copy()\n",
    "\n",
    "# check dataframe\n",
    "df_eda.sample(3)"
   ]
  },
  {
   "cell_type": "code",
   "execution_count": 37,
   "id": "371e1623",
   "metadata": {
    "require": [
     "base/js/events",
     "datatables.net",
     "d3",
     "chartjs",
     "dt-config",
     "dt-components",
     "dt-graph-objects",
     "dt-toolbar",
     "dt-tooltips",
     "jupyter-datatables"
    ],
    "scrolled": true
   },
   "outputs": [
    {
     "data": {
      "text/html": [
       "<div>\n",
       "<style scoped>\n",
       "    .dataframe tbody tr th:only-of-type {\n",
       "        vertical-align: middle;\n",
       "    }\n",
       "\n",
       "    .dataframe tbody tr th {\n",
       "        vertical-align: top;\n",
       "    }\n",
       "\n",
       "    .dataframe thead th {\n",
       "        text-align: right;\n",
       "    }\n",
       "</style>\n",
       "<table border=\"1\" class=\"dataframe\">\n",
       "  <thead>\n",
       "    <tr style=\"text-align: right;\">\n",
       "      <th></th>\n",
       "      <th>ASD</th>\n",
       "      <th>age_in_months</th>\n",
       "      <th>child_mlu</th>\n",
       "      <th>percent_child_parents_mlu</th>\n",
       "      <th>child_mluw</th>\n",
       "      <th>percent_child_parents_mluw</th>\n",
       "      <th>child_ttr</th>\n",
       "      <th>percent_child_parents_ttr</th>\n",
       "      <th>child_ipsyn</th>\n",
       "      <th>percent_child_parents_ipsyn</th>\n",
       "      <th>...</th>\n",
       "      <th>pos_percent_sub#n</th>\n",
       "      <th>pos_percent_n:pt</th>\n",
       "      <th>pos_percent_pro:refl</th>\n",
       "      <th>pos_percent_un#part</th>\n",
       "      <th>pos_percent_L2</th>\n",
       "      <th>pos_percent_chi</th>\n",
       "      <th>pos_percent_pro:poss</th>\n",
       "      <th>pos_percent_n:let</th>\n",
       "      <th>pos_percent_bab</th>\n",
       "      <th>pos_percent_sing</th>\n",
       "    </tr>\n",
       "  </thead>\n",
       "  <tbody>\n",
       "    <tr>\n",
       "      <th>0</th>\n",
       "      <td>TYP</td>\n",
       "      <td>43</td>\n",
       "      <td>2.641</td>\n",
       "      <td>0.398</td>\n",
       "      <td>2.604</td>\n",
       "      <td>0.472</td>\n",
       "      <td>0.558</td>\n",
       "      <td>2.215</td>\n",
       "      <td>61</td>\n",
       "      <td>0.701</td>\n",
       "      <td>...</td>\n",
       "      <td>0.000</td>\n",
       "      <td>0.000</td>\n",
       "      <td>0.000</td>\n",
       "      <td>0.000</td>\n",
       "      <td>0.000</td>\n",
       "      <td>0.000</td>\n",
       "      <td>0.000</td>\n",
       "      <td>0.000</td>\n",
       "      <td>0.000</td>\n",
       "      <td>0.000</td>\n",
       "    </tr>\n",
       "    <tr>\n",
       "      <th>1</th>\n",
       "      <td>ASD</td>\n",
       "      <td>51</td>\n",
       "      <td>1.105</td>\n",
       "      <td>0.218</td>\n",
       "      <td>1.000</td>\n",
       "      <td>0.265</td>\n",
       "      <td>0.500</td>\n",
       "      <td>2.556</td>\n",
       "      <td>2</td>\n",
       "      <td>0.026</td>\n",
       "      <td>...</td>\n",
       "      <td>0.000</td>\n",
       "      <td>0.000</td>\n",
       "      <td>0.000</td>\n",
       "      <td>0.000</td>\n",
       "      <td>0.000</td>\n",
       "      <td>0.000</td>\n",
       "      <td>0.000</td>\n",
       "      <td>0.000</td>\n",
       "      <td>0.000</td>\n",
       "      <td>0.000</td>\n",
       "    </tr>\n",
       "    <tr>\n",
       "      <th>2</th>\n",
       "      <td>TYP</td>\n",
       "      <td>32</td>\n",
       "      <td>3.158</td>\n",
       "      <td>0.449</td>\n",
       "      <td>2.719</td>\n",
       "      <td>0.501</td>\n",
       "      <td>0.394</td>\n",
       "      <td>1.218</td>\n",
       "      <td>57</td>\n",
       "      <td>0.606</td>\n",
       "      <td>...</td>\n",
       "      <td>0.000</td>\n",
       "      <td>0.000</td>\n",
       "      <td>0.000</td>\n",
       "      <td>0.000</td>\n",
       "      <td>0.000</td>\n",
       "      <td>0.000</td>\n",
       "      <td>0.000</td>\n",
       "      <td>0.000</td>\n",
       "      <td>0.000</td>\n",
       "      <td>0.000</td>\n",
       "    </tr>\n",
       "    <tr>\n",
       "      <th>3</th>\n",
       "      <td>ASD</td>\n",
       "      <td>44</td>\n",
       "      <td>2.394</td>\n",
       "      <td>0.462</td>\n",
       "      <td>1.979</td>\n",
       "      <td>0.488</td>\n",
       "      <td>0.527</td>\n",
       "      <td>1.905</td>\n",
       "      <td>40</td>\n",
       "      <td>0.519</td>\n",
       "      <td>...</td>\n",
       "      <td>0.000</td>\n",
       "      <td>0.000</td>\n",
       "      <td>0.000</td>\n",
       "      <td>0.000</td>\n",
       "      <td>0.000</td>\n",
       "      <td>0.000</td>\n",
       "      <td>0.000</td>\n",
       "      <td>0.000</td>\n",
       "      <td>0.000</td>\n",
       "      <td>0.000</td>\n",
       "    </tr>\n",
       "    <tr>\n",
       "      <th>4</th>\n",
       "      <td>ASD</td>\n",
       "      <td>79</td>\n",
       "      <td>5.213</td>\n",
       "      <td>0.841</td>\n",
       "      <td>4.023</td>\n",
       "      <td>0.832</td>\n",
       "      <td>0.421</td>\n",
       "      <td>0.972</td>\n",
       "      <td>81</td>\n",
       "      <td>0.931</td>\n",
       "      <td>...</td>\n",
       "      <td>0.000</td>\n",
       "      <td>0.000</td>\n",
       "      <td>0.000</td>\n",
       "      <td>0.000</td>\n",
       "      <td>0.000</td>\n",
       "      <td>0.000</td>\n",
       "      <td>0.000</td>\n",
       "      <td>0.000</td>\n",
       "      <td>0.000</td>\n",
       "      <td>0.000</td>\n",
       "    </tr>\n",
       "    <tr>\n",
       "      <th>5</th>\n",
       "      <td>TYP</td>\n",
       "      <td>37</td>\n",
       "      <td>4.358</td>\n",
       "      <td>0.634</td>\n",
       "      <td>3.672</td>\n",
       "      <td>0.665</td>\n",
       "      <td>0.443</td>\n",
       "      <td>1.496</td>\n",
       "      <td>77</td>\n",
       "      <td>0.885</td>\n",
       "      <td>...</td>\n",
       "      <td>0.000</td>\n",
       "      <td>0.000</td>\n",
       "      <td>0.000</td>\n",
       "      <td>0.000</td>\n",
       "      <td>0.000</td>\n",
       "      <td>0.000</td>\n",
       "      <td>0.000</td>\n",
       "      <td>0.000</td>\n",
       "      <td>0.000</td>\n",
       "      <td>0.000</td>\n",
       "    </tr>\n",
       "    <tr>\n",
       "      <th>6</th>\n",
       "      <td>ASD</td>\n",
       "      <td>73</td>\n",
       "      <td>3.625</td>\n",
       "      <td>0.639</td>\n",
       "      <td>3.410</td>\n",
       "      <td>0.793</td>\n",
       "      <td>0.526</td>\n",
       "      <td>2.072</td>\n",
       "      <td>53</td>\n",
       "      <td>0.654</td>\n",
       "      <td>...</td>\n",
       "      <td>0.000</td>\n",
       "      <td>0.000</td>\n",
       "      <td>0.000</td>\n",
       "      <td>0.000</td>\n",
       "      <td>0.000</td>\n",
       "      <td>0.000</td>\n",
       "      <td>0.000</td>\n",
       "      <td>0.000</td>\n",
       "      <td>0.000</td>\n",
       "      <td>0.000</td>\n",
       "    </tr>\n",
       "    <tr>\n",
       "      <th>7</th>\n",
       "      <td>TYP</td>\n",
       "      <td>35</td>\n",
       "      <td>7.855</td>\n",
       "      <td>1.203</td>\n",
       "      <td>6.642</td>\n",
       "      <td>1.277</td>\n",
       "      <td>0.326</td>\n",
       "      <td>0.834</td>\n",
       "      <td>74</td>\n",
       "      <td>0.881</td>\n",
       "      <td>...</td>\n",
       "      <td>0.004</td>\n",
       "      <td>0.000</td>\n",
       "      <td>0.000</td>\n",
       "      <td>0.000</td>\n",
       "      <td>0.000</td>\n",
       "      <td>0.000</td>\n",
       "      <td>0.000</td>\n",
       "      <td>0.000</td>\n",
       "      <td>0.000</td>\n",
       "      <td>0.000</td>\n",
       "    </tr>\n",
       "    <tr>\n",
       "      <th>8</th>\n",
       "      <td>TYP</td>\n",
       "      <td>53</td>\n",
       "      <td>3.341</td>\n",
       "      <td>0.745</td>\n",
       "      <td>3.183</td>\n",
       "      <td>0.873</td>\n",
       "      <td>0.518</td>\n",
       "      <td>1.161</td>\n",
       "      <td>56</td>\n",
       "      <td>0.767</td>\n",
       "      <td>...</td>\n",
       "      <td>0.000</td>\n",
       "      <td>0.007</td>\n",
       "      <td>0.003</td>\n",
       "      <td>0.003</td>\n",
       "      <td>0.000</td>\n",
       "      <td>0.000</td>\n",
       "      <td>0.000</td>\n",
       "      <td>0.000</td>\n",
       "      <td>0.000</td>\n",
       "      <td>0.000</td>\n",
       "    </tr>\n",
       "    <tr>\n",
       "      <th>9</th>\n",
       "      <td>TYP</td>\n",
       "      <td>38</td>\n",
       "      <td>3.976</td>\n",
       "      <td>0.581</td>\n",
       "      <td>2.807</td>\n",
       "      <td>0.523</td>\n",
       "      <td>0.391</td>\n",
       "      <td>1.597</td>\n",
       "      <td>71</td>\n",
       "      <td>0.826</td>\n",
       "      <td>...</td>\n",
       "      <td>0.000</td>\n",
       "      <td>0.000</td>\n",
       "      <td>0.000</td>\n",
       "      <td>0.000</td>\n",
       "      <td>0.000</td>\n",
       "      <td>0.000</td>\n",
       "      <td>0.000</td>\n",
       "      <td>0.000</td>\n",
       "      <td>0.000</td>\n",
       "      <td>0.000</td>\n",
       "    </tr>\n",
       "    <tr>\n",
       "      <th>10</th>\n",
       "      <td>TYP</td>\n",
       "      <td>32</td>\n",
       "      <td>4.241</td>\n",
       "      <td>0.730</td>\n",
       "      <td>3.753</td>\n",
       "      <td>0.784</td>\n",
       "      <td>0.299</td>\n",
       "      <td>0.777</td>\n",
       "      <td>64</td>\n",
       "      <td>0.865</td>\n",
       "      <td>...</td>\n",
       "      <td>0.000</td>\n",
       "      <td>0.006</td>\n",
       "      <td>0.000</td>\n",
       "      <td>0.000</td>\n",
       "      <td>0.009</td>\n",
       "      <td>0.002</td>\n",
       "      <td>0.000</td>\n",
       "      <td>0.000</td>\n",
       "      <td>0.000</td>\n",
       "      <td>0.000</td>\n",
       "    </tr>\n",
       "    <tr>\n",
       "      <th>11</th>\n",
       "      <td>ASD</td>\n",
       "      <td>43</td>\n",
       "      <td>2.568</td>\n",
       "      <td>0.651</td>\n",
       "      <td>1.816</td>\n",
       "      <td>0.626</td>\n",
       "      <td>0.435</td>\n",
       "      <td>1.465</td>\n",
       "      <td>20</td>\n",
       "      <td>0.328</td>\n",
       "      <td>...</td>\n",
       "      <td>0.000</td>\n",
       "      <td>0.000</td>\n",
       "      <td>0.000</td>\n",
       "      <td>0.000</td>\n",
       "      <td>0.009</td>\n",
       "      <td>0.000</td>\n",
       "      <td>0.000</td>\n",
       "      <td>0.000</td>\n",
       "      <td>0.000</td>\n",
       "      <td>0.000</td>\n",
       "    </tr>\n",
       "    <tr>\n",
       "      <th>12</th>\n",
       "      <td>TYP</td>\n",
       "      <td>33</td>\n",
       "      <td>3.629</td>\n",
       "      <td>0.497</td>\n",
       "      <td>2.598</td>\n",
       "      <td>0.431</td>\n",
       "      <td>0.445</td>\n",
       "      <td>1.920</td>\n",
       "      <td>66</td>\n",
       "      <td>0.742</td>\n",
       "      <td>...</td>\n",
       "      <td>0.000</td>\n",
       "      <td>0.000</td>\n",
       "      <td>0.000</td>\n",
       "      <td>0.000</td>\n",
       "      <td>0.000</td>\n",
       "      <td>0.000</td>\n",
       "      <td>0.003</td>\n",
       "      <td>0.000</td>\n",
       "      <td>0.000</td>\n",
       "      <td>0.000</td>\n",
       "    </tr>\n",
       "    <tr>\n",
       "      <th>13</th>\n",
       "      <td>ASD</td>\n",
       "      <td>59</td>\n",
       "      <td>4.392</td>\n",
       "      <td>0.611</td>\n",
       "      <td>3.621</td>\n",
       "      <td>0.640</td>\n",
       "      <td>0.467</td>\n",
       "      <td>1.507</td>\n",
       "      <td>74</td>\n",
       "      <td>0.892</td>\n",
       "      <td>...</td>\n",
       "      <td>0.000</td>\n",
       "      <td>0.000</td>\n",
       "      <td>0.000</td>\n",
       "      <td>0.000</td>\n",
       "      <td>0.000</td>\n",
       "      <td>0.002</td>\n",
       "      <td>0.000</td>\n",
       "      <td>0.000</td>\n",
       "      <td>0.000</td>\n",
       "      <td>0.000</td>\n",
       "    </tr>\n",
       "    <tr>\n",
       "      <th>14</th>\n",
       "      <td>TYP</td>\n",
       "      <td>35</td>\n",
       "      <td>3.917</td>\n",
       "      <td>0.542</td>\n",
       "      <td>3.109</td>\n",
       "      <td>0.541</td>\n",
       "      <td>0.437</td>\n",
       "      <td>1.741</td>\n",
       "      <td>71</td>\n",
       "      <td>0.755</td>\n",
       "      <td>...</td>\n",
       "      <td>0.000</td>\n",
       "      <td>0.007</td>\n",
       "      <td>0.002</td>\n",
       "      <td>0.000</td>\n",
       "      <td>0.000</td>\n",
       "      <td>0.000</td>\n",
       "      <td>0.000</td>\n",
       "      <td>0.000</td>\n",
       "      <td>0.000</td>\n",
       "      <td>0.000</td>\n",
       "    </tr>\n",
       "    <tr>\n",
       "      <th>15</th>\n",
       "      <td>ASD</td>\n",
       "      <td>62</td>\n",
       "      <td>2.483</td>\n",
       "      <td>0.510</td>\n",
       "      <td>2.275</td>\n",
       "      <td>0.615</td>\n",
       "      <td>0.552</td>\n",
       "      <td>1.987</td>\n",
       "      <td>55</td>\n",
       "      <td>0.671</td>\n",
       "      <td>...</td>\n",
       "      <td>0.000</td>\n",
       "      <td>0.000</td>\n",
       "      <td>0.000</td>\n",
       "      <td>0.000</td>\n",
       "      <td>0.000</td>\n",
       "      <td>0.005</td>\n",
       "      <td>0.000</td>\n",
       "      <td>0.000</td>\n",
       "      <td>0.000</td>\n",
       "      <td>0.000</td>\n",
       "    </tr>\n",
       "    <tr>\n",
       "      <th>16</th>\n",
       "      <td>TYP</td>\n",
       "      <td>24</td>\n",
       "      <td>1.333</td>\n",
       "      <td>0.317</td>\n",
       "      <td>1.074</td>\n",
       "      <td>0.331</td>\n",
       "      <td>0.397</td>\n",
       "      <td>1.487</td>\n",
       "      <td>10</td>\n",
       "      <td>0.145</td>\n",
       "      <td>...</td>\n",
       "      <td>0.000</td>\n",
       "      <td>0.000</td>\n",
       "      <td>0.000</td>\n",
       "      <td>0.000</td>\n",
       "      <td>0.000</td>\n",
       "      <td>0.005</td>\n",
       "      <td>0.000</td>\n",
       "      <td>0.000</td>\n",
       "      <td>0.000</td>\n",
       "      <td>0.000</td>\n",
       "    </tr>\n",
       "    <tr>\n",
       "      <th>17</th>\n",
       "      <td>ASD</td>\n",
       "      <td>65</td>\n",
       "      <td>1.389</td>\n",
       "      <td>0.317</td>\n",
       "      <td>1.125</td>\n",
       "      <td>0.320</td>\n",
       "      <td>0.254</td>\n",
       "      <td>1.144</td>\n",
       "      <td>15</td>\n",
       "      <td>0.197</td>\n",
       "      <td>...</td>\n",
       "      <td>0.000</td>\n",
       "      <td>0.000</td>\n",
       "      <td>0.000</td>\n",
       "      <td>0.000</td>\n",
       "      <td>0.000</td>\n",
       "      <td>0.000</td>\n",
       "      <td>0.000</td>\n",
       "      <td>0.000</td>\n",
       "      <td>0.000</td>\n",
       "      <td>0.000</td>\n",
       "    </tr>\n",
       "    <tr>\n",
       "      <th>18</th>\n",
       "      <td>TYP</td>\n",
       "      <td>38</td>\n",
       "      <td>3.785</td>\n",
       "      <td>0.804</td>\n",
       "      <td>3.030</td>\n",
       "      <td>0.832</td>\n",
       "      <td>0.465</td>\n",
       "      <td>1.076</td>\n",
       "      <td>60</td>\n",
       "      <td>0.698</td>\n",
       "      <td>...</td>\n",
       "      <td>0.000</td>\n",
       "      <td>0.000</td>\n",
       "      <td>0.000</td>\n",
       "      <td>0.000</td>\n",
       "      <td>0.000</td>\n",
       "      <td>0.003</td>\n",
       "      <td>0.007</td>\n",
       "      <td>0.000</td>\n",
       "      <td>0.000</td>\n",
       "      <td>0.000</td>\n",
       "    </tr>\n",
       "    <tr>\n",
       "      <th>19</th>\n",
       "      <td>ASD</td>\n",
       "      <td>53</td>\n",
       "      <td>1.878</td>\n",
       "      <td>0.421</td>\n",
       "      <td>1.524</td>\n",
       "      <td>0.497</td>\n",
       "      <td>0.562</td>\n",
       "      <td>2.209</td>\n",
       "      <td>20</td>\n",
       "      <td>0.308</td>\n",
       "      <td>...</td>\n",
       "      <td>0.000</td>\n",
       "      <td>0.000</td>\n",
       "      <td>0.000</td>\n",
       "      <td>0.000</td>\n",
       "      <td>0.000</td>\n",
       "      <td>0.000</td>\n",
       "      <td>0.000</td>\n",
       "      <td>0.000</td>\n",
       "      <td>0.000</td>\n",
       "      <td>0.000</td>\n",
       "    </tr>\n",
       "    <tr>\n",
       "      <th>20</th>\n",
       "      <td>ASD</td>\n",
       "      <td>76</td>\n",
       "      <td>4.283</td>\n",
       "      <td>0.698</td>\n",
       "      <td>3.708</td>\n",
       "      <td>0.751</td>\n",
       "      <td>0.391</td>\n",
       "      <td>1.366</td>\n",
       "      <td>75</td>\n",
       "      <td>0.843</td>\n",
       "      <td>...</td>\n",
       "      <td>0.000</td>\n",
       "      <td>0.000</td>\n",
       "      <td>0.000</td>\n",
       "      <td>0.000</td>\n",
       "      <td>0.000</td>\n",
       "      <td>0.000</td>\n",
       "      <td>0.000</td>\n",
       "      <td>0.004</td>\n",
       "      <td>0.000</td>\n",
       "      <td>0.000</td>\n",
       "    </tr>\n",
       "    <tr>\n",
       "      <th>21</th>\n",
       "      <td>TYP</td>\n",
       "      <td>24</td>\n",
       "      <td>1.051</td>\n",
       "      <td>0.218</td>\n",
       "      <td>1.000</td>\n",
       "      <td>0.255</td>\n",
       "      <td>1.000</td>\n",
       "      <td>4.445</td>\n",
       "      <td>3</td>\n",
       "      <td>0.043</td>\n",
       "      <td>...</td>\n",
       "      <td>0.000</td>\n",
       "      <td>0.000</td>\n",
       "      <td>0.000</td>\n",
       "      <td>0.000</td>\n",
       "      <td>0.000</td>\n",
       "      <td>0.000</td>\n",
       "      <td>0.000</td>\n",
       "      <td>0.000</td>\n",
       "      <td>0.024</td>\n",
       "      <td>0.000</td>\n",
       "    </tr>\n",
       "    <tr>\n",
       "      <th>22</th>\n",
       "      <td>ASD</td>\n",
       "      <td>64</td>\n",
       "      <td>1.444</td>\n",
       "      <td>0.269</td>\n",
       "      <td>1.344</td>\n",
       "      <td>0.324</td>\n",
       "      <td>0.512</td>\n",
       "      <td>3.007</td>\n",
       "      <td>37</td>\n",
       "      <td>0.597</td>\n",
       "      <td>...</td>\n",
       "      <td>0.000</td>\n",
       "      <td>0.000</td>\n",
       "      <td>0.000</td>\n",
       "      <td>0.000</td>\n",
       "      <td>0.000</td>\n",
       "      <td>0.000</td>\n",
       "      <td>0.000</td>\n",
       "      <td>0.000</td>\n",
       "      <td>0.000</td>\n",
       "      <td>0.000</td>\n",
       "    </tr>\n",
       "    <tr>\n",
       "      <th>23</th>\n",
       "      <td>TYP</td>\n",
       "      <td>32</td>\n",
       "      <td>4.735</td>\n",
       "      <td>0.813</td>\n",
       "      <td>3.419</td>\n",
       "      <td>0.765</td>\n",
       "      <td>0.321</td>\n",
       "      <td>1.289</td>\n",
       "      <td>65</td>\n",
       "      <td>0.915</td>\n",
       "      <td>...</td>\n",
       "      <td>0.000</td>\n",
       "      <td>0.002</td>\n",
       "      <td>0.000</td>\n",
       "      <td>0.000</td>\n",
       "      <td>0.000</td>\n",
       "      <td>0.000</td>\n",
       "      <td>0.004</td>\n",
       "      <td>0.000</td>\n",
       "      <td>0.000</td>\n",
       "      <td>0.000</td>\n",
       "    </tr>\n",
       "    <tr>\n",
       "      <th>24</th>\n",
       "      <td>ASD</td>\n",
       "      <td>66</td>\n",
       "      <td>3.067</td>\n",
       "      <td>0.503</td>\n",
       "      <td>3.316</td>\n",
       "      <td>0.694</td>\n",
       "      <td>0.397</td>\n",
       "      <td>1.491</td>\n",
       "      <td>18</td>\n",
       "      <td>0.212</td>\n",
       "      <td>...</td>\n",
       "      <td>0.000</td>\n",
       "      <td>0.000</td>\n",
       "      <td>0.000</td>\n",
       "      <td>0.000</td>\n",
       "      <td>0.000</td>\n",
       "      <td>0.000</td>\n",
       "      <td>0.000</td>\n",
       "      <td>0.000</td>\n",
       "      <td>0.000</td>\n",
       "      <td>0.000</td>\n",
       "    </tr>\n",
       "    <tr>\n",
       "      <th>25</th>\n",
       "      <td>TYP</td>\n",
       "      <td>33</td>\n",
       "      <td>2.630</td>\n",
       "      <td>0.371</td>\n",
       "      <td>2.254</td>\n",
       "      <td>0.396</td>\n",
       "      <td>0.479</td>\n",
       "      <td>2.042</td>\n",
       "      <td>43</td>\n",
       "      <td>0.531</td>\n",
       "      <td>...</td>\n",
       "      <td>0.000</td>\n",
       "      <td>0.000</td>\n",
       "      <td>0.000</td>\n",
       "      <td>0.000</td>\n",
       "      <td>0.000</td>\n",
       "      <td>0.000</td>\n",
       "      <td>0.000</td>\n",
       "      <td>0.000</td>\n",
       "      <td>0.000</td>\n",
       "      <td>0.000</td>\n",
       "    </tr>\n",
       "    <tr>\n",
       "      <th>26</th>\n",
       "      <td>ASD</td>\n",
       "      <td>59</td>\n",
       "      <td>1.000</td>\n",
       "      <td>0.198</td>\n",
       "      <td>0.000</td>\n",
       "      <td>0.000</td>\n",
       "      <td>0.000</td>\n",
       "      <td>0.000</td>\n",
       "      <td>0</td>\n",
       "      <td>0.000</td>\n",
       "      <td>...</td>\n",
       "      <td>0.000</td>\n",
       "      <td>0.000</td>\n",
       "      <td>0.000</td>\n",
       "      <td>0.000</td>\n",
       "      <td>0.000</td>\n",
       "      <td>0.000</td>\n",
       "      <td>0.000</td>\n",
       "      <td>0.000</td>\n",
       "      <td>0.000</td>\n",
       "      <td>0.000</td>\n",
       "    </tr>\n",
       "    <tr>\n",
       "      <th>27</th>\n",
       "      <td>TYP</td>\n",
       "      <td>32</td>\n",
       "      <td>3.730</td>\n",
       "      <td>0.698</td>\n",
       "      <td>2.567</td>\n",
       "      <td>0.597</td>\n",
       "      <td>0.442</td>\n",
       "      <td>1.344</td>\n",
       "      <td>61</td>\n",
       "      <td>0.744</td>\n",
       "      <td>...</td>\n",
       "      <td>0.000</td>\n",
       "      <td>0.000</td>\n",
       "      <td>0.000</td>\n",
       "      <td>0.000</td>\n",
       "      <td>0.000</td>\n",
       "      <td>0.000</td>\n",
       "      <td>0.000</td>\n",
       "      <td>0.000</td>\n",
       "      <td>0.000</td>\n",
       "      <td>0.000</td>\n",
       "    </tr>\n",
       "    <tr>\n",
       "      <th>28</th>\n",
       "      <td>TYP</td>\n",
       "      <td>29</td>\n",
       "      <td>4.084</td>\n",
       "      <td>0.860</td>\n",
       "      <td>3.129</td>\n",
       "      <td>0.834</td>\n",
       "      <td>0.364</td>\n",
       "      <td>1.052</td>\n",
       "      <td>69</td>\n",
       "      <td>0.802</td>\n",
       "      <td>...</td>\n",
       "      <td>0.000</td>\n",
       "      <td>0.002</td>\n",
       "      <td>0.000</td>\n",
       "      <td>0.000</td>\n",
       "      <td>0.000</td>\n",
       "      <td>0.000</td>\n",
       "      <td>0.000</td>\n",
       "      <td>0.000</td>\n",
       "      <td>0.000</td>\n",
       "      <td>0.008</td>\n",
       "    </tr>\n",
       "    <tr>\n",
       "      <th>29</th>\n",
       "      <td>TYP</td>\n",
       "      <td>27</td>\n",
       "      <td>2.148</td>\n",
       "      <td>0.338</td>\n",
       "      <td>1.512</td>\n",
       "      <td>0.315</td>\n",
       "      <td>0.597</td>\n",
       "      <td>2.093</td>\n",
       "      <td>46</td>\n",
       "      <td>0.561</td>\n",
       "      <td>...</td>\n",
       "      <td>0.000</td>\n",
       "      <td>0.000</td>\n",
       "      <td>0.000</td>\n",
       "      <td>0.000</td>\n",
       "      <td>0.000</td>\n",
       "      <td>0.000</td>\n",
       "      <td>0.000</td>\n",
       "      <td>0.000</td>\n",
       "      <td>0.000</td>\n",
       "      <td>0.000</td>\n",
       "    </tr>\n",
       "    <tr>\n",
       "      <th>30</th>\n",
       "      <td>TYP</td>\n",
       "      <td>28</td>\n",
       "      <td>1.952</td>\n",
       "      <td>0.341</td>\n",
       "      <td>1.382</td>\n",
       "      <td>0.302</td>\n",
       "      <td>0.438</td>\n",
       "      <td>1.827</td>\n",
       "      <td>42</td>\n",
       "      <td>0.494</td>\n",
       "      <td>...</td>\n",
       "      <td>0.000</td>\n",
       "      <td>0.000</td>\n",
       "      <td>0.000</td>\n",
       "      <td>0.000</td>\n",
       "      <td>0.042</td>\n",
       "      <td>0.000</td>\n",
       "      <td>0.000</td>\n",
       "      <td>0.000</td>\n",
       "      <td>0.000</td>\n",
       "      <td>0.000</td>\n",
       "    </tr>\n",
       "    <tr>\n",
       "      <th>31</th>\n",
       "      <td>TYP</td>\n",
       "      <td>27</td>\n",
       "      <td>2.640</td>\n",
       "      <td>0.558</td>\n",
       "      <td>2.060</td>\n",
       "      <td>0.549</td>\n",
       "      <td>0.274</td>\n",
       "      <td>0.910</td>\n",
       "      <td>44</td>\n",
       "      <td>0.629</td>\n",
       "      <td>...</td>\n",
       "      <td>0.000</td>\n",
       "      <td>0.000</td>\n",
       "      <td>0.000</td>\n",
       "      <td>0.000</td>\n",
       "      <td>0.000</td>\n",
       "      <td>0.000</td>\n",
       "      <td>0.000</td>\n",
       "      <td>0.000</td>\n",
       "      <td>0.000</td>\n",
       "      <td>0.000</td>\n",
       "    </tr>\n",
       "    <tr>\n",
       "      <th>32</th>\n",
       "      <td>TYP</td>\n",
       "      <td>27</td>\n",
       "      <td>2.606</td>\n",
       "      <td>0.509</td>\n",
       "      <td>2.308</td>\n",
       "      <td>0.569</td>\n",
       "      <td>0.500</td>\n",
       "      <td>1.051</td>\n",
       "      <td>45</td>\n",
       "      <td>0.616</td>\n",
       "      <td>...</td>\n",
       "      <td>0.000</td>\n",
       "      <td>0.000</td>\n",
       "      <td>0.000</td>\n",
       "      <td>0.000</td>\n",
       "      <td>0.000</td>\n",
       "      <td>0.000</td>\n",
       "      <td>0.000</td>\n",
       "      <td>0.000</td>\n",
       "      <td>0.000</td>\n",
       "      <td>0.000</td>\n",
       "    </tr>\n",
       "    <tr>\n",
       "      <th>33</th>\n",
       "      <td>TYP</td>\n",
       "      <td>23</td>\n",
       "      <td>1.083</td>\n",
       "      <td>0.215</td>\n",
       "      <td>1.000</td>\n",
       "      <td>0.253</td>\n",
       "      <td>1.000</td>\n",
       "      <td>3.801</td>\n",
       "      <td>1</td>\n",
       "      <td>0.014</td>\n",
       "      <td>...</td>\n",
       "      <td>0.000</td>\n",
       "      <td>0.000</td>\n",
       "      <td>0.000</td>\n",
       "      <td>0.000</td>\n",
       "      <td>0.000</td>\n",
       "      <td>0.000</td>\n",
       "      <td>0.000</td>\n",
       "      <td>0.000</td>\n",
       "      <td>0.000</td>\n",
       "      <td>0.000</td>\n",
       "    </tr>\n",
       "    <tr>\n",
       "      <th>34</th>\n",
       "      <td>TYP</td>\n",
       "      <td>21</td>\n",
       "      <td>1.581</td>\n",
       "      <td>0.361</td>\n",
       "      <td>1.359</td>\n",
       "      <td>0.396</td>\n",
       "      <td>0.358</td>\n",
       "      <td>1.278</td>\n",
       "      <td>18</td>\n",
       "      <td>0.243</td>\n",
       "      <td>...</td>\n",
       "      <td>0.000</td>\n",
       "      <td>0.000</td>\n",
       "      <td>0.000</td>\n",
       "      <td>0.000</td>\n",
       "      <td>0.000</td>\n",
       "      <td>0.000</td>\n",
       "      <td>0.008</td>\n",
       "      <td>0.000</td>\n",
       "      <td>0.000</td>\n",
       "      <td>0.000</td>\n",
       "    </tr>\n",
       "    <tr>\n",
       "      <th>35</th>\n",
       "      <td>TYP</td>\n",
       "      <td>21</td>\n",
       "      <td>1.096</td>\n",
       "      <td>0.224</td>\n",
       "      <td>1.000</td>\n",
       "      <td>0.249</td>\n",
       "      <td>0.733</td>\n",
       "      <td>2.632</td>\n",
       "      <td>4</td>\n",
       "      <td>0.059</td>\n",
       "      <td>...</td>\n",
       "      <td>0.000</td>\n",
       "      <td>0.000</td>\n",
       "      <td>0.000</td>\n",
       "      <td>0.000</td>\n",
       "      <td>0.000</td>\n",
       "      <td>0.000</td>\n",
       "      <td>0.000</td>\n",
       "      <td>0.000</td>\n",
       "      <td>0.075</td>\n",
       "      <td>0.000</td>\n",
       "    </tr>\n",
       "    <tr>\n",
       "      <th>36</th>\n",
       "      <td>TYP</td>\n",
       "      <td>44</td>\n",
       "      <td>5.448</td>\n",
       "      <td>1.049</td>\n",
       "      <td>4.000</td>\n",
       "      <td>0.978</td>\n",
       "      <td>0.393</td>\n",
       "      <td>1.041</td>\n",
       "      <td>76</td>\n",
       "      <td>0.874</td>\n",
       "      <td>...</td>\n",
       "      <td>0.000</td>\n",
       "      <td>0.000</td>\n",
       "      <td>0.000</td>\n",
       "      <td>0.000</td>\n",
       "      <td>0.000</td>\n",
       "      <td>0.000</td>\n",
       "      <td>0.000</td>\n",
       "      <td>0.000</td>\n",
       "      <td>0.000</td>\n",
       "      <td>0.000</td>\n",
       "    </tr>\n",
       "    <tr>\n",
       "      <th>37</th>\n",
       "      <td>TYP</td>\n",
       "      <td>43</td>\n",
       "      <td>3.742</td>\n",
       "      <td>0.648</td>\n",
       "      <td>2.982</td>\n",
       "      <td>0.679</td>\n",
       "      <td>0.494</td>\n",
       "      <td>1.639</td>\n",
       "      <td>55</td>\n",
       "      <td>0.733</td>\n",
       "      <td>...</td>\n",
       "      <td>0.000</td>\n",
       "      <td>0.000</td>\n",
       "      <td>0.000</td>\n",
       "      <td>0.000</td>\n",
       "      <td>0.000</td>\n",
       "      <td>0.000</td>\n",
       "      <td>0.000</td>\n",
       "      <td>0.000</td>\n",
       "      <td>0.000</td>\n",
       "      <td>0.000</td>\n",
       "    </tr>\n",
       "  </tbody>\n",
       "</table>\n",
       "<p>38 rows × 71 columns</p>\n",
       "</div>"
      ],
      "text/plain": [
       "    ASD  age_in_months  child_mlu  percent_child_parents_mlu  child_mluw  \\\n",
       "0   TYP             43      2.641                      0.398       2.604   \n",
       "1   ASD             51      1.105                      0.218       1.000   \n",
       "2   TYP             32      3.158                      0.449       2.719   \n",
       "3   ASD             44      2.394                      0.462       1.979   \n",
       "4   ASD             79      5.213                      0.841       4.023   \n",
       "5   TYP             37      4.358                      0.634       3.672   \n",
       "6   ASD             73      3.625                      0.639       3.410   \n",
       "7   TYP             35      7.855                      1.203       6.642   \n",
       "8   TYP             53      3.341                      0.745       3.183   \n",
       "9   TYP             38      3.976                      0.581       2.807   \n",
       "10  TYP             32      4.241                      0.730       3.753   \n",
       "11  ASD             43      2.568                      0.651       1.816   \n",
       "12  TYP             33      3.629                      0.497       2.598   \n",
       "13  ASD             59      4.392                      0.611       3.621   \n",
       "14  TYP             35      3.917                      0.542       3.109   \n",
       "15  ASD             62      2.483                      0.510       2.275   \n",
       "16  TYP             24      1.333                      0.317       1.074   \n",
       "17  ASD             65      1.389                      0.317       1.125   \n",
       "18  TYP             38      3.785                      0.804       3.030   \n",
       "19  ASD             53      1.878                      0.421       1.524   \n",
       "20  ASD             76      4.283                      0.698       3.708   \n",
       "21  TYP             24      1.051                      0.218       1.000   \n",
       "22  ASD             64      1.444                      0.269       1.344   \n",
       "23  TYP             32      4.735                      0.813       3.419   \n",
       "24  ASD             66      3.067                      0.503       3.316   \n",
       "25  TYP             33      2.630                      0.371       2.254   \n",
       "26  ASD             59      1.000                      0.198       0.000   \n",
       "27  TYP             32      3.730                      0.698       2.567   \n",
       "28  TYP             29      4.084                      0.860       3.129   \n",
       "29  TYP             27      2.148                      0.338       1.512   \n",
       "30  TYP             28      1.952                      0.341       1.382   \n",
       "31  TYP             27      2.640                      0.558       2.060   \n",
       "32  TYP             27      2.606                      0.509       2.308   \n",
       "33  TYP             23      1.083                      0.215       1.000   \n",
       "34  TYP             21      1.581                      0.361       1.359   \n",
       "35  TYP             21      1.096                      0.224       1.000   \n",
       "36  TYP             44      5.448                      1.049       4.000   \n",
       "37  TYP             43      3.742                      0.648       2.982   \n",
       "\n",
       "    percent_child_parents_mluw  child_ttr  percent_child_parents_ttr  \\\n",
       "0                        0.472      0.558                      2.215   \n",
       "1                        0.265      0.500                      2.556   \n",
       "2                        0.501      0.394                      1.218   \n",
       "3                        0.488      0.527                      1.905   \n",
       "4                        0.832      0.421                      0.972   \n",
       "5                        0.665      0.443                      1.496   \n",
       "6                        0.793      0.526                      2.072   \n",
       "7                        1.277      0.326                      0.834   \n",
       "8                        0.873      0.518                      1.161   \n",
       "9                        0.523      0.391                      1.597   \n",
       "10                       0.784      0.299                      0.777   \n",
       "11                       0.626      0.435                      1.465   \n",
       "12                       0.431      0.445                      1.920   \n",
       "13                       0.640      0.467                      1.507   \n",
       "14                       0.541      0.437                      1.741   \n",
       "15                       0.615      0.552                      1.987   \n",
       "16                       0.331      0.397                      1.487   \n",
       "17                       0.320      0.254                      1.144   \n",
       "18                       0.832      0.465                      1.076   \n",
       "19                       0.497      0.562                      2.209   \n",
       "20                       0.751      0.391                      1.366   \n",
       "21                       0.255      1.000                      4.445   \n",
       "22                       0.324      0.512                      3.007   \n",
       "23                       0.765      0.321                      1.289   \n",
       "24                       0.694      0.397                      1.491   \n",
       "25                       0.396      0.479                      2.042   \n",
       "26                       0.000      0.000                      0.000   \n",
       "27                       0.597      0.442                      1.344   \n",
       "28                       0.834      0.364                      1.052   \n",
       "29                       0.315      0.597                      2.093   \n",
       "30                       0.302      0.438                      1.827   \n",
       "31                       0.549      0.274                      0.910   \n",
       "32                       0.569      0.500                      1.051   \n",
       "33                       0.253      1.000                      3.801   \n",
       "34                       0.396      0.358                      1.278   \n",
       "35                       0.249      0.733                      2.632   \n",
       "36                       0.978      0.393                      1.041   \n",
       "37                       0.679      0.494                      1.639   \n",
       "\n",
       "    child_ipsyn  percent_child_parents_ipsyn  ...  pos_percent_sub#n  \\\n",
       "0            61                        0.701  ...              0.000   \n",
       "1             2                        0.026  ...              0.000   \n",
       "2            57                        0.606  ...              0.000   \n",
       "3            40                        0.519  ...              0.000   \n",
       "4            81                        0.931  ...              0.000   \n",
       "5            77                        0.885  ...              0.000   \n",
       "6            53                        0.654  ...              0.000   \n",
       "7            74                        0.881  ...              0.004   \n",
       "8            56                        0.767  ...              0.000   \n",
       "9            71                        0.826  ...              0.000   \n",
       "10           64                        0.865  ...              0.000   \n",
       "11           20                        0.328  ...              0.000   \n",
       "12           66                        0.742  ...              0.000   \n",
       "13           74                        0.892  ...              0.000   \n",
       "14           71                        0.755  ...              0.000   \n",
       "15           55                        0.671  ...              0.000   \n",
       "16           10                        0.145  ...              0.000   \n",
       "17           15                        0.197  ...              0.000   \n",
       "18           60                        0.698  ...              0.000   \n",
       "19           20                        0.308  ...              0.000   \n",
       "20           75                        0.843  ...              0.000   \n",
       "21            3                        0.043  ...              0.000   \n",
       "22           37                        0.597  ...              0.000   \n",
       "23           65                        0.915  ...              0.000   \n",
       "24           18                        0.212  ...              0.000   \n",
       "25           43                        0.531  ...              0.000   \n",
       "26            0                        0.000  ...              0.000   \n",
       "27           61                        0.744  ...              0.000   \n",
       "28           69                        0.802  ...              0.000   \n",
       "29           46                        0.561  ...              0.000   \n",
       "30           42                        0.494  ...              0.000   \n",
       "31           44                        0.629  ...              0.000   \n",
       "32           45                        0.616  ...              0.000   \n",
       "33            1                        0.014  ...              0.000   \n",
       "34           18                        0.243  ...              0.000   \n",
       "35            4                        0.059  ...              0.000   \n",
       "36           76                        0.874  ...              0.000   \n",
       "37           55                        0.733  ...              0.000   \n",
       "\n",
       "    pos_percent_n:pt  pos_percent_pro:refl  pos_percent_un#part  \\\n",
       "0              0.000                 0.000                0.000   \n",
       "1              0.000                 0.000                0.000   \n",
       "2              0.000                 0.000                0.000   \n",
       "3              0.000                 0.000                0.000   \n",
       "4              0.000                 0.000                0.000   \n",
       "5              0.000                 0.000                0.000   \n",
       "6              0.000                 0.000                0.000   \n",
       "7              0.000                 0.000                0.000   \n",
       "8              0.007                 0.003                0.003   \n",
       "9              0.000                 0.000                0.000   \n",
       "10             0.006                 0.000                0.000   \n",
       "11             0.000                 0.000                0.000   \n",
       "12             0.000                 0.000                0.000   \n",
       "13             0.000                 0.000                0.000   \n",
       "14             0.007                 0.002                0.000   \n",
       "15             0.000                 0.000                0.000   \n",
       "16             0.000                 0.000                0.000   \n",
       "17             0.000                 0.000                0.000   \n",
       "18             0.000                 0.000                0.000   \n",
       "19             0.000                 0.000                0.000   \n",
       "20             0.000                 0.000                0.000   \n",
       "21             0.000                 0.000                0.000   \n",
       "22             0.000                 0.000                0.000   \n",
       "23             0.002                 0.000                0.000   \n",
       "24             0.000                 0.000                0.000   \n",
       "25             0.000                 0.000                0.000   \n",
       "26             0.000                 0.000                0.000   \n",
       "27             0.000                 0.000                0.000   \n",
       "28             0.002                 0.000                0.000   \n",
       "29             0.000                 0.000                0.000   \n",
       "30             0.000                 0.000                0.000   \n",
       "31             0.000                 0.000                0.000   \n",
       "32             0.000                 0.000                0.000   \n",
       "33             0.000                 0.000                0.000   \n",
       "34             0.000                 0.000                0.000   \n",
       "35             0.000                 0.000                0.000   \n",
       "36             0.000                 0.000                0.000   \n",
       "37             0.000                 0.000                0.000   \n",
       "\n",
       "    pos_percent_L2  pos_percent_chi  pos_percent_pro:poss  pos_percent_n:let  \\\n",
       "0            0.000            0.000                 0.000              0.000   \n",
       "1            0.000            0.000                 0.000              0.000   \n",
       "2            0.000            0.000                 0.000              0.000   \n",
       "3            0.000            0.000                 0.000              0.000   \n",
       "4            0.000            0.000                 0.000              0.000   \n",
       "5            0.000            0.000                 0.000              0.000   \n",
       "6            0.000            0.000                 0.000              0.000   \n",
       "7            0.000            0.000                 0.000              0.000   \n",
       "8            0.000            0.000                 0.000              0.000   \n",
       "9            0.000            0.000                 0.000              0.000   \n",
       "10           0.009            0.002                 0.000              0.000   \n",
       "11           0.009            0.000                 0.000              0.000   \n",
       "12           0.000            0.000                 0.003              0.000   \n",
       "13           0.000            0.002                 0.000              0.000   \n",
       "14           0.000            0.000                 0.000              0.000   \n",
       "15           0.000            0.005                 0.000              0.000   \n",
       "16           0.000            0.005                 0.000              0.000   \n",
       "17           0.000            0.000                 0.000              0.000   \n",
       "18           0.000            0.003                 0.007              0.000   \n",
       "19           0.000            0.000                 0.000              0.000   \n",
       "20           0.000            0.000                 0.000              0.004   \n",
       "21           0.000            0.000                 0.000              0.000   \n",
       "22           0.000            0.000                 0.000              0.000   \n",
       "23           0.000            0.000                 0.004              0.000   \n",
       "24           0.000            0.000                 0.000              0.000   \n",
       "25           0.000            0.000                 0.000              0.000   \n",
       "26           0.000            0.000                 0.000              0.000   \n",
       "27           0.000            0.000                 0.000              0.000   \n",
       "28           0.000            0.000                 0.000              0.000   \n",
       "29           0.000            0.000                 0.000              0.000   \n",
       "30           0.042            0.000                 0.000              0.000   \n",
       "31           0.000            0.000                 0.000              0.000   \n",
       "32           0.000            0.000                 0.000              0.000   \n",
       "33           0.000            0.000                 0.000              0.000   \n",
       "34           0.000            0.000                 0.008              0.000   \n",
       "35           0.000            0.000                 0.000              0.000   \n",
       "36           0.000            0.000                 0.000              0.000   \n",
       "37           0.000            0.000                 0.000              0.000   \n",
       "\n",
       "    pos_percent_bab  pos_percent_sing  \n",
       "0             0.000             0.000  \n",
       "1             0.000             0.000  \n",
       "2             0.000             0.000  \n",
       "3             0.000             0.000  \n",
       "4             0.000             0.000  \n",
       "5             0.000             0.000  \n",
       "6             0.000             0.000  \n",
       "7             0.000             0.000  \n",
       "8             0.000             0.000  \n",
       "9             0.000             0.000  \n",
       "10            0.000             0.000  \n",
       "11            0.000             0.000  \n",
       "12            0.000             0.000  \n",
       "13            0.000             0.000  \n",
       "14            0.000             0.000  \n",
       "15            0.000             0.000  \n",
       "16            0.000             0.000  \n",
       "17            0.000             0.000  \n",
       "18            0.000             0.000  \n",
       "19            0.000             0.000  \n",
       "20            0.000             0.000  \n",
       "21            0.024             0.000  \n",
       "22            0.000             0.000  \n",
       "23            0.000             0.000  \n",
       "24            0.000             0.000  \n",
       "25            0.000             0.000  \n",
       "26            0.000             0.000  \n",
       "27            0.000             0.000  \n",
       "28            0.000             0.008  \n",
       "29            0.000             0.000  \n",
       "30            0.000             0.000  \n",
       "31            0.000             0.000  \n",
       "32            0.000             0.000  \n",
       "33            0.000             0.000  \n",
       "34            0.000             0.000  \n",
       "35            0.075             0.000  \n",
       "36            0.000             0.000  \n",
       "37            0.000             0.000  \n",
       "\n",
       "[38 rows x 71 columns]"
      ]
     },
     "execution_count": 37,
     "metadata": {},
     "output_type": "execute_result"
    }
   ],
   "source": [
    "df_eda"
   ]
  },
  {
   "cell_type": "code",
   "execution_count": 38,
   "id": "0e0b812a",
   "metadata": {},
   "outputs": [],
   "source": [
    "from ydata_profiling import ProfileReport"
   ]
  },
  {
   "cell_type": "code",
   "execution_count": 39,
   "id": "4102c6df",
   "metadata": {},
   "outputs": [],
   "source": [
    "# Generate the Profiling Report\n",
    "profile = ProfileReport(\n",
    "    df_eda, title=\"Exploratory Data Analysis\", html={\"style\": {\"full_width\": True}}, sort=None\n",
    ")"
   ]
  },
  {
   "cell_type": "code",
   "execution_count": 40,
   "id": "363bb944",
   "metadata": {
    "scrolled": false
   },
   "outputs": [
    {
     "data": {
      "application/vnd.jupyter.widget-view+json": {
       "model_id": "81908f9be0db449d9c7b2d5916528c0d",
       "version_major": 2,
       "version_minor": 0
      },
      "text/plain": [
       "Summarize dataset:   0%|          | 0/5 [00:00<?, ?it/s]"
      ]
     },
     "metadata": {},
     "output_type": "display_data"
    },
    {
     "data": {
      "application/vnd.jupyter.widget-view+json": {
       "model_id": "77e0a90642724c4784c396f2fe450680",
       "version_major": 2,
       "version_minor": 0
      },
      "text/plain": [
       "Generate report structure:   0%|          | 0/1 [00:00<?, ?it/s]"
      ]
     },
     "metadata": {},
     "output_type": "display_data"
    },
    {
     "data": {
      "application/vnd.jupyter.widget-view+json": {
       "model_id": "",
       "version_major": 2,
       "version_minor": 0
      },
      "text/plain": [
       "Render widgets:   0%|          | 0/1 [00:00<?, ?it/s]"
      ]
     },
     "metadata": {},
     "output_type": "display_data"
    },
    {
     "name": "stderr",
     "output_type": "stream",
     "text": [
      "IOPub message rate exceeded.\n",
      "The notebook server will temporarily stop sending output\n",
      "to the client in order to avoid crashing it.\n",
      "To change this limit, set the config variable\n",
      "`--NotebookApp.iopub_msg_rate_limit`.\n",
      "\n",
      "Current values:\n",
      "NotebookApp.iopub_msg_rate_limit=1000.0 (msgs/sec)\n",
      "NotebookApp.rate_limit_window=3.0 (secs)\n",
      "\n"
     ]
    },
    {
     "data": {
      "application/vnd.jupyter.widget-view+json": {
       "model_id": "6f7942d3744c490cbf0c296e206fa078",
       "version_major": 2,
       "version_minor": 0
      },
      "text/plain": [
       "VBox(children=(Tab(children=(Tab(children=(GridBox(children=(VBox(children=(GridspecLayout(children=(HTML(valu…"
      ]
     },
     "metadata": {},
     "output_type": "display_data"
    }
   ],
   "source": [
    "# The Notebook Widgets Interface\n",
    "profile.to_widgets()"
   ]
  },
  {
   "cell_type": "code",
   "execution_count": null,
   "id": "f867589c",
   "metadata": {},
   "outputs": [],
   "source": [
    "# Generate our EDA in a HTML File\n",
    "profile.to_file(\"Nadig_EDA.html\")"
   ]
  },
  {
   "cell_type": "markdown",
   "id": "2b05e0e4-2341-44f2-ab7e-c7e677554474",
   "metadata": {
    "id": "2b05e0e4-2341-44f2-ab7e-c7e677554474"
   },
   "source": [
    "## 6.2 - Univariate Analysis"
   ]
  },
  {
   "cell_type": "markdown",
   "id": "71e8eca1-6694-4940-b070-c2c67566981c",
   "metadata": {
    "id": "71e8eca1-6694-4940-b070-c2c67566981c"
   },
   "source": [
    "*Check the distribution of variables taking into account their data types*"
   ]
  },
  {
   "cell_type": "markdown",
   "id": "55a67b62-5296-4deb-ad14-68f4c6ab9ed6",
   "metadata": {
    "id": "55a67b62-5296-4deb-ad14-68f4c6ab9ed6"
   },
   "source": [
    "### 6.2.1 - Numeric Variables"
   ]
  },
  {
   "cell_type": "code",
   "execution_count": null,
   "id": "4be8c28e-94fb-42aa-992b-3c5e65fbfdd8",
   "metadata": {
    "id": "4be8c28e-94fb-42aa-992b-3c5e65fbfdd8"
   },
   "outputs": [],
   "source": [
    "# TO-DO"
   ]
  },
  {
   "cell_type": "markdown",
   "id": "c44be4c7-c566-4bbc-9c5b-9fb010ef56fe",
   "metadata": {
    "id": "c44be4c7-c566-4bbc-9c5b-9fb010ef56fe"
   },
   "source": [
    "### 6.2.2 - Categorical Variables"
   ]
  },
  {
   "cell_type": "code",
   "execution_count": null,
   "id": "7f346d0c-609c-49be-84b2-940e85ac8ccb",
   "metadata": {
    "id": "7f346d0c-609c-49be-84b2-940e85ac8ccb"
   },
   "outputs": [],
   "source": [
    "# TO-DO"
   ]
  },
  {
   "cell_type": "markdown",
   "id": "6159ba9a-6c2b-4f91-ad83-fca8cd5c78cd",
   "metadata": {
    "id": "6159ba9a-6c2b-4f91-ad83-fca8cd5c78cd"
   },
   "source": [
    "### 6.2.3 - Time Variables"
   ]
  },
  {
   "cell_type": "code",
   "execution_count": null,
   "id": "d697e251-9b62-4a87-82be-10ef02cca916",
   "metadata": {
    "id": "d697e251-9b62-4a87-82be-10ef02cca916"
   },
   "outputs": [],
   "source": [
    "# TO-DO"
   ]
  },
  {
   "cell_type": "markdown",
   "id": "10a9060a-d1f2-4c3a-b56a-f1d4d34f1c5c",
   "metadata": {
    "id": "10a9060a-d1f2-4c3a-b56a-f1d4d34f1c5c"
   },
   "source": [
    "## 6.3 - Bivariate Analysis"
   ]
  },
  {
   "cell_type": "markdown",
   "id": "c6abb6b5-fb46-4ef7-9cf7-5b7162cb637f",
   "metadata": {
    "id": "c6abb6b5-fb46-4ef7-9cf7-5b7162cb637f"
   },
   "source": [
    "*Check the correlation among variables*"
   ]
  },
  {
   "cell_type": "markdown",
   "id": "61c0fdd5-b2be-43c4-a0a5-137d0451da43",
   "metadata": {
    "id": "61c0fdd5-b2be-43c4-a0a5-137d0451da43"
   },
   "source": [
    "### 6.3.1 - Numeric vs Numeric Variables"
   ]
  },
  {
   "cell_type": "code",
   "execution_count": null,
   "id": "71e55f35-6926-43a4-9874-69dacb7397f8",
   "metadata": {
    "id": "71e55f35-6926-43a4-9874-69dacb7397f8"
   },
   "outputs": [],
   "source": [
    "# TO-DO"
   ]
  },
  {
   "cell_type": "markdown",
   "id": "1ec003fc-82aa-4cc8-a3d3-dbf0a4f0d377",
   "metadata": {
    "id": "1ec003fc-82aa-4cc8-a3d3-dbf0a4f0d377"
   },
   "source": [
    "### 6.3.2 - Categorical vs Categorical Variables"
   ]
  },
  {
   "cell_type": "code",
   "execution_count": null,
   "id": "d7e08eeb-55a7-47d4-bb8c-bf04f39499b6",
   "metadata": {
    "id": "d7e08eeb-55a7-47d4-bb8c-bf04f39499b6"
   },
   "outputs": [],
   "source": [
    "# TO-DO"
   ]
  },
  {
   "cell_type": "markdown",
   "id": "b3a55500-c269-489b-9f24-1e8f9b19d73f",
   "metadata": {
    "id": "b3a55500-c269-489b-9f24-1e8f9b19d73f"
   },
   "source": [
    "### 6.3.3 - Numerical vs Categorical Variables"
   ]
  },
  {
   "cell_type": "code",
   "execution_count": null,
   "id": "f39f519a-d32b-4434-aa73-a7495d420851",
   "metadata": {
    "id": "f39f519a-d32b-4434-aa73-a7495d420851"
   },
   "outputs": [],
   "source": [
    "# TO-DO"
   ]
  },
  {
   "cell_type": "markdown",
   "id": "e6a33c4e-8268-4930-972a-b6e3a8486978",
   "metadata": {
    "id": "e6a33c4e-8268-4930-972a-b6e3a8486978"
   },
   "source": [
    "# 7 - Synthetic Data"
   ]
  },
  {
   "cell_type": "markdown",
   "id": "0e6e82f1-9e8c-46e3-a4fa-45b18627453c",
   "metadata": {
    "id": "0e6e82f1-9e8c-46e3-a4fa-45b18627453c"
   },
   "source": [
    "*Do we need to create synthetic data?*"
   ]
  },
  {
   "cell_type": "markdown",
   "id": "4b8a72e5-8f5f-4afc-a55a-ebd95cee5199",
   "metadata": {
    "id": "4b8a72e5-8f5f-4afc-a55a-ebd95cee5199"
   },
   "source": [
    "*Is it possible to create synthetic data for this problem?*"
   ]
  },
  {
   "cell_type": "markdown",
   "id": "065170f8-b4ec-4f6e-a438-6dc48e96e71a",
   "metadata": {
    "id": "065170f8-b4ec-4f6e-a438-6dc48e96e71a"
   },
   "source": [
    "*What are the pros and cons of synthetic data?*"
   ]
  },
  {
   "cell_type": "markdown",
   "id": "b7bf2e78-a626-48b9-a44b-2d61f30b367f",
   "metadata": {
    "id": "b7bf2e78-a626-48b9-a44b-2d61f30b367f"
   },
   "source": [
    "*Techniques*:\n",
    "- oversampling\n",
    "- undersampling\n",
    "- SMOTE\n",
    "- model loss function weighting"
   ]
  },
  {
   "cell_type": "code",
   "execution_count": null,
   "id": "9f1a7042-bbcf-4d17-a5e6-a40b7694e417",
   "metadata": {
    "id": "9f1a7042-bbcf-4d17-a5e6-a40b7694e417"
   },
   "outputs": [],
   "source": [
    "# TO-DO"
   ]
  },
  {
   "cell_type": "markdown",
   "id": "547d9300-5534-472b-acfd-f1abb50d7d6a",
   "metadata": {
    "id": "547d9300-5534-472b-acfd-f1abb50d7d6a"
   },
   "source": [
    "# 8 Data Preparation"
   ]
  },
  {
   "cell_type": "markdown",
   "id": "b6471d30-7d80-4215-a91f-4e611fb4cf15",
   "metadata": {
    "id": "b6471d30-7d80-4215-a91f-4e611fb4cf15"
   },
   "source": [
    "## 8.1 - Restore Point"
   ]
  },
  {
   "cell_type": "markdown",
   "id": "60cd03bc-299f-4c4b-8355-680e654c9703",
   "metadata": {
    "id": "60cd03bc-299f-4c4b-8355-680e654c9703"
   },
   "source": [
    "*Create a checkpoint of the last dataframe from previous section*"
   ]
  },
  {
   "cell_type": "code",
   "execution_count": null,
   "id": "65df4fd8-17bb-449f-b94b-49a3b04d1532",
   "metadata": {
    "colab": {
     "base_uri": "https://localhost:8080/",
     "height": 237
    },
    "id": "65df4fd8-17bb-449f-b94b-49a3b04d1532",
    "outputId": "e6655992-38dc-4650-981c-04b2b21d966a"
   },
   "outputs": [
    {
     "data": {
      "text/html": [
       "\n",
       "  <div id=\"df-5da52393-39da-478b-a28b-ca03d2a947b2\">\n",
       "    <div class=\"colab-df-container\">\n",
       "      <div>\n",
       "<style scoped>\n",
       "    .dataframe tbody tr th:only-of-type {\n",
       "        vertical-align: middle;\n",
       "    }\n",
       "\n",
       "    .dataframe tbody tr th {\n",
       "        vertical-align: top;\n",
       "    }\n",
       "\n",
       "    .dataframe thead th {\n",
       "        text-align: right;\n",
       "    }\n",
       "</style>\n",
       "<table border=\"1\" class=\"dataframe\">\n",
       "  <thead>\n",
       "    <tr style=\"text-align: right;\">\n",
       "      <th></th>\n",
       "      <th>ASD</th>\n",
       "      <th>child_mlu</th>\n",
       "      <th>percent_child_parents_mlu</th>\n",
       "      <th>child_mluw</th>\n",
       "      <th>percent_child_parents_mluw</th>\n",
       "      <th>child_ttr</th>\n",
       "      <th>percent_child_parents_ttr</th>\n",
       "      <th>child_ipsyn</th>\n",
       "      <th>percent_child_parents_ipsyn</th>\n",
       "      <th>child_num_words</th>\n",
       "      <th>...</th>\n",
       "      <th>pos_percent_sub#n</th>\n",
       "      <th>pos_percent_n:pt</th>\n",
       "      <th>pos_percent_pro:refl</th>\n",
       "      <th>pos_percent_un#part</th>\n",
       "      <th>pos_percent_L2</th>\n",
       "      <th>pos_percent_chi</th>\n",
       "      <th>pos_percent_pro:poss</th>\n",
       "      <th>pos_percent_n:let</th>\n",
       "      <th>pos_percent_bab</th>\n",
       "      <th>pos_percent_sing</th>\n",
       "    </tr>\n",
       "  </thead>\n",
       "  <tbody>\n",
       "    <tr>\n",
       "      <th>5</th>\n",
       "      <td>TYP</td>\n",
       "      <td>4.358</td>\n",
       "      <td>0.634</td>\n",
       "      <td>3.672</td>\n",
       "      <td>0.665</td>\n",
       "      <td>0.443</td>\n",
       "      <td>1.496</td>\n",
       "      <td>77</td>\n",
       "      <td>0.885</td>\n",
       "      <td>332</td>\n",
       "      <td>...</td>\n",
       "      <td>0.000</td>\n",
       "      <td>0.000</td>\n",
       "      <td>0.000</td>\n",
       "      <td>0.000</td>\n",
       "      <td>0.000</td>\n",
       "      <td>0.000</td>\n",
       "      <td>0.000</td>\n",
       "      <td>0.000</td>\n",
       "      <td>0.000</td>\n",
       "      <td>0.000</td>\n",
       "    </tr>\n",
       "    <tr>\n",
       "      <th>16</th>\n",
       "      <td>TYP</td>\n",
       "      <td>1.333</td>\n",
       "      <td>0.317</td>\n",
       "      <td>1.074</td>\n",
       "      <td>0.331</td>\n",
       "      <td>0.397</td>\n",
       "      <td>1.487</td>\n",
       "      <td>10</td>\n",
       "      <td>0.145</td>\n",
       "      <td>205</td>\n",
       "      <td>...</td>\n",
       "      <td>0.000</td>\n",
       "      <td>0.000</td>\n",
       "      <td>0.000</td>\n",
       "      <td>0.000</td>\n",
       "      <td>0.000</td>\n",
       "      <td>0.005</td>\n",
       "      <td>0.000</td>\n",
       "      <td>0.000</td>\n",
       "      <td>0.000</td>\n",
       "      <td>0.000</td>\n",
       "    </tr>\n",
       "    <tr>\n",
       "      <th>2</th>\n",
       "      <td>TYP</td>\n",
       "      <td>3.158</td>\n",
       "      <td>0.449</td>\n",
       "      <td>2.719</td>\n",
       "      <td>0.501</td>\n",
       "      <td>0.394</td>\n",
       "      <td>1.218</td>\n",
       "      <td>57</td>\n",
       "      <td>0.606</td>\n",
       "      <td>233</td>\n",
       "      <td>...</td>\n",
       "      <td>0.000</td>\n",
       "      <td>0.000</td>\n",
       "      <td>0.000</td>\n",
       "      <td>0.000</td>\n",
       "      <td>0.000</td>\n",
       "      <td>0.000</td>\n",
       "      <td>0.000</td>\n",
       "      <td>0.000</td>\n",
       "      <td>0.000</td>\n",
       "      <td>0.000</td>\n",
       "    </tr>\n",
       "  </tbody>\n",
       "</table>\n",
       "<p>3 rows × 70 columns</p>\n",
       "</div>\n",
       "      <button class=\"colab-df-convert\" onclick=\"convertToInteractive('df-5da52393-39da-478b-a28b-ca03d2a947b2')\"\n",
       "              title=\"Convert this dataframe to an interactive table.\"\n",
       "              style=\"display:none;\">\n",
       "        \n",
       "  <svg xmlns=\"http://www.w3.org/2000/svg\" height=\"24px\"viewBox=\"0 0 24 24\"\n",
       "       width=\"24px\">\n",
       "    <path d=\"M0 0h24v24H0V0z\" fill=\"none\"/>\n",
       "    <path d=\"M18.56 5.44l.94 2.06.94-2.06 2.06-.94-2.06-.94-.94-2.06-.94 2.06-2.06.94zm-11 1L8.5 8.5l.94-2.06 2.06-.94-2.06-.94L8.5 2.5l-.94 2.06-2.06.94zm10 10l.94 2.06.94-2.06 2.06-.94-2.06-.94-.94-2.06-.94 2.06-2.06.94z\"/><path d=\"M17.41 7.96l-1.37-1.37c-.4-.4-.92-.59-1.43-.59-.52 0-1.04.2-1.43.59L10.3 9.45l-7.72 7.72c-.78.78-.78 2.05 0 2.83L4 21.41c.39.39.9.59 1.41.59.51 0 1.02-.2 1.41-.59l7.78-7.78 2.81-2.81c.8-.78.8-2.07 0-2.86zM5.41 20L4 18.59l7.72-7.72 1.47 1.35L5.41 20z\"/>\n",
       "  </svg>\n",
       "      </button>\n",
       "      \n",
       "  <style>\n",
       "    .colab-df-container {\n",
       "      display:flex;\n",
       "      flex-wrap:wrap;\n",
       "      gap: 12px;\n",
       "    }\n",
       "\n",
       "    .colab-df-convert {\n",
       "      background-color: #E8F0FE;\n",
       "      border: none;\n",
       "      border-radius: 50%;\n",
       "      cursor: pointer;\n",
       "      display: none;\n",
       "      fill: #1967D2;\n",
       "      height: 32px;\n",
       "      padding: 0 0 0 0;\n",
       "      width: 32px;\n",
       "    }\n",
       "\n",
       "    .colab-df-convert:hover {\n",
       "      background-color: #E2EBFA;\n",
       "      box-shadow: 0px 1px 2px rgba(60, 64, 67, 0.3), 0px 1px 3px 1px rgba(60, 64, 67, 0.15);\n",
       "      fill: #174EA6;\n",
       "    }\n",
       "\n",
       "    [theme=dark] .colab-df-convert {\n",
       "      background-color: #3B4455;\n",
       "      fill: #D2E3FC;\n",
       "    }\n",
       "\n",
       "    [theme=dark] .colab-df-convert:hover {\n",
       "      background-color: #434B5C;\n",
       "      box-shadow: 0px 1px 3px 1px rgba(0, 0, 0, 0.15);\n",
       "      filter: drop-shadow(0px 1px 2px rgba(0, 0, 0, 0.3));\n",
       "      fill: #FFFFFF;\n",
       "    }\n",
       "  </style>\n",
       "\n",
       "      <script>\n",
       "        const buttonEl =\n",
       "          document.querySelector('#df-5da52393-39da-478b-a28b-ca03d2a947b2 button.colab-df-convert');\n",
       "        buttonEl.style.display =\n",
       "          google.colab.kernel.accessAllowed ? 'block' : 'none';\n",
       "\n",
       "        async function convertToInteractive(key) {\n",
       "          const element = document.querySelector('#df-5da52393-39da-478b-a28b-ca03d2a947b2');\n",
       "          const dataTable =\n",
       "            await google.colab.kernel.invokeFunction('convertToInteractive',\n",
       "                                                     [key], {});\n",
       "          if (!dataTable) return;\n",
       "\n",
       "          const docLinkHtml = 'Like what you see? Visit the ' +\n",
       "            '<a target=\"_blank\" href=https://colab.research.google.com/notebooks/data_table.ipynb>data table notebook</a>'\n",
       "            + ' to learn more about interactive tables.';\n",
       "          element.innerHTML = '';\n",
       "          dataTable['output_type'] = 'display_data';\n",
       "          await google.colab.output.renderOutput(dataTable, element);\n",
       "          const docLink = document.createElement('div');\n",
       "          docLink.innerHTML = docLinkHtml;\n",
       "          element.appendChild(docLink);\n",
       "        }\n",
       "      </script>\n",
       "    </div>\n",
       "  </div>\n",
       "  "
      ],
      "text/plain": [
       "    ASD  child_mlu  percent_child_parents_mlu  child_mluw  \\\n",
       "5   TYP      4.358                      0.634       3.672   \n",
       "16  TYP      1.333                      0.317       1.074   \n",
       "2   TYP      3.158                      0.449       2.719   \n",
       "\n",
       "    percent_child_parents_mluw  child_ttr  percent_child_parents_ttr  \\\n",
       "5                        0.665      0.443                      1.496   \n",
       "16                       0.331      0.397                      1.487   \n",
       "2                        0.501      0.394                      1.218   \n",
       "\n",
       "    child_ipsyn  percent_child_parents_ipsyn  child_num_words  ...  \\\n",
       "5            77                        0.885              332  ...   \n",
       "16           10                        0.145              205  ...   \n",
       "2            57                        0.606              233  ...   \n",
       "\n",
       "    pos_percent_sub#n  pos_percent_n:pt  pos_percent_pro:refl  \\\n",
       "5               0.000             0.000                 0.000   \n",
       "16              0.000             0.000                 0.000   \n",
       "2               0.000             0.000                 0.000   \n",
       "\n",
       "    pos_percent_un#part  pos_percent_L2  pos_percent_chi  \\\n",
       "5                 0.000           0.000            0.000   \n",
       "16                0.000           0.000            0.005   \n",
       "2                 0.000           0.000            0.000   \n",
       "\n",
       "    pos_percent_pro:poss  pos_percent_n:let  pos_percent_bab  pos_percent_sing  \n",
       "5                  0.000              0.000            0.000             0.000  \n",
       "16                 0.000              0.000            0.000             0.000  \n",
       "2                  0.000              0.000            0.000             0.000  \n",
       "\n",
       "[3 rows x 70 columns]"
      ]
     },
     "execution_count": 43,
     "metadata": {},
     "output_type": "execute_result"
    }
   ],
   "source": [
    "# create a restore point for the previous section dataframe\n",
    "df_prep = df_eda.copy()\n",
    "\n",
    "# check dataframe\n",
    "df_prep.sample(3)"
   ]
  },
  {
   "cell_type": "code",
   "execution_count": null,
   "id": "j80ro2i4tI1k",
   "metadata": {
    "colab": {
     "base_uri": "https://localhost:8080/",
     "height": 440
    },
    "id": "j80ro2i4tI1k",
    "outputId": "d425ba83-df9e-4377-cfa9-efe4e3cc8672"
   },
   "outputs": [
    {
     "data": {
      "application/vnd.google.colaboratory.intrinsic+json": {
       "type": "string"
      },
      "text/plain": [
       "'X data'"
      ]
     },
     "metadata": {},
     "output_type": "display_data"
    },
    {
     "data": {
      "text/html": [
       "\n",
       "  <div id=\"df-36860d43-cf95-4bc2-befb-addfc4bafe84\">\n",
       "    <div class=\"colab-df-container\">\n",
       "      <div>\n",
       "<style scoped>\n",
       "    .dataframe tbody tr th:only-of-type {\n",
       "        vertical-align: middle;\n",
       "    }\n",
       "\n",
       "    .dataframe tbody tr th {\n",
       "        vertical-align: top;\n",
       "    }\n",
       "\n",
       "    .dataframe thead th {\n",
       "        text-align: right;\n",
       "    }\n",
       "</style>\n",
       "<table border=\"1\" class=\"dataframe\">\n",
       "  <thead>\n",
       "    <tr style=\"text-align: right;\">\n",
       "      <th></th>\n",
       "      <th>child_mlu</th>\n",
       "      <th>percent_child_parents_mlu</th>\n",
       "      <th>child_mluw</th>\n",
       "      <th>percent_child_parents_mluw</th>\n",
       "      <th>child_ttr</th>\n",
       "      <th>percent_child_parents_ttr</th>\n",
       "      <th>child_ipsyn</th>\n",
       "      <th>percent_child_parents_ipsyn</th>\n",
       "      <th>child_num_words</th>\n",
       "      <th>perct_child_parents_words</th>\n",
       "      <th>...</th>\n",
       "      <th>pos_percent_sub#n</th>\n",
       "      <th>pos_percent_n:pt</th>\n",
       "      <th>pos_percent_pro:refl</th>\n",
       "      <th>pos_percent_un#part</th>\n",
       "      <th>pos_percent_L2</th>\n",
       "      <th>pos_percent_chi</th>\n",
       "      <th>pos_percent_pro:poss</th>\n",
       "      <th>pos_percent_n:let</th>\n",
       "      <th>pos_percent_bab</th>\n",
       "      <th>pos_percent_sing</th>\n",
       "    </tr>\n",
       "  </thead>\n",
       "  <tbody>\n",
       "    <tr>\n",
       "      <th>0</th>\n",
       "      <td>2.641</td>\n",
       "      <td>0.398</td>\n",
       "      <td>2.604</td>\n",
       "      <td>0.472</td>\n",
       "      <td>0.558</td>\n",
       "      <td>2.215</td>\n",
       "      <td>61</td>\n",
       "      <td>0.701</td>\n",
       "      <td>212</td>\n",
       "      <td>0.155</td>\n",
       "      <td>...</td>\n",
       "      <td>0.000</td>\n",
       "      <td>0.000</td>\n",
       "      <td>0.000</td>\n",
       "      <td>0.000</td>\n",
       "      <td>0.000</td>\n",
       "      <td>0.000</td>\n",
       "      <td>0.000</td>\n",
       "      <td>0.000</td>\n",
       "      <td>0.000</td>\n",
       "      <td>0.000</td>\n",
       "    </tr>\n",
       "    <tr>\n",
       "      <th>1</th>\n",
       "      <td>1.105</td>\n",
       "      <td>0.218</td>\n",
       "      <td>1.000</td>\n",
       "      <td>0.265</td>\n",
       "      <td>0.500</td>\n",
       "      <td>2.556</td>\n",
       "      <td>2</td>\n",
       "      <td>0.026</td>\n",
       "      <td>21</td>\n",
       "      <td>0.015</td>\n",
       "      <td>...</td>\n",
       "      <td>0.000</td>\n",
       "      <td>0.000</td>\n",
       "      <td>0.000</td>\n",
       "      <td>0.000</td>\n",
       "      <td>0.000</td>\n",
       "      <td>0.000</td>\n",
       "      <td>0.000</td>\n",
       "      <td>0.000</td>\n",
       "      <td>0.000</td>\n",
       "      <td>0.000</td>\n",
       "    </tr>\n",
       "    <tr>\n",
       "      <th>2</th>\n",
       "      <td>3.158</td>\n",
       "      <td>0.449</td>\n",
       "      <td>2.719</td>\n",
       "      <td>0.501</td>\n",
       "      <td>0.394</td>\n",
       "      <td>1.218</td>\n",
       "      <td>57</td>\n",
       "      <td>0.606</td>\n",
       "      <td>233</td>\n",
       "      <td>0.238</td>\n",
       "      <td>...</td>\n",
       "      <td>0.000</td>\n",
       "      <td>0.000</td>\n",
       "      <td>0.000</td>\n",
       "      <td>0.000</td>\n",
       "      <td>0.000</td>\n",
       "      <td>0.000</td>\n",
       "      <td>0.000</td>\n",
       "      <td>0.000</td>\n",
       "      <td>0.000</td>\n",
       "      <td>0.000</td>\n",
       "    </tr>\n",
       "    <tr>\n",
       "      <th>3</th>\n",
       "      <td>2.394</td>\n",
       "      <td>0.462</td>\n",
       "      <td>1.979</td>\n",
       "      <td>0.488</td>\n",
       "      <td>0.527</td>\n",
       "      <td>1.905</td>\n",
       "      <td>40</td>\n",
       "      <td>0.519</td>\n",
       "      <td>165</td>\n",
       "      <td>0.193</td>\n",
       "      <td>...</td>\n",
       "      <td>0.000</td>\n",
       "      <td>0.000</td>\n",
       "      <td>0.000</td>\n",
       "      <td>0.000</td>\n",
       "      <td>0.000</td>\n",
       "      <td>0.000</td>\n",
       "      <td>0.000</td>\n",
       "      <td>0.000</td>\n",
       "      <td>0.000</td>\n",
       "      <td>0.000</td>\n",
       "    </tr>\n",
       "    <tr>\n",
       "      <th>4</th>\n",
       "      <td>5.213</td>\n",
       "      <td>0.841</td>\n",
       "      <td>4.023</td>\n",
       "      <td>0.832</td>\n",
       "      <td>0.421</td>\n",
       "      <td>0.972</td>\n",
       "      <td>81</td>\n",
       "      <td>0.931</td>\n",
       "      <td>462</td>\n",
       "      <td>0.918</td>\n",
       "      <td>...</td>\n",
       "      <td>0.000</td>\n",
       "      <td>0.000</td>\n",
       "      <td>0.000</td>\n",
       "      <td>0.000</td>\n",
       "      <td>0.000</td>\n",
       "      <td>0.000</td>\n",
       "      <td>0.000</td>\n",
       "      <td>0.000</td>\n",
       "      <td>0.000</td>\n",
       "      <td>0.000</td>\n",
       "    </tr>\n",
       "  </tbody>\n",
       "</table>\n",
       "<p>5 rows × 69 columns</p>\n",
       "</div>\n",
       "      <button class=\"colab-df-convert\" onclick=\"convertToInteractive('df-36860d43-cf95-4bc2-befb-addfc4bafe84')\"\n",
       "              title=\"Convert this dataframe to an interactive table.\"\n",
       "              style=\"display:none;\">\n",
       "        \n",
       "  <svg xmlns=\"http://www.w3.org/2000/svg\" height=\"24px\"viewBox=\"0 0 24 24\"\n",
       "       width=\"24px\">\n",
       "    <path d=\"M0 0h24v24H0V0z\" fill=\"none\"/>\n",
       "    <path d=\"M18.56 5.44l.94 2.06.94-2.06 2.06-.94-2.06-.94-.94-2.06-.94 2.06-2.06.94zm-11 1L8.5 8.5l.94-2.06 2.06-.94-2.06-.94L8.5 2.5l-.94 2.06-2.06.94zm10 10l.94 2.06.94-2.06 2.06-.94-2.06-.94-.94-2.06-.94 2.06-2.06.94z\"/><path d=\"M17.41 7.96l-1.37-1.37c-.4-.4-.92-.59-1.43-.59-.52 0-1.04.2-1.43.59L10.3 9.45l-7.72 7.72c-.78.78-.78 2.05 0 2.83L4 21.41c.39.39.9.59 1.41.59.51 0 1.02-.2 1.41-.59l7.78-7.78 2.81-2.81c.8-.78.8-2.07 0-2.86zM5.41 20L4 18.59l7.72-7.72 1.47 1.35L5.41 20z\"/>\n",
       "  </svg>\n",
       "      </button>\n",
       "      \n",
       "  <style>\n",
       "    .colab-df-container {\n",
       "      display:flex;\n",
       "      flex-wrap:wrap;\n",
       "      gap: 12px;\n",
       "    }\n",
       "\n",
       "    .colab-df-convert {\n",
       "      background-color: #E8F0FE;\n",
       "      border: none;\n",
       "      border-radius: 50%;\n",
       "      cursor: pointer;\n",
       "      display: none;\n",
       "      fill: #1967D2;\n",
       "      height: 32px;\n",
       "      padding: 0 0 0 0;\n",
       "      width: 32px;\n",
       "    }\n",
       "\n",
       "    .colab-df-convert:hover {\n",
       "      background-color: #E2EBFA;\n",
       "      box-shadow: 0px 1px 2px rgba(60, 64, 67, 0.3), 0px 1px 3px 1px rgba(60, 64, 67, 0.15);\n",
       "      fill: #174EA6;\n",
       "    }\n",
       "\n",
       "    [theme=dark] .colab-df-convert {\n",
       "      background-color: #3B4455;\n",
       "      fill: #D2E3FC;\n",
       "    }\n",
       "\n",
       "    [theme=dark] .colab-df-convert:hover {\n",
       "      background-color: #434B5C;\n",
       "      box-shadow: 0px 1px 3px 1px rgba(0, 0, 0, 0.15);\n",
       "      filter: drop-shadow(0px 1px 2px rgba(0, 0, 0, 0.3));\n",
       "      fill: #FFFFFF;\n",
       "    }\n",
       "  </style>\n",
       "\n",
       "      <script>\n",
       "        const buttonEl =\n",
       "          document.querySelector('#df-36860d43-cf95-4bc2-befb-addfc4bafe84 button.colab-df-convert');\n",
       "        buttonEl.style.display =\n",
       "          google.colab.kernel.accessAllowed ? 'block' : 'none';\n",
       "\n",
       "        async function convertToInteractive(key) {\n",
       "          const element = document.querySelector('#df-36860d43-cf95-4bc2-befb-addfc4bafe84');\n",
       "          const dataTable =\n",
       "            await google.colab.kernel.invokeFunction('convertToInteractive',\n",
       "                                                     [key], {});\n",
       "          if (!dataTable) return;\n",
       "\n",
       "          const docLinkHtml = 'Like what you see? Visit the ' +\n",
       "            '<a target=\"_blank\" href=https://colab.research.google.com/notebooks/data_table.ipynb>data table notebook</a>'\n",
       "            + ' to learn more about interactive tables.';\n",
       "          element.innerHTML = '';\n",
       "          dataTable['output_type'] = 'display_data';\n",
       "          await google.colab.output.renderOutput(dataTable, element);\n",
       "          const docLink = document.createElement('div');\n",
       "          docLink.innerHTML = docLinkHtml;\n",
       "          element.appendChild(docLink);\n",
       "        }\n",
       "      </script>\n",
       "    </div>\n",
       "  </div>\n",
       "  "
      ],
      "text/plain": [
       "   child_mlu  percent_child_parents_mlu  child_mluw  \\\n",
       "0      2.641                      0.398       2.604   \n",
       "1      1.105                      0.218       1.000   \n",
       "2      3.158                      0.449       2.719   \n",
       "3      2.394                      0.462       1.979   \n",
       "4      5.213                      0.841       4.023   \n",
       "\n",
       "   percent_child_parents_mluw  child_ttr  percent_child_parents_ttr  \\\n",
       "0                       0.472      0.558                      2.215   \n",
       "1                       0.265      0.500                      2.556   \n",
       "2                       0.501      0.394                      1.218   \n",
       "3                       0.488      0.527                      1.905   \n",
       "4                       0.832      0.421                      0.972   \n",
       "\n",
       "   child_ipsyn  percent_child_parents_ipsyn  child_num_words  \\\n",
       "0           61                        0.701              212   \n",
       "1            2                        0.026               21   \n",
       "2           57                        0.606              233   \n",
       "3           40                        0.519              165   \n",
       "4           81                        0.931              462   \n",
       "\n",
       "   perct_child_parents_words  ...  pos_percent_sub#n  pos_percent_n:pt  \\\n",
       "0                      0.155  ...              0.000             0.000   \n",
       "1                      0.015  ...              0.000             0.000   \n",
       "2                      0.238  ...              0.000             0.000   \n",
       "3                      0.193  ...              0.000             0.000   \n",
       "4                      0.918  ...              0.000             0.000   \n",
       "\n",
       "   pos_percent_pro:refl  pos_percent_un#part  pos_percent_L2  pos_percent_chi  \\\n",
       "0                 0.000                0.000           0.000            0.000   \n",
       "1                 0.000                0.000           0.000            0.000   \n",
       "2                 0.000                0.000           0.000            0.000   \n",
       "3                 0.000                0.000           0.000            0.000   \n",
       "4                 0.000                0.000           0.000            0.000   \n",
       "\n",
       "   pos_percent_pro:poss  pos_percent_n:let  pos_percent_bab  pos_percent_sing  \n",
       "0                 0.000              0.000            0.000             0.000  \n",
       "1                 0.000              0.000            0.000             0.000  \n",
       "2                 0.000              0.000            0.000             0.000  \n",
       "3                 0.000              0.000            0.000             0.000  \n",
       "4                 0.000              0.000            0.000             0.000  \n",
       "\n",
       "[5 rows x 69 columns]"
      ]
     },
     "metadata": {},
     "output_type": "display_data"
    },
    {
     "data": {
      "application/vnd.google.colaboratory.intrinsic+json": {
       "type": "string"
      },
      "text/plain": [
       "'y data'"
      ]
     },
     "metadata": {},
     "output_type": "display_data"
    },
    {
     "data": {
      "text/plain": [
       "0    0\n",
       "1    1\n",
       "2    0\n",
       "3    1\n",
       "4    1\n",
       "Name: ASD, dtype: int64"
      ]
     },
     "metadata": {},
     "output_type": "display_data"
    }
   ],
   "source": [
    "# define X and y data\n",
    "X = df_prep.drop(columns=[\"ASD\"])\n",
    "y = df_prep[\"ASD\"]\n",
    "\n",
    "# map labels\n",
    "y = y.map({\"ASD\": 1, \"TYP\": 0})\n",
    "\n",
    "# check X and y\n",
    "display(\"X data\", X.head(), \"y data\", y.head())"
   ]
  },
  {
   "cell_type": "markdown",
   "id": "d3ecba23-3fb6-4330-8e23-baa1b29af380",
   "metadata": {
    "id": "d3ecba23-3fb6-4330-8e23-baa1b29af380"
   },
   "source": [
    "## 8.2 - Train-validation-test split"
   ]
  },
  {
   "cell_type": "code",
   "execution_count": null,
   "id": "CWQFGJbptFlZ",
   "metadata": {
    "colab": {
     "base_uri": "https://localhost:8080/",
     "height": 847
    },
    "id": "CWQFGJbptFlZ",
    "outputId": "a28e71da-5a42-42a9-cde7-2d4de3677b29"
   },
   "outputs": [
    {
     "name": "stdout",
     "output_type": "stream",
     "text": [
      "Y stratification: 0.34%\n",
      "y_train stratification: 0.33%\n",
      "y_test stratification: 0.38%\n",
      "\n",
      "X_train proportion: 78.95% of whole dataset\n",
      "y_train proportion: 78.95% of whole dataset\n",
      "\n",
      "X_test proportion: 21.05% of whole dataset\n",
      "y_test proportion: 21.05% of whole dataset\n",
      "\n"
     ]
    },
    {
     "data": {
      "application/vnd.google.colaboratory.intrinsic+json": {
       "type": "string"
      },
      "text/plain": [
       "'X_train'"
      ]
     },
     "metadata": {},
     "output_type": "display_data"
    },
    {
     "data": {
      "text/plain": [
       "(30, 69)"
      ]
     },
     "metadata": {},
     "output_type": "display_data"
    },
    {
     "data": {
      "text/html": [
       "\n",
       "  <div id=\"df-41ac586e-299f-411a-8678-5159a3fb25ef\">\n",
       "    <div class=\"colab-df-container\">\n",
       "      <div>\n",
       "<style scoped>\n",
       "    .dataframe tbody tr th:only-of-type {\n",
       "        vertical-align: middle;\n",
       "    }\n",
       "\n",
       "    .dataframe tbody tr th {\n",
       "        vertical-align: top;\n",
       "    }\n",
       "\n",
       "    .dataframe thead th {\n",
       "        text-align: right;\n",
       "    }\n",
       "</style>\n",
       "<table border=\"1\" class=\"dataframe\">\n",
       "  <thead>\n",
       "    <tr style=\"text-align: right;\">\n",
       "      <th></th>\n",
       "      <th>child_mlu</th>\n",
       "      <th>percent_child_parents_mlu</th>\n",
       "      <th>child_mluw</th>\n",
       "      <th>percent_child_parents_mluw</th>\n",
       "      <th>child_ttr</th>\n",
       "      <th>percent_child_parents_ttr</th>\n",
       "      <th>child_ipsyn</th>\n",
       "      <th>percent_child_parents_ipsyn</th>\n",
       "      <th>child_num_words</th>\n",
       "      <th>perct_child_parents_words</th>\n",
       "      <th>...</th>\n",
       "      <th>pos_percent_sub#n</th>\n",
       "      <th>pos_percent_n:pt</th>\n",
       "      <th>pos_percent_pro:refl</th>\n",
       "      <th>pos_percent_un#part</th>\n",
       "      <th>pos_percent_L2</th>\n",
       "      <th>pos_percent_chi</th>\n",
       "      <th>pos_percent_pro:poss</th>\n",
       "      <th>pos_percent_n:let</th>\n",
       "      <th>pos_percent_bab</th>\n",
       "      <th>pos_percent_sing</th>\n",
       "    </tr>\n",
       "  </thead>\n",
       "  <tbody>\n",
       "    <tr>\n",
       "      <th>0</th>\n",
       "      <td>3.067</td>\n",
       "      <td>0.503</td>\n",
       "      <td>3.316</td>\n",
       "      <td>0.694</td>\n",
       "      <td>0.397</td>\n",
       "      <td>1.491</td>\n",
       "      <td>18</td>\n",
       "      <td>0.212</td>\n",
       "      <td>94</td>\n",
       "      <td>0.095</td>\n",
       "      <td>...</td>\n",
       "      <td>0.000</td>\n",
       "      <td>0.000</td>\n",
       "      <td>0.000</td>\n",
       "      <td>0.000</td>\n",
       "      <td>0.000</td>\n",
       "      <td>0.000</td>\n",
       "      <td>0.000</td>\n",
       "      <td>0.000</td>\n",
       "      <td>0.000</td>\n",
       "      <td>0.000</td>\n",
       "    </tr>\n",
       "    <tr>\n",
       "      <th>1</th>\n",
       "      <td>2.630</td>\n",
       "      <td>0.371</td>\n",
       "      <td>2.254</td>\n",
       "      <td>0.396</td>\n",
       "      <td>0.479</td>\n",
       "      <td>2.042</td>\n",
       "      <td>43</td>\n",
       "      <td>0.531</td>\n",
       "      <td>234</td>\n",
       "      <td>0.217</td>\n",
       "      <td>...</td>\n",
       "      <td>0.000</td>\n",
       "      <td>0.000</td>\n",
       "      <td>0.000</td>\n",
       "      <td>0.000</td>\n",
       "      <td>0.000</td>\n",
       "      <td>0.000</td>\n",
       "      <td>0.000</td>\n",
       "      <td>0.000</td>\n",
       "      <td>0.000</td>\n",
       "      <td>0.000</td>\n",
       "    </tr>\n",
       "    <tr>\n",
       "      <th>2</th>\n",
       "      <td>2.640</td>\n",
       "      <td>0.558</td>\n",
       "      <td>2.060</td>\n",
       "      <td>0.549</td>\n",
       "      <td>0.274</td>\n",
       "      <td>0.910</td>\n",
       "      <td>44</td>\n",
       "      <td>0.629</td>\n",
       "      <td>380</td>\n",
       "      <td>0.483</td>\n",
       "      <td>...</td>\n",
       "      <td>0.000</td>\n",
       "      <td>0.000</td>\n",
       "      <td>0.000</td>\n",
       "      <td>0.000</td>\n",
       "      <td>0.000</td>\n",
       "      <td>0.000</td>\n",
       "      <td>0.000</td>\n",
       "      <td>0.000</td>\n",
       "      <td>0.000</td>\n",
       "      <td>0.000</td>\n",
       "    </tr>\n",
       "  </tbody>\n",
       "</table>\n",
       "<p>3 rows × 69 columns</p>\n",
       "</div>\n",
       "      <button class=\"colab-df-convert\" onclick=\"convertToInteractive('df-41ac586e-299f-411a-8678-5159a3fb25ef')\"\n",
       "              title=\"Convert this dataframe to an interactive table.\"\n",
       "              style=\"display:none;\">\n",
       "        \n",
       "  <svg xmlns=\"http://www.w3.org/2000/svg\" height=\"24px\"viewBox=\"0 0 24 24\"\n",
       "       width=\"24px\">\n",
       "    <path d=\"M0 0h24v24H0V0z\" fill=\"none\"/>\n",
       "    <path d=\"M18.56 5.44l.94 2.06.94-2.06 2.06-.94-2.06-.94-.94-2.06-.94 2.06-2.06.94zm-11 1L8.5 8.5l.94-2.06 2.06-.94-2.06-.94L8.5 2.5l-.94 2.06-2.06.94zm10 10l.94 2.06.94-2.06 2.06-.94-2.06-.94-.94-2.06-.94 2.06-2.06.94z\"/><path d=\"M17.41 7.96l-1.37-1.37c-.4-.4-.92-.59-1.43-.59-.52 0-1.04.2-1.43.59L10.3 9.45l-7.72 7.72c-.78.78-.78 2.05 0 2.83L4 21.41c.39.39.9.59 1.41.59.51 0 1.02-.2 1.41-.59l7.78-7.78 2.81-2.81c.8-.78.8-2.07 0-2.86zM5.41 20L4 18.59l7.72-7.72 1.47 1.35L5.41 20z\"/>\n",
       "  </svg>\n",
       "      </button>\n",
       "      \n",
       "  <style>\n",
       "    .colab-df-container {\n",
       "      display:flex;\n",
       "      flex-wrap:wrap;\n",
       "      gap: 12px;\n",
       "    }\n",
       "\n",
       "    .colab-df-convert {\n",
       "      background-color: #E8F0FE;\n",
       "      border: none;\n",
       "      border-radius: 50%;\n",
       "      cursor: pointer;\n",
       "      display: none;\n",
       "      fill: #1967D2;\n",
       "      height: 32px;\n",
       "      padding: 0 0 0 0;\n",
       "      width: 32px;\n",
       "    }\n",
       "\n",
       "    .colab-df-convert:hover {\n",
       "      background-color: #E2EBFA;\n",
       "      box-shadow: 0px 1px 2px rgba(60, 64, 67, 0.3), 0px 1px 3px 1px rgba(60, 64, 67, 0.15);\n",
       "      fill: #174EA6;\n",
       "    }\n",
       "\n",
       "    [theme=dark] .colab-df-convert {\n",
       "      background-color: #3B4455;\n",
       "      fill: #D2E3FC;\n",
       "    }\n",
       "\n",
       "    [theme=dark] .colab-df-convert:hover {\n",
       "      background-color: #434B5C;\n",
       "      box-shadow: 0px 1px 3px 1px rgba(0, 0, 0, 0.15);\n",
       "      filter: drop-shadow(0px 1px 2px rgba(0, 0, 0, 0.3));\n",
       "      fill: #FFFFFF;\n",
       "    }\n",
       "  </style>\n",
       "\n",
       "      <script>\n",
       "        const buttonEl =\n",
       "          document.querySelector('#df-41ac586e-299f-411a-8678-5159a3fb25ef button.colab-df-convert');\n",
       "        buttonEl.style.display =\n",
       "          google.colab.kernel.accessAllowed ? 'block' : 'none';\n",
       "\n",
       "        async function convertToInteractive(key) {\n",
       "          const element = document.querySelector('#df-41ac586e-299f-411a-8678-5159a3fb25ef');\n",
       "          const dataTable =\n",
       "            await google.colab.kernel.invokeFunction('convertToInteractive',\n",
       "                                                     [key], {});\n",
       "          if (!dataTable) return;\n",
       "\n",
       "          const docLinkHtml = 'Like what you see? Visit the ' +\n",
       "            '<a target=\"_blank\" href=https://colab.research.google.com/notebooks/data_table.ipynb>data table notebook</a>'\n",
       "            + ' to learn more about interactive tables.';\n",
       "          element.innerHTML = '';\n",
       "          dataTable['output_type'] = 'display_data';\n",
       "          await google.colab.output.renderOutput(dataTable, element);\n",
       "          const docLink = document.createElement('div');\n",
       "          docLink.innerHTML = docLinkHtml;\n",
       "          element.appendChild(docLink);\n",
       "        }\n",
       "      </script>\n",
       "    </div>\n",
       "  </div>\n",
       "  "
      ],
      "text/plain": [
       "   child_mlu  percent_child_parents_mlu  child_mluw  \\\n",
       "0      3.067                      0.503       3.316   \n",
       "1      2.630                      0.371       2.254   \n",
       "2      2.640                      0.558       2.060   \n",
       "\n",
       "   percent_child_parents_mluw  child_ttr  percent_child_parents_ttr  \\\n",
       "0                       0.694      0.397                      1.491   \n",
       "1                       0.396      0.479                      2.042   \n",
       "2                       0.549      0.274                      0.910   \n",
       "\n",
       "   child_ipsyn  percent_child_parents_ipsyn  child_num_words  \\\n",
       "0           18                        0.212               94   \n",
       "1           43                        0.531              234   \n",
       "2           44                        0.629              380   \n",
       "\n",
       "   perct_child_parents_words  ...  pos_percent_sub#n  pos_percent_n:pt  \\\n",
       "0                      0.095  ...              0.000             0.000   \n",
       "1                      0.217  ...              0.000             0.000   \n",
       "2                      0.483  ...              0.000             0.000   \n",
       "\n",
       "   pos_percent_pro:refl  pos_percent_un#part  pos_percent_L2  pos_percent_chi  \\\n",
       "0                 0.000                0.000           0.000            0.000   \n",
       "1                 0.000                0.000           0.000            0.000   \n",
       "2                 0.000                0.000           0.000            0.000   \n",
       "\n",
       "   pos_percent_pro:poss  pos_percent_n:let  pos_percent_bab  pos_percent_sing  \n",
       "0                 0.000              0.000            0.000             0.000  \n",
       "1                 0.000              0.000            0.000             0.000  \n",
       "2                 0.000              0.000            0.000             0.000  \n",
       "\n",
       "[3 rows x 69 columns]"
      ]
     },
     "metadata": {},
     "output_type": "display_data"
    },
    {
     "data": {
      "application/vnd.google.colaboratory.intrinsic+json": {
       "type": "string"
      },
      "text/plain": [
       "'y_train'"
      ]
     },
     "metadata": {},
     "output_type": "display_data"
    },
    {
     "data": {
      "text/plain": [
       "(30,)"
      ]
     },
     "metadata": {},
     "output_type": "display_data"
    },
    {
     "data": {
      "text/plain": [
       "0    1\n",
       "1    0\n",
       "2    0\n",
       "Name: ASD, dtype: int64"
      ]
     },
     "metadata": {},
     "output_type": "display_data"
    },
    {
     "data": {
      "application/vnd.google.colaboratory.intrinsic+json": {
       "type": "string"
      },
      "text/plain": [
       "'X_test'"
      ]
     },
     "metadata": {},
     "output_type": "display_data"
    },
    {
     "data": {
      "text/plain": [
       "(8, 69)"
      ]
     },
     "metadata": {},
     "output_type": "display_data"
    },
    {
     "data": {
      "text/html": [
       "\n",
       "  <div id=\"df-ebc86b11-5ead-476e-bc98-d4e34f7dcfea\">\n",
       "    <div class=\"colab-df-container\">\n",
       "      <div>\n",
       "<style scoped>\n",
       "    .dataframe tbody tr th:only-of-type {\n",
       "        vertical-align: middle;\n",
       "    }\n",
       "\n",
       "    .dataframe tbody tr th {\n",
       "        vertical-align: top;\n",
       "    }\n",
       "\n",
       "    .dataframe thead th {\n",
       "        text-align: right;\n",
       "    }\n",
       "</style>\n",
       "<table border=\"1\" class=\"dataframe\">\n",
       "  <thead>\n",
       "    <tr style=\"text-align: right;\">\n",
       "      <th></th>\n",
       "      <th>child_mlu</th>\n",
       "      <th>percent_child_parents_mlu</th>\n",
       "      <th>child_mluw</th>\n",
       "      <th>percent_child_parents_mluw</th>\n",
       "      <th>child_ttr</th>\n",
       "      <th>percent_child_parents_ttr</th>\n",
       "      <th>child_ipsyn</th>\n",
       "      <th>percent_child_parents_ipsyn</th>\n",
       "      <th>child_num_words</th>\n",
       "      <th>perct_child_parents_words</th>\n",
       "      <th>...</th>\n",
       "      <th>pos_percent_sub#n</th>\n",
       "      <th>pos_percent_n:pt</th>\n",
       "      <th>pos_percent_pro:refl</th>\n",
       "      <th>pos_percent_un#part</th>\n",
       "      <th>pos_percent_L2</th>\n",
       "      <th>pos_percent_chi</th>\n",
       "      <th>pos_percent_pro:poss</th>\n",
       "      <th>pos_percent_n:let</th>\n",
       "      <th>pos_percent_bab</th>\n",
       "      <th>pos_percent_sing</th>\n",
       "    </tr>\n",
       "  </thead>\n",
       "  <tbody>\n",
       "    <tr>\n",
       "      <th>0</th>\n",
       "      <td>2.568</td>\n",
       "      <td>0.651</td>\n",
       "      <td>1.816</td>\n",
       "      <td>0.626</td>\n",
       "      <td>0.435</td>\n",
       "      <td>1.465</td>\n",
       "      <td>20</td>\n",
       "      <td>0.328</td>\n",
       "      <td>115</td>\n",
       "      <td>0.221</td>\n",
       "      <td>...</td>\n",
       "      <td>0.000</td>\n",
       "      <td>0.000</td>\n",
       "      <td>0.000</td>\n",
       "      <td>0.000</td>\n",
       "      <td>0.009</td>\n",
       "      <td>0.000</td>\n",
       "      <td>0.000</td>\n",
       "      <td>0.000</td>\n",
       "      <td>0.000</td>\n",
       "      <td>0.000</td>\n",
       "    </tr>\n",
       "    <tr>\n",
       "      <th>1</th>\n",
       "      <td>7.855</td>\n",
       "      <td>1.203</td>\n",
       "      <td>6.642</td>\n",
       "      <td>1.277</td>\n",
       "      <td>0.326</td>\n",
       "      <td>0.834</td>\n",
       "      <td>74</td>\n",
       "      <td>0.881</td>\n",
       "      <td>534</td>\n",
       "      <td>0.947</td>\n",
       "      <td>...</td>\n",
       "      <td>0.004</td>\n",
       "      <td>0.000</td>\n",
       "      <td>0.000</td>\n",
       "      <td>0.000</td>\n",
       "      <td>0.000</td>\n",
       "      <td>0.000</td>\n",
       "      <td>0.000</td>\n",
       "      <td>0.000</td>\n",
       "      <td>0.000</td>\n",
       "      <td>0.000</td>\n",
       "    </tr>\n",
       "    <tr>\n",
       "      <th>2</th>\n",
       "      <td>4.735</td>\n",
       "      <td>0.813</td>\n",
       "      <td>3.419</td>\n",
       "      <td>0.765</td>\n",
       "      <td>0.321</td>\n",
       "      <td>1.289</td>\n",
       "      <td>65</td>\n",
       "      <td>0.915</td>\n",
       "      <td>425</td>\n",
       "      <td>0.532</td>\n",
       "      <td>...</td>\n",
       "      <td>0.000</td>\n",
       "      <td>0.002</td>\n",
       "      <td>0.000</td>\n",
       "      <td>0.000</td>\n",
       "      <td>0.000</td>\n",
       "      <td>0.000</td>\n",
       "      <td>0.004</td>\n",
       "      <td>0.000</td>\n",
       "      <td>0.000</td>\n",
       "      <td>0.000</td>\n",
       "    </tr>\n",
       "  </tbody>\n",
       "</table>\n",
       "<p>3 rows × 69 columns</p>\n",
       "</div>\n",
       "      <button class=\"colab-df-convert\" onclick=\"convertToInteractive('df-ebc86b11-5ead-476e-bc98-d4e34f7dcfea')\"\n",
       "              title=\"Convert this dataframe to an interactive table.\"\n",
       "              style=\"display:none;\">\n",
       "        \n",
       "  <svg xmlns=\"http://www.w3.org/2000/svg\" height=\"24px\"viewBox=\"0 0 24 24\"\n",
       "       width=\"24px\">\n",
       "    <path d=\"M0 0h24v24H0V0z\" fill=\"none\"/>\n",
       "    <path d=\"M18.56 5.44l.94 2.06.94-2.06 2.06-.94-2.06-.94-.94-2.06-.94 2.06-2.06.94zm-11 1L8.5 8.5l.94-2.06 2.06-.94-2.06-.94L8.5 2.5l-.94 2.06-2.06.94zm10 10l.94 2.06.94-2.06 2.06-.94-2.06-.94-.94-2.06-.94 2.06-2.06.94z\"/><path d=\"M17.41 7.96l-1.37-1.37c-.4-.4-.92-.59-1.43-.59-.52 0-1.04.2-1.43.59L10.3 9.45l-7.72 7.72c-.78.78-.78 2.05 0 2.83L4 21.41c.39.39.9.59 1.41.59.51 0 1.02-.2 1.41-.59l7.78-7.78 2.81-2.81c.8-.78.8-2.07 0-2.86zM5.41 20L4 18.59l7.72-7.72 1.47 1.35L5.41 20z\"/>\n",
       "  </svg>\n",
       "      </button>\n",
       "      \n",
       "  <style>\n",
       "    .colab-df-container {\n",
       "      display:flex;\n",
       "      flex-wrap:wrap;\n",
       "      gap: 12px;\n",
       "    }\n",
       "\n",
       "    .colab-df-convert {\n",
       "      background-color: #E8F0FE;\n",
       "      border: none;\n",
       "      border-radius: 50%;\n",
       "      cursor: pointer;\n",
       "      display: none;\n",
       "      fill: #1967D2;\n",
       "      height: 32px;\n",
       "      padding: 0 0 0 0;\n",
       "      width: 32px;\n",
       "    }\n",
       "\n",
       "    .colab-df-convert:hover {\n",
       "      background-color: #E2EBFA;\n",
       "      box-shadow: 0px 1px 2px rgba(60, 64, 67, 0.3), 0px 1px 3px 1px rgba(60, 64, 67, 0.15);\n",
       "      fill: #174EA6;\n",
       "    }\n",
       "\n",
       "    [theme=dark] .colab-df-convert {\n",
       "      background-color: #3B4455;\n",
       "      fill: #D2E3FC;\n",
       "    }\n",
       "\n",
       "    [theme=dark] .colab-df-convert:hover {\n",
       "      background-color: #434B5C;\n",
       "      box-shadow: 0px 1px 3px 1px rgba(0, 0, 0, 0.15);\n",
       "      filter: drop-shadow(0px 1px 2px rgba(0, 0, 0, 0.3));\n",
       "      fill: #FFFFFF;\n",
       "    }\n",
       "  </style>\n",
       "\n",
       "      <script>\n",
       "        const buttonEl =\n",
       "          document.querySelector('#df-ebc86b11-5ead-476e-bc98-d4e34f7dcfea button.colab-df-convert');\n",
       "        buttonEl.style.display =\n",
       "          google.colab.kernel.accessAllowed ? 'block' : 'none';\n",
       "\n",
       "        async function convertToInteractive(key) {\n",
       "          const element = document.querySelector('#df-ebc86b11-5ead-476e-bc98-d4e34f7dcfea');\n",
       "          const dataTable =\n",
       "            await google.colab.kernel.invokeFunction('convertToInteractive',\n",
       "                                                     [key], {});\n",
       "          if (!dataTable) return;\n",
       "\n",
       "          const docLinkHtml = 'Like what you see? Visit the ' +\n",
       "            '<a target=\"_blank\" href=https://colab.research.google.com/notebooks/data_table.ipynb>data table notebook</a>'\n",
       "            + ' to learn more about interactive tables.';\n",
       "          element.innerHTML = '';\n",
       "          dataTable['output_type'] = 'display_data';\n",
       "          await google.colab.output.renderOutput(dataTable, element);\n",
       "          const docLink = document.createElement('div');\n",
       "          docLink.innerHTML = docLinkHtml;\n",
       "          element.appendChild(docLink);\n",
       "        }\n",
       "      </script>\n",
       "    </div>\n",
       "  </div>\n",
       "  "
      ],
      "text/plain": [
       "   child_mlu  percent_child_parents_mlu  child_mluw  \\\n",
       "0      2.568                      0.651       1.816   \n",
       "1      7.855                      1.203       6.642   \n",
       "2      4.735                      0.813       3.419   \n",
       "\n",
       "   percent_child_parents_mluw  child_ttr  percent_child_parents_ttr  \\\n",
       "0                       0.626      0.435                      1.465   \n",
       "1                       1.277      0.326                      0.834   \n",
       "2                       0.765      0.321                      1.289   \n",
       "\n",
       "   child_ipsyn  percent_child_parents_ipsyn  child_num_words  \\\n",
       "0           20                        0.328              115   \n",
       "1           74                        0.881              534   \n",
       "2           65                        0.915              425   \n",
       "\n",
       "   perct_child_parents_words  ...  pos_percent_sub#n  pos_percent_n:pt  \\\n",
       "0                      0.221  ...              0.000             0.000   \n",
       "1                      0.947  ...              0.004             0.000   \n",
       "2                      0.532  ...              0.000             0.002   \n",
       "\n",
       "   pos_percent_pro:refl  pos_percent_un#part  pos_percent_L2  pos_percent_chi  \\\n",
       "0                 0.000                0.000           0.009            0.000   \n",
       "1                 0.000                0.000           0.000            0.000   \n",
       "2                 0.000                0.000           0.000            0.000   \n",
       "\n",
       "   pos_percent_pro:poss  pos_percent_n:let  pos_percent_bab  pos_percent_sing  \n",
       "0                 0.000              0.000            0.000             0.000  \n",
       "1                 0.000              0.000            0.000             0.000  \n",
       "2                 0.004              0.000            0.000             0.000  \n",
       "\n",
       "[3 rows x 69 columns]"
      ]
     },
     "metadata": {},
     "output_type": "display_data"
    },
    {
     "data": {
      "application/vnd.google.colaboratory.intrinsic+json": {
       "type": "string"
      },
      "text/plain": [
       "'y_test'"
      ]
     },
     "metadata": {},
     "output_type": "display_data"
    },
    {
     "data": {
      "text/plain": [
       "(8,)"
      ]
     },
     "metadata": {},
     "output_type": "display_data"
    },
    {
     "data": {
      "text/plain": [
       "0    1\n",
       "1    0\n",
       "2    0\n",
       "Name: ASD, dtype: int64"
      ]
     },
     "metadata": {},
     "output_type": "display_data"
    }
   ],
   "source": [
    "# define ratio of test split ratio \n",
    "test_ratio = 0.2 \n",
    "\n",
    "# Train-Test split for the whole dataset\n",
    "# X: attributes\n",
    "# y: labels\n",
    "X_train, X_test, y_train, y_test = train_test_split(X, y, \n",
    "                                                    test_size=test_ratio, random_state=seed, \n",
    "                                                    shuffle=True, stratify=y)\n",
    "\n",
    "# reset index after train test split\n",
    "X_train = X_train.reset_index(drop=True)\n",
    "y_train = y_train.reset_index(drop=True)\n",
    "X_test = X_test.reset_index(drop=True)\n",
    "y_test = y_test.reset_index(drop=True)\n",
    "\n",
    "# check dataframes\n",
    "print(\n",
    "    f\"Y stratification: {y.mean():.2f}%\\n\"\n",
    "    f\"y_train stratification: {y_train.mean():.2f}%\\n\"\n",
    "    f\"y_test stratification: {y_test.mean():.2f}%\\n\\n\"\n",
    "    f\"X_train proportion: {(len(X_train) / len(X))*100:.2f}% of whole dataset\\n\"\n",
    "    f\"y_train proportion: {(len(y_train) / len(y))*100:.2f}% of whole dataset\\n\\n\"\n",
    "    f\"X_test proportion: {(len(X_test) / len(X))*100:.2f}% of whole dataset\\n\"    \n",
    "    f\"y_test proportion: {(len(y_test) / len(y))*100:.2f}% of whole dataset\\n\"\n",
    ")\n",
    "\n",
    "# check dataframes\n",
    "display(\n",
    "    \"X_train\", X_train.shape, X_train.head(3), \n",
    "    \"y_train\", y_train.shape, y_train.head(3), \n",
    "    \"X_test\", X_test.shape, X_test.head(3), \n",
    "    \"y_test\", y_test.shape, y_test.head(3)\n",
    ")"
   ]
  },
  {
   "cell_type": "markdown",
   "id": "06d95381-60f7-432b-84e3-5bcf1a07f2ca",
   "metadata": {
    "id": "06d95381-60f7-432b-84e3-5bcf1a07f2ca"
   },
   "source": [
    "## 8.3 - Scaling"
   ]
  },
  {
   "cell_type": "code",
   "execution_count": null,
   "id": "a9093081-b0a3-44e3-a473-209e856e5a38",
   "metadata": {
    "id": "a9093081-b0a3-44e3-a473-209e856e5a38"
   },
   "outputs": [],
   "source": [
    "# TO-DO"
   ]
  },
  {
   "cell_type": "code",
   "execution_count": null,
   "id": "_E9cx-3cSONi",
   "metadata": {
    "colab": {
     "base_uri": "https://localhost:8080/",
     "height": 554
    },
    "id": "_E9cx-3cSONi",
    "outputId": "80ba0bc8-f7bf-4752-9a51-be9b6df82651"
   },
   "outputs": [
    {
     "data": {
      "application/vnd.google.colaboratory.intrinsic+json": {
       "type": "string"
      },
      "text/plain": [
       "'X_train'"
      ]
     },
     "metadata": {},
     "output_type": "display_data"
    },
    {
     "data": {
      "text/html": [
       "\n",
       "  <div id=\"df-c23226d1-3017-4b07-b25b-5b1022357555\">\n",
       "    <div class=\"colab-df-container\">\n",
       "      <div>\n",
       "<style scoped>\n",
       "    .dataframe tbody tr th:only-of-type {\n",
       "        vertical-align: middle;\n",
       "    }\n",
       "\n",
       "    .dataframe tbody tr th {\n",
       "        vertical-align: top;\n",
       "    }\n",
       "\n",
       "    .dataframe thead th {\n",
       "        text-align: right;\n",
       "    }\n",
       "</style>\n",
       "<table border=\"1\" class=\"dataframe\">\n",
       "  <thead>\n",
       "    <tr style=\"text-align: right;\">\n",
       "      <th></th>\n",
       "      <th>child_mlu</th>\n",
       "      <th>percent_child_parents_mlu</th>\n",
       "      <th>child_mluw</th>\n",
       "      <th>percent_child_parents_mluw</th>\n",
       "      <th>child_ttr</th>\n",
       "      <th>percent_child_parents_ttr</th>\n",
       "      <th>child_ipsyn</th>\n",
       "      <th>percent_child_parents_ipsyn</th>\n",
       "      <th>child_num_words</th>\n",
       "      <th>perct_child_parents_words</th>\n",
       "      <th>...</th>\n",
       "      <th>pos_percent_sub#n</th>\n",
       "      <th>pos_percent_n:pt</th>\n",
       "      <th>pos_percent_pro:refl</th>\n",
       "      <th>pos_percent_un#part</th>\n",
       "      <th>pos_percent_L2</th>\n",
       "      <th>pos_percent_chi</th>\n",
       "      <th>pos_percent_pro:poss</th>\n",
       "      <th>pos_percent_n:let</th>\n",
       "      <th>pos_percent_bab</th>\n",
       "      <th>pos_percent_sing</th>\n",
       "    </tr>\n",
       "  </thead>\n",
       "  <tbody>\n",
       "    <tr>\n",
       "      <th>0</th>\n",
       "      <td>3.067</td>\n",
       "      <td>0.503</td>\n",
       "      <td>3.316</td>\n",
       "      <td>0.694</td>\n",
       "      <td>0.397</td>\n",
       "      <td>1.491</td>\n",
       "      <td>18</td>\n",
       "      <td>0.212</td>\n",
       "      <td>94</td>\n",
       "      <td>0.095</td>\n",
       "      <td>...</td>\n",
       "      <td>0.000</td>\n",
       "      <td>0.000</td>\n",
       "      <td>0.000</td>\n",
       "      <td>0.000</td>\n",
       "      <td>0.000</td>\n",
       "      <td>0.000</td>\n",
       "      <td>0.000</td>\n",
       "      <td>0.000</td>\n",
       "      <td>0.000</td>\n",
       "      <td>0.000</td>\n",
       "    </tr>\n",
       "    <tr>\n",
       "      <th>1</th>\n",
       "      <td>2.630</td>\n",
       "      <td>0.371</td>\n",
       "      <td>2.254</td>\n",
       "      <td>0.396</td>\n",
       "      <td>0.479</td>\n",
       "      <td>2.042</td>\n",
       "      <td>43</td>\n",
       "      <td>0.531</td>\n",
       "      <td>234</td>\n",
       "      <td>0.217</td>\n",
       "      <td>...</td>\n",
       "      <td>0.000</td>\n",
       "      <td>0.000</td>\n",
       "      <td>0.000</td>\n",
       "      <td>0.000</td>\n",
       "      <td>0.000</td>\n",
       "      <td>0.000</td>\n",
       "      <td>0.000</td>\n",
       "      <td>0.000</td>\n",
       "      <td>0.000</td>\n",
       "      <td>0.000</td>\n",
       "    </tr>\n",
       "    <tr>\n",
       "      <th>2</th>\n",
       "      <td>2.640</td>\n",
       "      <td>0.558</td>\n",
       "      <td>2.060</td>\n",
       "      <td>0.549</td>\n",
       "      <td>0.274</td>\n",
       "      <td>0.910</td>\n",
       "      <td>44</td>\n",
       "      <td>0.629</td>\n",
       "      <td>380</td>\n",
       "      <td>0.483</td>\n",
       "      <td>...</td>\n",
       "      <td>0.000</td>\n",
       "      <td>0.000</td>\n",
       "      <td>0.000</td>\n",
       "      <td>0.000</td>\n",
       "      <td>0.000</td>\n",
       "      <td>0.000</td>\n",
       "      <td>0.000</td>\n",
       "      <td>0.000</td>\n",
       "      <td>0.000</td>\n",
       "      <td>0.000</td>\n",
       "    </tr>\n",
       "    <tr>\n",
       "      <th>3</th>\n",
       "      <td>3.629</td>\n",
       "      <td>0.497</td>\n",
       "      <td>2.598</td>\n",
       "      <td>0.431</td>\n",
       "      <td>0.445</td>\n",
       "      <td>1.920</td>\n",
       "      <td>66</td>\n",
       "      <td>0.742</td>\n",
       "      <td>372</td>\n",
       "      <td>0.266</td>\n",
       "      <td>...</td>\n",
       "      <td>0.000</td>\n",
       "      <td>0.000</td>\n",
       "      <td>0.000</td>\n",
       "      <td>0.000</td>\n",
       "      <td>0.000</td>\n",
       "      <td>0.000</td>\n",
       "      <td>0.003</td>\n",
       "      <td>0.000</td>\n",
       "      <td>0.000</td>\n",
       "      <td>0.000</td>\n",
       "    </tr>\n",
       "    <tr>\n",
       "      <th>4</th>\n",
       "      <td>1.333</td>\n",
       "      <td>0.317</td>\n",
       "      <td>1.074</td>\n",
       "      <td>0.331</td>\n",
       "      <td>0.397</td>\n",
       "      <td>1.487</td>\n",
       "      <td>10</td>\n",
       "      <td>0.145</td>\n",
       "      <td>205</td>\n",
       "      <td>0.197</td>\n",
       "      <td>...</td>\n",
       "      <td>0.000</td>\n",
       "      <td>0.000</td>\n",
       "      <td>0.000</td>\n",
       "      <td>0.000</td>\n",
       "      <td>0.000</td>\n",
       "      <td>0.005</td>\n",
       "      <td>0.000</td>\n",
       "      <td>0.000</td>\n",
       "      <td>0.000</td>\n",
       "      <td>0.000</td>\n",
       "    </tr>\n",
       "  </tbody>\n",
       "</table>\n",
       "<p>5 rows × 69 columns</p>\n",
       "</div>\n",
       "      <button class=\"colab-df-convert\" onclick=\"convertToInteractive('df-c23226d1-3017-4b07-b25b-5b1022357555')\"\n",
       "              title=\"Convert this dataframe to an interactive table.\"\n",
       "              style=\"display:none;\">\n",
       "        \n",
       "  <svg xmlns=\"http://www.w3.org/2000/svg\" height=\"24px\"viewBox=\"0 0 24 24\"\n",
       "       width=\"24px\">\n",
       "    <path d=\"M0 0h24v24H0V0z\" fill=\"none\"/>\n",
       "    <path d=\"M18.56 5.44l.94 2.06.94-2.06 2.06-.94-2.06-.94-.94-2.06-.94 2.06-2.06.94zm-11 1L8.5 8.5l.94-2.06 2.06-.94-2.06-.94L8.5 2.5l-.94 2.06-2.06.94zm10 10l.94 2.06.94-2.06 2.06-.94-2.06-.94-.94-2.06-.94 2.06-2.06.94z\"/><path d=\"M17.41 7.96l-1.37-1.37c-.4-.4-.92-.59-1.43-.59-.52 0-1.04.2-1.43.59L10.3 9.45l-7.72 7.72c-.78.78-.78 2.05 0 2.83L4 21.41c.39.39.9.59 1.41.59.51 0 1.02-.2 1.41-.59l7.78-7.78 2.81-2.81c.8-.78.8-2.07 0-2.86zM5.41 20L4 18.59l7.72-7.72 1.47 1.35L5.41 20z\"/>\n",
       "  </svg>\n",
       "      </button>\n",
       "      \n",
       "  <style>\n",
       "    .colab-df-container {\n",
       "      display:flex;\n",
       "      flex-wrap:wrap;\n",
       "      gap: 12px;\n",
       "    }\n",
       "\n",
       "    .colab-df-convert {\n",
       "      background-color: #E8F0FE;\n",
       "      border: none;\n",
       "      border-radius: 50%;\n",
       "      cursor: pointer;\n",
       "      display: none;\n",
       "      fill: #1967D2;\n",
       "      height: 32px;\n",
       "      padding: 0 0 0 0;\n",
       "      width: 32px;\n",
       "    }\n",
       "\n",
       "    .colab-df-convert:hover {\n",
       "      background-color: #E2EBFA;\n",
       "      box-shadow: 0px 1px 2px rgba(60, 64, 67, 0.3), 0px 1px 3px 1px rgba(60, 64, 67, 0.15);\n",
       "      fill: #174EA6;\n",
       "    }\n",
       "\n",
       "    [theme=dark] .colab-df-convert {\n",
       "      background-color: #3B4455;\n",
       "      fill: #D2E3FC;\n",
       "    }\n",
       "\n",
       "    [theme=dark] .colab-df-convert:hover {\n",
       "      background-color: #434B5C;\n",
       "      box-shadow: 0px 1px 3px 1px rgba(0, 0, 0, 0.15);\n",
       "      filter: drop-shadow(0px 1px 2px rgba(0, 0, 0, 0.3));\n",
       "      fill: #FFFFFF;\n",
       "    }\n",
       "  </style>\n",
       "\n",
       "      <script>\n",
       "        const buttonEl =\n",
       "          document.querySelector('#df-c23226d1-3017-4b07-b25b-5b1022357555 button.colab-df-convert');\n",
       "        buttonEl.style.display =\n",
       "          google.colab.kernel.accessAllowed ? 'block' : 'none';\n",
       "\n",
       "        async function convertToInteractive(key) {\n",
       "          const element = document.querySelector('#df-c23226d1-3017-4b07-b25b-5b1022357555');\n",
       "          const dataTable =\n",
       "            await google.colab.kernel.invokeFunction('convertToInteractive',\n",
       "                                                     [key], {});\n",
       "          if (!dataTable) return;\n",
       "\n",
       "          const docLinkHtml = 'Like what you see? Visit the ' +\n",
       "            '<a target=\"_blank\" href=https://colab.research.google.com/notebooks/data_table.ipynb>data table notebook</a>'\n",
       "            + ' to learn more about interactive tables.';\n",
       "          element.innerHTML = '';\n",
       "          dataTable['output_type'] = 'display_data';\n",
       "          await google.colab.output.renderOutput(dataTable, element);\n",
       "          const docLink = document.createElement('div');\n",
       "          docLink.innerHTML = docLinkHtml;\n",
       "          element.appendChild(docLink);\n",
       "        }\n",
       "      </script>\n",
       "    </div>\n",
       "  </div>\n",
       "  "
      ],
      "text/plain": [
       "   child_mlu  percent_child_parents_mlu  child_mluw  \\\n",
       "0      3.067                      0.503       3.316   \n",
       "1      2.630                      0.371       2.254   \n",
       "2      2.640                      0.558       2.060   \n",
       "3      3.629                      0.497       2.598   \n",
       "4      1.333                      0.317       1.074   \n",
       "\n",
       "   percent_child_parents_mluw  child_ttr  percent_child_parents_ttr  \\\n",
       "0                       0.694      0.397                      1.491   \n",
       "1                       0.396      0.479                      2.042   \n",
       "2                       0.549      0.274                      0.910   \n",
       "3                       0.431      0.445                      1.920   \n",
       "4                       0.331      0.397                      1.487   \n",
       "\n",
       "   child_ipsyn  percent_child_parents_ipsyn  child_num_words  \\\n",
       "0           18                        0.212               94   \n",
       "1           43                        0.531              234   \n",
       "2           44                        0.629              380   \n",
       "3           66                        0.742              372   \n",
       "4           10                        0.145              205   \n",
       "\n",
       "   perct_child_parents_words  ...  pos_percent_sub#n  pos_percent_n:pt  \\\n",
       "0                      0.095  ...              0.000             0.000   \n",
       "1                      0.217  ...              0.000             0.000   \n",
       "2                      0.483  ...              0.000             0.000   \n",
       "3                      0.266  ...              0.000             0.000   \n",
       "4                      0.197  ...              0.000             0.000   \n",
       "\n",
       "   pos_percent_pro:refl  pos_percent_un#part  pos_percent_L2  pos_percent_chi  \\\n",
       "0                 0.000                0.000           0.000            0.000   \n",
       "1                 0.000                0.000           0.000            0.000   \n",
       "2                 0.000                0.000           0.000            0.000   \n",
       "3                 0.000                0.000           0.000            0.000   \n",
       "4                 0.000                0.000           0.000            0.005   \n",
       "\n",
       "   pos_percent_pro:poss  pos_percent_n:let  pos_percent_bab  pos_percent_sing  \n",
       "0                 0.000              0.000            0.000             0.000  \n",
       "1                 0.000              0.000            0.000             0.000  \n",
       "2                 0.000              0.000            0.000             0.000  \n",
       "3                 0.003              0.000            0.000             0.000  \n",
       "4                 0.000              0.000            0.000             0.000  \n",
       "\n",
       "[5 rows x 69 columns]"
      ]
     },
     "metadata": {},
     "output_type": "display_data"
    },
    {
     "data": {
      "application/vnd.google.colaboratory.intrinsic+json": {
       "type": "string"
      },
      "text/plain": [
       "'X_train_scaled'"
      ]
     },
     "metadata": {},
     "output_type": "display_data"
    },
    {
     "data": {
      "text/html": [
       "\n",
       "  <div id=\"df-d90c0901-7508-4f6a-b97c-3a1e6d2a4256\">\n",
       "    <div class=\"colab-df-container\">\n",
       "      <div>\n",
       "<style scoped>\n",
       "    .dataframe tbody tr th:only-of-type {\n",
       "        vertical-align: middle;\n",
       "    }\n",
       "\n",
       "    .dataframe tbody tr th {\n",
       "        vertical-align: top;\n",
       "    }\n",
       "\n",
       "    .dataframe thead th {\n",
       "        text-align: right;\n",
       "    }\n",
       "</style>\n",
       "<table border=\"1\" class=\"dataframe\">\n",
       "  <thead>\n",
       "    <tr style=\"text-align: right;\">\n",
       "      <th></th>\n",
       "      <th>child_mlu</th>\n",
       "      <th>percent_child_parents_mlu</th>\n",
       "      <th>child_mluw</th>\n",
       "      <th>percent_child_parents_mluw</th>\n",
       "      <th>child_ttr</th>\n",
       "      <th>percent_child_parents_ttr</th>\n",
       "      <th>child_ipsyn</th>\n",
       "      <th>percent_child_parents_ipsyn</th>\n",
       "      <th>child_num_words</th>\n",
       "      <th>perct_child_parents_words</th>\n",
       "      <th>...</th>\n",
       "      <th>pos_percent_sub#n</th>\n",
       "      <th>pos_percent_n:pt</th>\n",
       "      <th>pos_percent_pro:refl</th>\n",
       "      <th>pos_percent_un#part</th>\n",
       "      <th>pos_percent_L2</th>\n",
       "      <th>pos_percent_chi</th>\n",
       "      <th>pos_percent_pro:poss</th>\n",
       "      <th>pos_percent_n:let</th>\n",
       "      <th>pos_percent_bab</th>\n",
       "      <th>pos_percent_sing</th>\n",
       "    </tr>\n",
       "  </thead>\n",
       "  <tbody>\n",
       "    <tr>\n",
       "      <th>0</th>\n",
       "      <td>0.156</td>\n",
       "      <td>0.010</td>\n",
       "      <td>0.915</td>\n",
       "      <td>0.764</td>\n",
       "      <td>-0.428</td>\n",
       "      <td>-0.274</td>\n",
       "      <td>-1.029</td>\n",
       "      <td>-1.107</td>\n",
       "      <td>-1.027</td>\n",
       "      <td>-0.804</td>\n",
       "      <td>...</td>\n",
       "      <td>0.000</td>\n",
       "      <td>-0.333</td>\n",
       "      <td>-0.262</td>\n",
       "      <td>-0.186</td>\n",
       "      <td>-0.220</td>\n",
       "      <td>-0.420</td>\n",
       "      <td>-0.244</td>\n",
       "      <td>0.000</td>\n",
       "      <td>-0.237</td>\n",
       "      <td>0.000</td>\n",
       "    </tr>\n",
       "    <tr>\n",
       "      <th>1</th>\n",
       "      <td>-0.183</td>\n",
       "      <td>-0.614</td>\n",
       "      <td>-0.077</td>\n",
       "      <td>-0.541</td>\n",
       "      <td>0.013</td>\n",
       "      <td>0.354</td>\n",
       "      <td>-0.048</td>\n",
       "      <td>-0.040</td>\n",
       "      <td>-0.016</td>\n",
       "      <td>-0.351</td>\n",
       "      <td>...</td>\n",
       "      <td>0.000</td>\n",
       "      <td>-0.333</td>\n",
       "      <td>-0.262</td>\n",
       "      <td>-0.186</td>\n",
       "      <td>-0.220</td>\n",
       "      <td>-0.420</td>\n",
       "      <td>-0.244</td>\n",
       "      <td>0.000</td>\n",
       "      <td>-0.237</td>\n",
       "      <td>0.000</td>\n",
       "    </tr>\n",
       "    <tr>\n",
       "      <th>2</th>\n",
       "      <td>-0.176</td>\n",
       "      <td>0.268</td>\n",
       "      <td>-0.259</td>\n",
       "      <td>0.127</td>\n",
       "      <td>-1.090</td>\n",
       "      <td>-0.936</td>\n",
       "      <td>-0.009</td>\n",
       "      <td>0.287</td>\n",
       "      <td>1.037</td>\n",
       "      <td>0.641</td>\n",
       "      <td>...</td>\n",
       "      <td>0.000</td>\n",
       "      <td>-0.333</td>\n",
       "      <td>-0.262</td>\n",
       "      <td>-0.186</td>\n",
       "      <td>-0.220</td>\n",
       "      <td>-0.420</td>\n",
       "      <td>-0.244</td>\n",
       "      <td>0.000</td>\n",
       "      <td>-0.237</td>\n",
       "      <td>0.000</td>\n",
       "    </tr>\n",
       "    <tr>\n",
       "      <th>3</th>\n",
       "      <td>0.594</td>\n",
       "      <td>-0.020</td>\n",
       "      <td>0.244</td>\n",
       "      <td>-0.388</td>\n",
       "      <td>-0.168</td>\n",
       "      <td>0.215</td>\n",
       "      <td>0.854</td>\n",
       "      <td>0.665</td>\n",
       "      <td>0.980</td>\n",
       "      <td>-0.169</td>\n",
       "      <td>...</td>\n",
       "      <td>0.000</td>\n",
       "      <td>-0.333</td>\n",
       "      <td>-0.262</td>\n",
       "      <td>-0.186</td>\n",
       "      <td>-0.220</td>\n",
       "      <td>-0.420</td>\n",
       "      <td>1.828</td>\n",
       "      <td>0.000</td>\n",
       "      <td>-0.237</td>\n",
       "      <td>0.000</td>\n",
       "    </tr>\n",
       "    <tr>\n",
       "      <th>4</th>\n",
       "      <td>-1.194</td>\n",
       "      <td>-0.871</td>\n",
       "      <td>-1.180</td>\n",
       "      <td>-0.829</td>\n",
       "      <td>-0.430</td>\n",
       "      <td>-0.279</td>\n",
       "      <td>-1.343</td>\n",
       "      <td>-1.331</td>\n",
       "      <td>-0.226</td>\n",
       "      <td>-0.426</td>\n",
       "      <td>...</td>\n",
       "      <td>0.000</td>\n",
       "      <td>-0.333</td>\n",
       "      <td>-0.262</td>\n",
       "      <td>-0.186</td>\n",
       "      <td>-0.220</td>\n",
       "      <td>3.135</td>\n",
       "      <td>-0.244</td>\n",
       "      <td>0.000</td>\n",
       "      <td>-0.237</td>\n",
       "      <td>0.000</td>\n",
       "    </tr>\n",
       "  </tbody>\n",
       "</table>\n",
       "<p>5 rows × 69 columns</p>\n",
       "</div>\n",
       "      <button class=\"colab-df-convert\" onclick=\"convertToInteractive('df-d90c0901-7508-4f6a-b97c-3a1e6d2a4256')\"\n",
       "              title=\"Convert this dataframe to an interactive table.\"\n",
       "              style=\"display:none;\">\n",
       "        \n",
       "  <svg xmlns=\"http://www.w3.org/2000/svg\" height=\"24px\"viewBox=\"0 0 24 24\"\n",
       "       width=\"24px\">\n",
       "    <path d=\"M0 0h24v24H0V0z\" fill=\"none\"/>\n",
       "    <path d=\"M18.56 5.44l.94 2.06.94-2.06 2.06-.94-2.06-.94-.94-2.06-.94 2.06-2.06.94zm-11 1L8.5 8.5l.94-2.06 2.06-.94-2.06-.94L8.5 2.5l-.94 2.06-2.06.94zm10 10l.94 2.06.94-2.06 2.06-.94-2.06-.94-.94-2.06-.94 2.06-2.06.94z\"/><path d=\"M17.41 7.96l-1.37-1.37c-.4-.4-.92-.59-1.43-.59-.52 0-1.04.2-1.43.59L10.3 9.45l-7.72 7.72c-.78.78-.78 2.05 0 2.83L4 21.41c.39.39.9.59 1.41.59.51 0 1.02-.2 1.41-.59l7.78-7.78 2.81-2.81c.8-.78.8-2.07 0-2.86zM5.41 20L4 18.59l7.72-7.72 1.47 1.35L5.41 20z\"/>\n",
       "  </svg>\n",
       "      </button>\n",
       "      \n",
       "  <style>\n",
       "    .colab-df-container {\n",
       "      display:flex;\n",
       "      flex-wrap:wrap;\n",
       "      gap: 12px;\n",
       "    }\n",
       "\n",
       "    .colab-df-convert {\n",
       "      background-color: #E8F0FE;\n",
       "      border: none;\n",
       "      border-radius: 50%;\n",
       "      cursor: pointer;\n",
       "      display: none;\n",
       "      fill: #1967D2;\n",
       "      height: 32px;\n",
       "      padding: 0 0 0 0;\n",
       "      width: 32px;\n",
       "    }\n",
       "\n",
       "    .colab-df-convert:hover {\n",
       "      background-color: #E2EBFA;\n",
       "      box-shadow: 0px 1px 2px rgba(60, 64, 67, 0.3), 0px 1px 3px 1px rgba(60, 64, 67, 0.15);\n",
       "      fill: #174EA6;\n",
       "    }\n",
       "\n",
       "    [theme=dark] .colab-df-convert {\n",
       "      background-color: #3B4455;\n",
       "      fill: #D2E3FC;\n",
       "    }\n",
       "\n",
       "    [theme=dark] .colab-df-convert:hover {\n",
       "      background-color: #434B5C;\n",
       "      box-shadow: 0px 1px 3px 1px rgba(0, 0, 0, 0.15);\n",
       "      filter: drop-shadow(0px 1px 2px rgba(0, 0, 0, 0.3));\n",
       "      fill: #FFFFFF;\n",
       "    }\n",
       "  </style>\n",
       "\n",
       "      <script>\n",
       "        const buttonEl =\n",
       "          document.querySelector('#df-d90c0901-7508-4f6a-b97c-3a1e6d2a4256 button.colab-df-convert');\n",
       "        buttonEl.style.display =\n",
       "          google.colab.kernel.accessAllowed ? 'block' : 'none';\n",
       "\n",
       "        async function convertToInteractive(key) {\n",
       "          const element = document.querySelector('#df-d90c0901-7508-4f6a-b97c-3a1e6d2a4256');\n",
       "          const dataTable =\n",
       "            await google.colab.kernel.invokeFunction('convertToInteractive',\n",
       "                                                     [key], {});\n",
       "          if (!dataTable) return;\n",
       "\n",
       "          const docLinkHtml = 'Like what you see? Visit the ' +\n",
       "            '<a target=\"_blank\" href=https://colab.research.google.com/notebooks/data_table.ipynb>data table notebook</a>'\n",
       "            + ' to learn more about interactive tables.';\n",
       "          element.innerHTML = '';\n",
       "          dataTable['output_type'] = 'display_data';\n",
       "          await google.colab.output.renderOutput(dataTable, element);\n",
       "          const docLink = document.createElement('div');\n",
       "          docLink.innerHTML = docLinkHtml;\n",
       "          element.appendChild(docLink);\n",
       "        }\n",
       "      </script>\n",
       "    </div>\n",
       "  </div>\n",
       "  "
      ],
      "text/plain": [
       "   child_mlu  percent_child_parents_mlu  child_mluw  \\\n",
       "0      0.156                      0.010       0.915   \n",
       "1     -0.183                     -0.614      -0.077   \n",
       "2     -0.176                      0.268      -0.259   \n",
       "3      0.594                     -0.020       0.244   \n",
       "4     -1.194                     -0.871      -1.180   \n",
       "\n",
       "   percent_child_parents_mluw  child_ttr  percent_child_parents_ttr  \\\n",
       "0                       0.764     -0.428                     -0.274   \n",
       "1                      -0.541      0.013                      0.354   \n",
       "2                       0.127     -1.090                     -0.936   \n",
       "3                      -0.388     -0.168                      0.215   \n",
       "4                      -0.829     -0.430                     -0.279   \n",
       "\n",
       "   child_ipsyn  percent_child_parents_ipsyn  child_num_words  \\\n",
       "0       -1.029                       -1.107           -1.027   \n",
       "1       -0.048                       -0.040           -0.016   \n",
       "2       -0.009                        0.287            1.037   \n",
       "3        0.854                        0.665            0.980   \n",
       "4       -1.343                       -1.331           -0.226   \n",
       "\n",
       "   perct_child_parents_words  ...  pos_percent_sub#n  pos_percent_n:pt  \\\n",
       "0                     -0.804  ...              0.000            -0.333   \n",
       "1                     -0.351  ...              0.000            -0.333   \n",
       "2                      0.641  ...              0.000            -0.333   \n",
       "3                     -0.169  ...              0.000            -0.333   \n",
       "4                     -0.426  ...              0.000            -0.333   \n",
       "\n",
       "   pos_percent_pro:refl  pos_percent_un#part  pos_percent_L2  pos_percent_chi  \\\n",
       "0                -0.262               -0.186          -0.220           -0.420   \n",
       "1                -0.262               -0.186          -0.220           -0.420   \n",
       "2                -0.262               -0.186          -0.220           -0.420   \n",
       "3                -0.262               -0.186          -0.220           -0.420   \n",
       "4                -0.262               -0.186          -0.220            3.135   \n",
       "\n",
       "   pos_percent_pro:poss  pos_percent_n:let  pos_percent_bab  pos_percent_sing  \n",
       "0                -0.244              0.000           -0.237             0.000  \n",
       "1                -0.244              0.000           -0.237             0.000  \n",
       "2                -0.244              0.000           -0.237             0.000  \n",
       "3                 1.828              0.000           -0.237             0.000  \n",
       "4                -0.244              0.000           -0.237             0.000  \n",
       "\n",
       "[5 rows x 69 columns]"
      ]
     },
     "metadata": {},
     "output_type": "display_data"
    }
   ],
   "source": [
    "# define scaler object\n",
    "ss = StandardScaler(copy=True, with_mean=True, with_std=True)\n",
    "\n",
    "# fit to data and get scaled dataframe\n",
    "X_train_scaled = pd.DataFrame(data=ss.fit_transform(X_train), columns=X_train.columns)\n",
    "\n",
    "# inspect values\n",
    "display(\"X_train\", X_train.head(), \"X_train_scaled\", X_train_scaled.head())"
   ]
  },
  {
   "cell_type": "code",
   "execution_count": null,
   "id": "PTnOepxgTKce",
   "metadata": {
    "colab": {
     "base_uri": "https://localhost:8080/",
     "height": 742
    },
    "id": "PTnOepxgTKce",
    "outputId": "2fda0eba-4a1d-4109-a820-d6b4d5016869"
   },
   "outputs": [
    {
     "data": {
      "application/vnd.google.colaboratory.intrinsic+json": {
       "type": "string"
      },
      "text/plain": [
       "'X_train'"
      ]
     },
     "metadata": {},
     "output_type": "display_data"
    },
    {
     "data": {
      "text/html": [
       "\n",
       "  <div id=\"df-b225549d-2be1-4dd3-8f1c-c46328ce14e6\">\n",
       "    <div class=\"colab-df-container\">\n",
       "      <div>\n",
       "<style scoped>\n",
       "    .dataframe tbody tr th:only-of-type {\n",
       "        vertical-align: middle;\n",
       "    }\n",
       "\n",
       "    .dataframe tbody tr th {\n",
       "        vertical-align: top;\n",
       "    }\n",
       "\n",
       "    .dataframe thead th {\n",
       "        text-align: right;\n",
       "    }\n",
       "</style>\n",
       "<table border=\"1\" class=\"dataframe\">\n",
       "  <thead>\n",
       "    <tr style=\"text-align: right;\">\n",
       "      <th></th>\n",
       "      <th>child_mlu</th>\n",
       "      <th>percent_child_parents_mlu</th>\n",
       "      <th>child_mluw</th>\n",
       "      <th>percent_child_parents_mluw</th>\n",
       "      <th>child_ttr</th>\n",
       "      <th>percent_child_parents_ttr</th>\n",
       "      <th>child_ipsyn</th>\n",
       "      <th>percent_child_parents_ipsyn</th>\n",
       "      <th>child_num_words</th>\n",
       "      <th>perct_child_parents_words</th>\n",
       "      <th>...</th>\n",
       "      <th>pos_percent_sub#n</th>\n",
       "      <th>pos_percent_n:pt</th>\n",
       "      <th>pos_percent_pro:refl</th>\n",
       "      <th>pos_percent_un#part</th>\n",
       "      <th>pos_percent_L2</th>\n",
       "      <th>pos_percent_chi</th>\n",
       "      <th>pos_percent_pro:poss</th>\n",
       "      <th>pos_percent_n:let</th>\n",
       "      <th>pos_percent_bab</th>\n",
       "      <th>pos_percent_sing</th>\n",
       "    </tr>\n",
       "  </thead>\n",
       "  <tbody>\n",
       "    <tr>\n",
       "      <th>count</th>\n",
       "      <td>30.000</td>\n",
       "      <td>30.000</td>\n",
       "      <td>30.000</td>\n",
       "      <td>30.000</td>\n",
       "      <td>30.000</td>\n",
       "      <td>30.000</td>\n",
       "      <td>30.000</td>\n",
       "      <td>30.000</td>\n",
       "      <td>30.000</td>\n",
       "      <td>30.000</td>\n",
       "      <td>...</td>\n",
       "      <td>30.000</td>\n",
       "      <td>30.000</td>\n",
       "      <td>30.000</td>\n",
       "      <td>30.000</td>\n",
       "      <td>30.000</td>\n",
       "      <td>30.000</td>\n",
       "      <td>30.000</td>\n",
       "      <td>30.000</td>\n",
       "      <td>30.000</td>\n",
       "      <td>30.000</td>\n",
       "    </tr>\n",
       "    <tr>\n",
       "      <th>mean</th>\n",
       "      <td>2.866</td>\n",
       "      <td>0.501</td>\n",
       "      <td>2.337</td>\n",
       "      <td>0.520</td>\n",
       "      <td>0.476</td>\n",
       "      <td>1.731</td>\n",
       "      <td>44.233</td>\n",
       "      <td>0.543</td>\n",
       "      <td>236.267</td>\n",
       "      <td>0.311</td>\n",
       "      <td>...</td>\n",
       "      <td>0.000</td>\n",
       "      <td>0.001</td>\n",
       "      <td>0.000</td>\n",
       "      <td>0.000</td>\n",
       "      <td>0.002</td>\n",
       "      <td>0.001</td>\n",
       "      <td>0.000</td>\n",
       "      <td>0.000</td>\n",
       "      <td>0.003</td>\n",
       "      <td>0.000</td>\n",
       "    </tr>\n",
       "    <tr>\n",
       "      <th>std</th>\n",
       "      <td>1.306</td>\n",
       "      <td>0.215</td>\n",
       "      <td>1.088</td>\n",
       "      <td>0.232</td>\n",
       "      <td>0.189</td>\n",
       "      <td>0.893</td>\n",
       "      <td>25.919</td>\n",
       "      <td>0.304</td>\n",
       "      <td>140.931</td>\n",
       "      <td>0.273</td>\n",
       "      <td>...</td>\n",
       "      <td>0.000</td>\n",
       "      <td>0.002</td>\n",
       "      <td>0.001</td>\n",
       "      <td>0.001</td>\n",
       "      <td>0.008</td>\n",
       "      <td>0.001</td>\n",
       "      <td>0.001</td>\n",
       "      <td>0.000</td>\n",
       "      <td>0.014</td>\n",
       "      <td>0.000</td>\n",
       "    </tr>\n",
       "    <tr>\n",
       "      <th>min</th>\n",
       "      <td>1.000</td>\n",
       "      <td>0.198</td>\n",
       "      <td>0.000</td>\n",
       "      <td>0.000</td>\n",
       "      <td>0.000</td>\n",
       "      <td>0.000</td>\n",
       "      <td>0.000</td>\n",
       "      <td>0.000</td>\n",
       "      <td>3.000</td>\n",
       "      <td>0.012</td>\n",
       "      <td>...</td>\n",
       "      <td>0.000</td>\n",
       "      <td>0.000</td>\n",
       "      <td>0.000</td>\n",
       "      <td>0.000</td>\n",
       "      <td>0.000</td>\n",
       "      <td>0.000</td>\n",
       "      <td>0.000</td>\n",
       "      <td>0.000</td>\n",
       "      <td>0.000</td>\n",
       "      <td>0.000</td>\n",
       "    </tr>\n",
       "    <tr>\n",
       "      <th>25%</th>\n",
       "      <td>1.571</td>\n",
       "      <td>0.322</td>\n",
       "      <td>1.353</td>\n",
       "      <td>0.321</td>\n",
       "      <td>0.397</td>\n",
       "      <td>1.148</td>\n",
       "      <td>22.750</td>\n",
       "      <td>0.282</td>\n",
       "      <td>139.250</td>\n",
       "      <td>0.153</td>\n",
       "      <td>...</td>\n",
       "      <td>0.000</td>\n",
       "      <td>0.000</td>\n",
       "      <td>0.000</td>\n",
       "      <td>0.000</td>\n",
       "      <td>0.000</td>\n",
       "      <td>0.000</td>\n",
       "      <td>0.000</td>\n",
       "      <td>0.000</td>\n",
       "      <td>0.000</td>\n",
       "      <td>0.000</td>\n",
       "    </tr>\n",
       "    <tr>\n",
       "      <th>50%</th>\n",
       "      <td>2.853</td>\n",
       "      <td>0.506</td>\n",
       "      <td>2.437</td>\n",
       "      <td>0.532</td>\n",
       "      <td>0.455</td>\n",
       "      <td>1.552</td>\n",
       "      <td>49.500</td>\n",
       "      <td>0.623</td>\n",
       "      <td>220.000</td>\n",
       "      <td>0.224</td>\n",
       "      <td>...</td>\n",
       "      <td>0.000</td>\n",
       "      <td>0.000</td>\n",
       "      <td>0.000</td>\n",
       "      <td>0.000</td>\n",
       "      <td>0.000</td>\n",
       "      <td>0.000</td>\n",
       "      <td>0.000</td>\n",
       "      <td>0.000</td>\n",
       "      <td>0.000</td>\n",
       "      <td>0.000</td>\n",
       "    </tr>\n",
       "    <tr>\n",
       "      <th>75%</th>\n",
       "      <td>3.774</td>\n",
       "      <td>0.638</td>\n",
       "      <td>3.165</td>\n",
       "      <td>0.675</td>\n",
       "      <td>0.517</td>\n",
       "      <td>2.028</td>\n",
       "      <td>63.250</td>\n",
       "      <td>0.752</td>\n",
       "      <td>362.750</td>\n",
       "      <td>0.415</td>\n",
       "      <td>...</td>\n",
       "      <td>0.000</td>\n",
       "      <td>0.000</td>\n",
       "      <td>0.000</td>\n",
       "      <td>0.000</td>\n",
       "      <td>0.000</td>\n",
       "      <td>0.000</td>\n",
       "      <td>0.000</td>\n",
       "      <td>0.000</td>\n",
       "      <td>0.000</td>\n",
       "      <td>0.000</td>\n",
       "    </tr>\n",
       "    <tr>\n",
       "      <th>max</th>\n",
       "      <td>5.448</td>\n",
       "      <td>1.049</td>\n",
       "      <td>4.023</td>\n",
       "      <td>0.978</td>\n",
       "      <td>1.000</td>\n",
       "      <td>4.445</td>\n",
       "      <td>81.000</td>\n",
       "      <td>0.931</td>\n",
       "      <td>462.000</td>\n",
       "      <td>1.089</td>\n",
       "      <td>...</td>\n",
       "      <td>0.000</td>\n",
       "      <td>0.007</td>\n",
       "      <td>0.003</td>\n",
       "      <td>0.003</td>\n",
       "      <td>0.042</td>\n",
       "      <td>0.005</td>\n",
       "      <td>0.007</td>\n",
       "      <td>0.000</td>\n",
       "      <td>0.075</td>\n",
       "      <td>0.000</td>\n",
       "    </tr>\n",
       "  </tbody>\n",
       "</table>\n",
       "<p>8 rows × 69 columns</p>\n",
       "</div>\n",
       "      <button class=\"colab-df-convert\" onclick=\"convertToInteractive('df-b225549d-2be1-4dd3-8f1c-c46328ce14e6')\"\n",
       "              title=\"Convert this dataframe to an interactive table.\"\n",
       "              style=\"display:none;\">\n",
       "        \n",
       "  <svg xmlns=\"http://www.w3.org/2000/svg\" height=\"24px\"viewBox=\"0 0 24 24\"\n",
       "       width=\"24px\">\n",
       "    <path d=\"M0 0h24v24H0V0z\" fill=\"none\"/>\n",
       "    <path d=\"M18.56 5.44l.94 2.06.94-2.06 2.06-.94-2.06-.94-.94-2.06-.94 2.06-2.06.94zm-11 1L8.5 8.5l.94-2.06 2.06-.94-2.06-.94L8.5 2.5l-.94 2.06-2.06.94zm10 10l.94 2.06.94-2.06 2.06-.94-2.06-.94-.94-2.06-.94 2.06-2.06.94z\"/><path d=\"M17.41 7.96l-1.37-1.37c-.4-.4-.92-.59-1.43-.59-.52 0-1.04.2-1.43.59L10.3 9.45l-7.72 7.72c-.78.78-.78 2.05 0 2.83L4 21.41c.39.39.9.59 1.41.59.51 0 1.02-.2 1.41-.59l7.78-7.78 2.81-2.81c.8-.78.8-2.07 0-2.86zM5.41 20L4 18.59l7.72-7.72 1.47 1.35L5.41 20z\"/>\n",
       "  </svg>\n",
       "      </button>\n",
       "      \n",
       "  <style>\n",
       "    .colab-df-container {\n",
       "      display:flex;\n",
       "      flex-wrap:wrap;\n",
       "      gap: 12px;\n",
       "    }\n",
       "\n",
       "    .colab-df-convert {\n",
       "      background-color: #E8F0FE;\n",
       "      border: none;\n",
       "      border-radius: 50%;\n",
       "      cursor: pointer;\n",
       "      display: none;\n",
       "      fill: #1967D2;\n",
       "      height: 32px;\n",
       "      padding: 0 0 0 0;\n",
       "      width: 32px;\n",
       "    }\n",
       "\n",
       "    .colab-df-convert:hover {\n",
       "      background-color: #E2EBFA;\n",
       "      box-shadow: 0px 1px 2px rgba(60, 64, 67, 0.3), 0px 1px 3px 1px rgba(60, 64, 67, 0.15);\n",
       "      fill: #174EA6;\n",
       "    }\n",
       "\n",
       "    [theme=dark] .colab-df-convert {\n",
       "      background-color: #3B4455;\n",
       "      fill: #D2E3FC;\n",
       "    }\n",
       "\n",
       "    [theme=dark] .colab-df-convert:hover {\n",
       "      background-color: #434B5C;\n",
       "      box-shadow: 0px 1px 3px 1px rgba(0, 0, 0, 0.15);\n",
       "      filter: drop-shadow(0px 1px 2px rgba(0, 0, 0, 0.3));\n",
       "      fill: #FFFFFF;\n",
       "    }\n",
       "  </style>\n",
       "\n",
       "      <script>\n",
       "        const buttonEl =\n",
       "          document.querySelector('#df-b225549d-2be1-4dd3-8f1c-c46328ce14e6 button.colab-df-convert');\n",
       "        buttonEl.style.display =\n",
       "          google.colab.kernel.accessAllowed ? 'block' : 'none';\n",
       "\n",
       "        async function convertToInteractive(key) {\n",
       "          const element = document.querySelector('#df-b225549d-2be1-4dd3-8f1c-c46328ce14e6');\n",
       "          const dataTable =\n",
       "            await google.colab.kernel.invokeFunction('convertToInteractive',\n",
       "                                                     [key], {});\n",
       "          if (!dataTable) return;\n",
       "\n",
       "          const docLinkHtml = 'Like what you see? Visit the ' +\n",
       "            '<a target=\"_blank\" href=https://colab.research.google.com/notebooks/data_table.ipynb>data table notebook</a>'\n",
       "            + ' to learn more about interactive tables.';\n",
       "          element.innerHTML = '';\n",
       "          dataTable['output_type'] = 'display_data';\n",
       "          await google.colab.output.renderOutput(dataTable, element);\n",
       "          const docLink = document.createElement('div');\n",
       "          docLink.innerHTML = docLinkHtml;\n",
       "          element.appendChild(docLink);\n",
       "        }\n",
       "      </script>\n",
       "    </div>\n",
       "  </div>\n",
       "  "
      ],
      "text/plain": [
       "       child_mlu  percent_child_parents_mlu  child_mluw  \\\n",
       "count     30.000                     30.000      30.000   \n",
       "mean       2.866                      0.501       2.337   \n",
       "std        1.306                      0.215       1.088   \n",
       "min        1.000                      0.198       0.000   \n",
       "25%        1.571                      0.322       1.353   \n",
       "50%        2.853                      0.506       2.437   \n",
       "75%        3.774                      0.638       3.165   \n",
       "max        5.448                      1.049       4.023   \n",
       "\n",
       "       percent_child_parents_mluw  child_ttr  percent_child_parents_ttr  \\\n",
       "count                      30.000     30.000                     30.000   \n",
       "mean                        0.520      0.476                      1.731   \n",
       "std                         0.232      0.189                      0.893   \n",
       "min                         0.000      0.000                      0.000   \n",
       "25%                         0.321      0.397                      1.148   \n",
       "50%                         0.532      0.455                      1.552   \n",
       "75%                         0.675      0.517                      2.028   \n",
       "max                         0.978      1.000                      4.445   \n",
       "\n",
       "       child_ipsyn  percent_child_parents_ipsyn  child_num_words  \\\n",
       "count       30.000                       30.000           30.000   \n",
       "mean        44.233                        0.543          236.267   \n",
       "std         25.919                        0.304          140.931   \n",
       "min          0.000                        0.000            3.000   \n",
       "25%         22.750                        0.282          139.250   \n",
       "50%         49.500                        0.623          220.000   \n",
       "75%         63.250                        0.752          362.750   \n",
       "max         81.000                        0.931          462.000   \n",
       "\n",
       "       perct_child_parents_words  ...  pos_percent_sub#n  pos_percent_n:pt  \\\n",
       "count                     30.000  ...             30.000            30.000   \n",
       "mean                       0.311  ...              0.000             0.001   \n",
       "std                        0.273  ...              0.000             0.002   \n",
       "min                        0.012  ...              0.000             0.000   \n",
       "25%                        0.153  ...              0.000             0.000   \n",
       "50%                        0.224  ...              0.000             0.000   \n",
       "75%                        0.415  ...              0.000             0.000   \n",
       "max                        1.089  ...              0.000             0.007   \n",
       "\n",
       "       pos_percent_pro:refl  pos_percent_un#part  pos_percent_L2  \\\n",
       "count                30.000               30.000          30.000   \n",
       "mean                  0.000                0.000           0.002   \n",
       "std                   0.001                0.001           0.008   \n",
       "min                   0.000                0.000           0.000   \n",
       "25%                   0.000                0.000           0.000   \n",
       "50%                   0.000                0.000           0.000   \n",
       "75%                   0.000                0.000           0.000   \n",
       "max                   0.003                0.003           0.042   \n",
       "\n",
       "       pos_percent_chi  pos_percent_pro:poss  pos_percent_n:let  \\\n",
       "count           30.000                30.000             30.000   \n",
       "mean             0.001                 0.000              0.000   \n",
       "std              0.001                 0.001              0.000   \n",
       "min              0.000                 0.000              0.000   \n",
       "25%              0.000                 0.000              0.000   \n",
       "50%              0.000                 0.000              0.000   \n",
       "75%              0.000                 0.000              0.000   \n",
       "max              0.005                 0.007              0.000   \n",
       "\n",
       "       pos_percent_bab  pos_percent_sing  \n",
       "count           30.000            30.000  \n",
       "mean             0.003             0.000  \n",
       "std              0.014             0.000  \n",
       "min              0.000             0.000  \n",
       "25%              0.000             0.000  \n",
       "50%              0.000             0.000  \n",
       "75%              0.000             0.000  \n",
       "max              0.075             0.000  \n",
       "\n",
       "[8 rows x 69 columns]"
      ]
     },
     "metadata": {},
     "output_type": "display_data"
    },
    {
     "data": {
      "application/vnd.google.colaboratory.intrinsic+json": {
       "type": "string"
      },
      "text/plain": [
       "'X_train_scaled'"
      ]
     },
     "metadata": {},
     "output_type": "display_data"
    },
    {
     "data": {
      "text/html": [
       "\n",
       "  <div id=\"df-1a7127b2-c459-4292-a450-b1df7c666a5a\">\n",
       "    <div class=\"colab-df-container\">\n",
       "      <div>\n",
       "<style scoped>\n",
       "    .dataframe tbody tr th:only-of-type {\n",
       "        vertical-align: middle;\n",
       "    }\n",
       "\n",
       "    .dataframe tbody tr th {\n",
       "        vertical-align: top;\n",
       "    }\n",
       "\n",
       "    .dataframe thead th {\n",
       "        text-align: right;\n",
       "    }\n",
       "</style>\n",
       "<table border=\"1\" class=\"dataframe\">\n",
       "  <thead>\n",
       "    <tr style=\"text-align: right;\">\n",
       "      <th></th>\n",
       "      <th>child_mlu</th>\n",
       "      <th>percent_child_parents_mlu</th>\n",
       "      <th>child_mluw</th>\n",
       "      <th>percent_child_parents_mluw</th>\n",
       "      <th>child_ttr</th>\n",
       "      <th>percent_child_parents_ttr</th>\n",
       "      <th>child_ipsyn</th>\n",
       "      <th>percent_child_parents_ipsyn</th>\n",
       "      <th>child_num_words</th>\n",
       "      <th>perct_child_parents_words</th>\n",
       "      <th>...</th>\n",
       "      <th>pos_percent_sub#n</th>\n",
       "      <th>pos_percent_n:pt</th>\n",
       "      <th>pos_percent_pro:refl</th>\n",
       "      <th>pos_percent_un#part</th>\n",
       "      <th>pos_percent_L2</th>\n",
       "      <th>pos_percent_chi</th>\n",
       "      <th>pos_percent_pro:poss</th>\n",
       "      <th>pos_percent_n:let</th>\n",
       "      <th>pos_percent_bab</th>\n",
       "      <th>pos_percent_sing</th>\n",
       "    </tr>\n",
       "  </thead>\n",
       "  <tbody>\n",
       "    <tr>\n",
       "      <th>count</th>\n",
       "      <td>30.000</td>\n",
       "      <td>30.000</td>\n",
       "      <td>30.000</td>\n",
       "      <td>30.000</td>\n",
       "      <td>30.000</td>\n",
       "      <td>30.000</td>\n",
       "      <td>30.000</td>\n",
       "      <td>30.000</td>\n",
       "      <td>30.000</td>\n",
       "      <td>30.000</td>\n",
       "      <td>...</td>\n",
       "      <td>30.000</td>\n",
       "      <td>30.000</td>\n",
       "      <td>30.000</td>\n",
       "      <td>30.000</td>\n",
       "      <td>30.000</td>\n",
       "      <td>30.000</td>\n",
       "      <td>30.000</td>\n",
       "      <td>30.000</td>\n",
       "      <td>30.000</td>\n",
       "      <td>30.000</td>\n",
       "    </tr>\n",
       "    <tr>\n",
       "      <th>mean</th>\n",
       "      <td>-0.000</td>\n",
       "      <td>-0.000</td>\n",
       "      <td>0.000</td>\n",
       "      <td>-0.000</td>\n",
       "      <td>-0.000</td>\n",
       "      <td>-0.000</td>\n",
       "      <td>-0.000</td>\n",
       "      <td>0.000</td>\n",
       "      <td>-0.000</td>\n",
       "      <td>-0.000</td>\n",
       "      <td>...</td>\n",
       "      <td>0.000</td>\n",
       "      <td>0.000</td>\n",
       "      <td>-0.000</td>\n",
       "      <td>-0.000</td>\n",
       "      <td>-0.000</td>\n",
       "      <td>-0.000</td>\n",
       "      <td>0.000</td>\n",
       "      <td>0.000</td>\n",
       "      <td>0.000</td>\n",
       "      <td>0.000</td>\n",
       "    </tr>\n",
       "    <tr>\n",
       "      <th>std</th>\n",
       "      <td>1.017</td>\n",
       "      <td>1.017</td>\n",
       "      <td>1.017</td>\n",
       "      <td>1.017</td>\n",
       "      <td>1.017</td>\n",
       "      <td>1.017</td>\n",
       "      <td>1.017</td>\n",
       "      <td>1.017</td>\n",
       "      <td>1.017</td>\n",
       "      <td>1.017</td>\n",
       "      <td>...</td>\n",
       "      <td>0.000</td>\n",
       "      <td>1.017</td>\n",
       "      <td>1.017</td>\n",
       "      <td>1.017</td>\n",
       "      <td>1.017</td>\n",
       "      <td>1.017</td>\n",
       "      <td>1.017</td>\n",
       "      <td>0.000</td>\n",
       "      <td>1.017</td>\n",
       "      <td>0.000</td>\n",
       "    </tr>\n",
       "    <tr>\n",
       "      <th>min</th>\n",
       "      <td>-1.453</td>\n",
       "      <td>-1.430</td>\n",
       "      <td>-2.185</td>\n",
       "      <td>-2.279</td>\n",
       "      <td>-2.564</td>\n",
       "      <td>-1.973</td>\n",
       "      <td>-1.736</td>\n",
       "      <td>-1.815</td>\n",
       "      <td>-1.683</td>\n",
       "      <td>-1.114</td>\n",
       "      <td>...</td>\n",
       "      <td>0.000</td>\n",
       "      <td>-0.333</td>\n",
       "      <td>-0.262</td>\n",
       "      <td>-0.186</td>\n",
       "      <td>-0.220</td>\n",
       "      <td>-0.420</td>\n",
       "      <td>-0.244</td>\n",
       "      <td>0.000</td>\n",
       "      <td>-0.237</td>\n",
       "      <td>0.000</td>\n",
       "    </tr>\n",
       "    <tr>\n",
       "      <th>25%</th>\n",
       "      <td>-1.008</td>\n",
       "      <td>-0.844</td>\n",
       "      <td>-0.920</td>\n",
       "      <td>-0.870</td>\n",
       "      <td>-0.430</td>\n",
       "      <td>-0.664</td>\n",
       "      <td>-0.843</td>\n",
       "      <td>-0.871</td>\n",
       "      <td>-0.700</td>\n",
       "      <td>-0.588</td>\n",
       "      <td>...</td>\n",
       "      <td>0.000</td>\n",
       "      <td>-0.333</td>\n",
       "      <td>-0.262</td>\n",
       "      <td>-0.186</td>\n",
       "      <td>-0.220</td>\n",
       "      <td>-0.420</td>\n",
       "      <td>-0.244</td>\n",
       "      <td>0.000</td>\n",
       "      <td>-0.237</td>\n",
       "      <td>0.000</td>\n",
       "    </tr>\n",
       "    <tr>\n",
       "      <th>50%</th>\n",
       "      <td>-0.010</td>\n",
       "      <td>0.023</td>\n",
       "      <td>0.094</td>\n",
       "      <td>0.053</td>\n",
       "      <td>-0.115</td>\n",
       "      <td>-0.204</td>\n",
       "      <td>0.207</td>\n",
       "      <td>0.266</td>\n",
       "      <td>-0.117</td>\n",
       "      <td>-0.322</td>\n",
       "      <td>...</td>\n",
       "      <td>0.000</td>\n",
       "      <td>-0.333</td>\n",
       "      <td>-0.262</td>\n",
       "      <td>-0.186</td>\n",
       "      <td>-0.220</td>\n",
       "      <td>-0.420</td>\n",
       "      <td>-0.244</td>\n",
       "      <td>0.000</td>\n",
       "      <td>-0.237</td>\n",
       "      <td>0.000</td>\n",
       "    </tr>\n",
       "    <tr>\n",
       "      <th>75%</th>\n",
       "      <td>0.707</td>\n",
       "      <td>0.646</td>\n",
       "      <td>0.774</td>\n",
       "      <td>0.681</td>\n",
       "      <td>0.216</td>\n",
       "      <td>0.338</td>\n",
       "      <td>0.746</td>\n",
       "      <td>0.701</td>\n",
       "      <td>0.913</td>\n",
       "      <td>0.389</td>\n",
       "      <td>...</td>\n",
       "      <td>0.000</td>\n",
       "      <td>-0.333</td>\n",
       "      <td>-0.262</td>\n",
       "      <td>-0.186</td>\n",
       "      <td>-0.220</td>\n",
       "      <td>-0.420</td>\n",
       "      <td>-0.244</td>\n",
       "      <td>0.000</td>\n",
       "      <td>-0.237</td>\n",
       "      <td>0.000</td>\n",
       "    </tr>\n",
       "    <tr>\n",
       "      <th>max</th>\n",
       "      <td>2.011</td>\n",
       "      <td>2.586</td>\n",
       "      <td>1.576</td>\n",
       "      <td>2.010</td>\n",
       "      <td>2.817</td>\n",
       "      <td>3.092</td>\n",
       "      <td>1.443</td>\n",
       "      <td>1.298</td>\n",
       "      <td>1.629</td>\n",
       "      <td>2.900</td>\n",
       "      <td>...</td>\n",
       "      <td>0.000</td>\n",
       "      <td>3.102</td>\n",
       "      <td>4.416</td>\n",
       "      <td>5.385</td>\n",
       "      <td>5.276</td>\n",
       "      <td>3.135</td>\n",
       "      <td>4.999</td>\n",
       "      <td>0.000</td>\n",
       "      <td>5.113</td>\n",
       "      <td>0.000</td>\n",
       "    </tr>\n",
       "  </tbody>\n",
       "</table>\n",
       "<p>8 rows × 69 columns</p>\n",
       "</div>\n",
       "      <button class=\"colab-df-convert\" onclick=\"convertToInteractive('df-1a7127b2-c459-4292-a450-b1df7c666a5a')\"\n",
       "              title=\"Convert this dataframe to an interactive table.\"\n",
       "              style=\"display:none;\">\n",
       "        \n",
       "  <svg xmlns=\"http://www.w3.org/2000/svg\" height=\"24px\"viewBox=\"0 0 24 24\"\n",
       "       width=\"24px\">\n",
       "    <path d=\"M0 0h24v24H0V0z\" fill=\"none\"/>\n",
       "    <path d=\"M18.56 5.44l.94 2.06.94-2.06 2.06-.94-2.06-.94-.94-2.06-.94 2.06-2.06.94zm-11 1L8.5 8.5l.94-2.06 2.06-.94-2.06-.94L8.5 2.5l-.94 2.06-2.06.94zm10 10l.94 2.06.94-2.06 2.06-.94-2.06-.94-.94-2.06-.94 2.06-2.06.94z\"/><path d=\"M17.41 7.96l-1.37-1.37c-.4-.4-.92-.59-1.43-.59-.52 0-1.04.2-1.43.59L10.3 9.45l-7.72 7.72c-.78.78-.78 2.05 0 2.83L4 21.41c.39.39.9.59 1.41.59.51 0 1.02-.2 1.41-.59l7.78-7.78 2.81-2.81c.8-.78.8-2.07 0-2.86zM5.41 20L4 18.59l7.72-7.72 1.47 1.35L5.41 20z\"/>\n",
       "  </svg>\n",
       "      </button>\n",
       "      \n",
       "  <style>\n",
       "    .colab-df-container {\n",
       "      display:flex;\n",
       "      flex-wrap:wrap;\n",
       "      gap: 12px;\n",
       "    }\n",
       "\n",
       "    .colab-df-convert {\n",
       "      background-color: #E8F0FE;\n",
       "      border: none;\n",
       "      border-radius: 50%;\n",
       "      cursor: pointer;\n",
       "      display: none;\n",
       "      fill: #1967D2;\n",
       "      height: 32px;\n",
       "      padding: 0 0 0 0;\n",
       "      width: 32px;\n",
       "    }\n",
       "\n",
       "    .colab-df-convert:hover {\n",
       "      background-color: #E2EBFA;\n",
       "      box-shadow: 0px 1px 2px rgba(60, 64, 67, 0.3), 0px 1px 3px 1px rgba(60, 64, 67, 0.15);\n",
       "      fill: #174EA6;\n",
       "    }\n",
       "\n",
       "    [theme=dark] .colab-df-convert {\n",
       "      background-color: #3B4455;\n",
       "      fill: #D2E3FC;\n",
       "    }\n",
       "\n",
       "    [theme=dark] .colab-df-convert:hover {\n",
       "      background-color: #434B5C;\n",
       "      box-shadow: 0px 1px 3px 1px rgba(0, 0, 0, 0.15);\n",
       "      filter: drop-shadow(0px 1px 2px rgba(0, 0, 0, 0.3));\n",
       "      fill: #FFFFFF;\n",
       "    }\n",
       "  </style>\n",
       "\n",
       "      <script>\n",
       "        const buttonEl =\n",
       "          document.querySelector('#df-1a7127b2-c459-4292-a450-b1df7c666a5a button.colab-df-convert');\n",
       "        buttonEl.style.display =\n",
       "          google.colab.kernel.accessAllowed ? 'block' : 'none';\n",
       "\n",
       "        async function convertToInteractive(key) {\n",
       "          const element = document.querySelector('#df-1a7127b2-c459-4292-a450-b1df7c666a5a');\n",
       "          const dataTable =\n",
       "            await google.colab.kernel.invokeFunction('convertToInteractive',\n",
       "                                                     [key], {});\n",
       "          if (!dataTable) return;\n",
       "\n",
       "          const docLinkHtml = 'Like what you see? Visit the ' +\n",
       "            '<a target=\"_blank\" href=https://colab.research.google.com/notebooks/data_table.ipynb>data table notebook</a>'\n",
       "            + ' to learn more about interactive tables.';\n",
       "          element.innerHTML = '';\n",
       "          dataTable['output_type'] = 'display_data';\n",
       "          await google.colab.output.renderOutput(dataTable, element);\n",
       "          const docLink = document.createElement('div');\n",
       "          docLink.innerHTML = docLinkHtml;\n",
       "          element.appendChild(docLink);\n",
       "        }\n",
       "      </script>\n",
       "    </div>\n",
       "  </div>\n",
       "  "
      ],
      "text/plain": [
       "       child_mlu  percent_child_parents_mlu  child_mluw  \\\n",
       "count     30.000                     30.000      30.000   \n",
       "mean      -0.000                     -0.000       0.000   \n",
       "std        1.017                      1.017       1.017   \n",
       "min       -1.453                     -1.430      -2.185   \n",
       "25%       -1.008                     -0.844      -0.920   \n",
       "50%       -0.010                      0.023       0.094   \n",
       "75%        0.707                      0.646       0.774   \n",
       "max        2.011                      2.586       1.576   \n",
       "\n",
       "       percent_child_parents_mluw  child_ttr  percent_child_parents_ttr  \\\n",
       "count                      30.000     30.000                     30.000   \n",
       "mean                       -0.000     -0.000                     -0.000   \n",
       "std                         1.017      1.017                      1.017   \n",
       "min                        -2.279     -2.564                     -1.973   \n",
       "25%                        -0.870     -0.430                     -0.664   \n",
       "50%                         0.053     -0.115                     -0.204   \n",
       "75%                         0.681      0.216                      0.338   \n",
       "max                         2.010      2.817                      3.092   \n",
       "\n",
       "       child_ipsyn  percent_child_parents_ipsyn  child_num_words  \\\n",
       "count       30.000                       30.000           30.000   \n",
       "mean        -0.000                        0.000           -0.000   \n",
       "std          1.017                        1.017            1.017   \n",
       "min         -1.736                       -1.815           -1.683   \n",
       "25%         -0.843                       -0.871           -0.700   \n",
       "50%          0.207                        0.266           -0.117   \n",
       "75%          0.746                        0.701            0.913   \n",
       "max          1.443                        1.298            1.629   \n",
       "\n",
       "       perct_child_parents_words  ...  pos_percent_sub#n  pos_percent_n:pt  \\\n",
       "count                     30.000  ...             30.000            30.000   \n",
       "mean                      -0.000  ...              0.000             0.000   \n",
       "std                        1.017  ...              0.000             1.017   \n",
       "min                       -1.114  ...              0.000            -0.333   \n",
       "25%                       -0.588  ...              0.000            -0.333   \n",
       "50%                       -0.322  ...              0.000            -0.333   \n",
       "75%                        0.389  ...              0.000            -0.333   \n",
       "max                        2.900  ...              0.000             3.102   \n",
       "\n",
       "       pos_percent_pro:refl  pos_percent_un#part  pos_percent_L2  \\\n",
       "count                30.000               30.000          30.000   \n",
       "mean                 -0.000               -0.000          -0.000   \n",
       "std                   1.017                1.017           1.017   \n",
       "min                  -0.262               -0.186          -0.220   \n",
       "25%                  -0.262               -0.186          -0.220   \n",
       "50%                  -0.262               -0.186          -0.220   \n",
       "75%                  -0.262               -0.186          -0.220   \n",
       "max                   4.416                5.385           5.276   \n",
       "\n",
       "       pos_percent_chi  pos_percent_pro:poss  pos_percent_n:let  \\\n",
       "count           30.000                30.000             30.000   \n",
       "mean            -0.000                 0.000              0.000   \n",
       "std              1.017                 1.017              0.000   \n",
       "min             -0.420                -0.244              0.000   \n",
       "25%             -0.420                -0.244              0.000   \n",
       "50%             -0.420                -0.244              0.000   \n",
       "75%             -0.420                -0.244              0.000   \n",
       "max              3.135                 4.999              0.000   \n",
       "\n",
       "       pos_percent_bab  pos_percent_sing  \n",
       "count           30.000            30.000  \n",
       "mean             0.000             0.000  \n",
       "std              1.017             0.000  \n",
       "min             -0.237             0.000  \n",
       "25%             -0.237             0.000  \n",
       "50%             -0.237             0.000  \n",
       "75%             -0.237             0.000  \n",
       "max              5.113             0.000  \n",
       "\n",
       "[8 rows x 69 columns]"
      ]
     },
     "metadata": {},
     "output_type": "display_data"
    }
   ],
   "source": [
    "# inspect statistics\n",
    "display(\"X_train\", X_train.describe(), \"X_train_scaled\", X_train_scaled.describe())"
   ]
  },
  {
   "cell_type": "markdown",
   "id": "c36cf823-ee69-4afa-a430-dc809bd263b6",
   "metadata": {
    "id": "c36cf823-ee69-4afa-a430-dc809bd263b6"
   },
   "source": [
    "## 8.4 - Discretizing"
   ]
  },
  {
   "cell_type": "code",
   "execution_count": null,
   "id": "2fec98c8-db17-4abc-a24e-0b57726b6711",
   "metadata": {
    "id": "2fec98c8-db17-4abc-a24e-0b57726b6711"
   },
   "outputs": [],
   "source": [
    "# TO-DO"
   ]
  },
  {
   "cell_type": "markdown",
   "id": "69006d8f-a1eb-4ae6-aa01-f60bb4ecfd1d",
   "metadata": {
    "id": "69006d8f-a1eb-4ae6-aa01-f60bb4ecfd1d"
   },
   "source": [
    "## 8.5 - Categorical encoding"
   ]
  },
  {
   "cell_type": "code",
   "execution_count": null,
   "id": "b596036e-34f3-4d44-85a2-2b01a0d196d7",
   "metadata": {
    "id": "b596036e-34f3-4d44-85a2-2b01a0d196d7"
   },
   "outputs": [],
   "source": [
    "# TO-DO"
   ]
  },
  {
   "cell_type": "markdown",
   "id": "803cccee-e385-4233-96dc-000a3d700055",
   "metadata": {
    "id": "803cccee-e385-4233-96dc-000a3d700055"
   },
   "source": [
    "## 8.6 - Time-cyclic variables"
   ]
  },
  {
   "cell_type": "code",
   "execution_count": null,
   "id": "cb31afca-dd5d-4ba5-a9a5-bfda6581d119",
   "metadata": {
    "id": "cb31afca-dd5d-4ba5-a9a5-bfda6581d119"
   },
   "outputs": [],
   "source": [
    "# TO-DO"
   ]
  },
  {
   "cell_type": "markdown",
   "id": "be7d3971-e833-4d77-826d-5b5f1e9577e1",
   "metadata": {
    "id": "be7d3971-e833-4d77-826d-5b5f1e9577e1"
   },
   "source": [
    "## 8.7 - Response Variable Transformation"
   ]
  },
  {
   "cell_type": "code",
   "execution_count": null,
   "id": "edde216a-bdd1-40c8-b845-bfa071c717d5",
   "metadata": {
    "id": "edde216a-bdd1-40c8-b845-bfa071c717d5"
   },
   "outputs": [],
   "source": [
    "# TO-DO"
   ]
  },
  {
   "cell_type": "markdown",
   "id": "5b6c368b-f121-4435-af4a-35443eaefaea",
   "metadata": {
    "id": "5b6c368b-f121-4435-af4a-35443eaefaea"
   },
   "source": [
    "## 8.8 - Cyclic time variables transformation"
   ]
  },
  {
   "cell_type": "code",
   "execution_count": null,
   "id": "1cb0b67f-ab13-4ea2-a50c-6e1dbd5484c5",
   "metadata": {
    "id": "1cb0b67f-ab13-4ea2-a50c-6e1dbd5484c5"
   },
   "outputs": [],
   "source": [
    "# TO-DO"
   ]
  },
  {
   "cell_type": "markdown",
   "id": "588e7283-4f58-4f67-8df7-16bb365b1d52",
   "metadata": {
    "id": "588e7283-4f58-4f67-8df7-16bb365b1d52"
   },
   "source": [
    "## 8.9 - sklearn.pipelines"
   ]
  },
  {
   "cell_type": "code",
   "execution_count": null,
   "id": "240fc558-49ec-4039-9cad-ceb3807eb396",
   "metadata": {
    "id": "240fc558-49ec-4039-9cad-ceb3807eb396"
   },
   "outputs": [],
   "source": [
    "# TO-DO"
   ]
  },
  {
   "cell_type": "markdown",
   "id": "a14f2e77-fd3d-4646-947b-cd94f7f35c62",
   "metadata": {
    "id": "a14f2e77-fd3d-4646-947b-cd94f7f35c62"
   },
   "source": [
    "## 8.10 - Final check"
   ]
  },
  {
   "cell_type": "code",
   "execution_count": null,
   "id": "770fb098-fd43-4fd3-9f20-479f6486d583",
   "metadata": {
    "id": "770fb098-fd43-4fd3-9f20-479f6486d583"
   },
   "outputs": [],
   "source": [
    "# TO-DO"
   ]
  },
  {
   "cell_type": "markdown",
   "id": "5ceb412f-4110-4f90-909e-1278e7eb3772",
   "metadata": {
    "id": "5ceb412f-4110-4f90-909e-1278e7eb3772"
   },
   "source": [
    "# 9 - Metrics"
   ]
  },
  {
   "cell_type": "markdown",
   "id": "c97dd7e0-4f43-46a4-968c-c921b5bb75f6",
   "metadata": {
    "id": "c97dd7e0-4f43-46a4-968c-c921b5bb75f6"
   },
   "source": [
    "*What will be the model output?* \n",
    "- Label or probability?"
   ]
  },
  {
   "cell_type": "markdown",
   "id": "631635f9-1cc5-4b41-8733-a71bc8cb1c9b",
   "metadata": {
    "id": "631635f9-1cc5-4b41-8733-a71bc8cb1c9b"
   },
   "source": [
    "*What will be the main model metric? And the auxiliary metrics?*\n",
    "- Accuracy\n",
    "- Recall\n",
    "- Precision\n",
    "- F1-score\n",
    "- ROC-AUC\n",
    "- Precision-recall AUC\n",
    "- Cross Entropy (log-loss)\n",
    "- confusion matrix"
   ]
  },
  {
   "cell_type": "code",
   "execution_count": null,
   "id": "7c99876b-6daf-4bd2-be4d-181eec1ede1f",
   "metadata": {
    "id": "7c99876b-6daf-4bd2-be4d-181eec1ede1f"
   },
   "outputs": [],
   "source": [
    "# TO-DO"
   ]
  },
  {
   "cell_type": "markdown",
   "id": "3d947c95-2cec-46ab-babc-314ec66a3a9f",
   "metadata": {
    "id": "3d947c95-2cec-46ab-babc-314ec66a3a9f"
   },
   "source": [
    "# 10 - Feature Selection"
   ]
  },
  {
   "cell_type": "markdown",
   "id": "c2418583-4477-4e72-8f50-6daa24fbd076",
   "metadata": {
    "id": "c2418583-4477-4e72-8f50-6daa24fbd076"
   },
   "source": [
    "*Select features for modelling*"
   ]
  },
  {
   "cell_type": "markdown",
   "id": "c2a735c8-3104-40ed-aae5-e6920188099d",
   "metadata": {
    "id": "c2a735c8-3104-40ed-aae5-e6920188099d"
   },
   "source": [
    "## 10.1 - Feature coefficients"
   ]
  },
  {
   "cell_type": "code",
   "execution_count": null,
   "id": "285382b0-e60c-4f09-bab0-37d57dac1ff1",
   "metadata": {
    "colab": {
     "base_uri": "https://localhost:8080/"
    },
    "id": "285382b0-e60c-4f09-bab0-37d57dac1ff1",
    "outputId": "37fb2e9e-d2bb-4de3-ba1d-377e2a8ac06d"
   },
   "outputs": [
    {
     "data": {
      "text/plain": [
       "LogisticRegression(max_iter=1000, n_jobs=-1)"
      ]
     },
     "execution_count": 57,
     "metadata": {},
     "output_type": "execute_result"
    }
   ],
   "source": [
    "# instanciate LR\n",
    "lr = LogisticRegression(n_jobs=-1, max_iter=1000)\n",
    "\n",
    "# fit model to data\n",
    "lr.fit(X_train, y_train)"
   ]
  },
  {
   "cell_type": "code",
   "execution_count": null,
   "id": "VJiGfLKkcqda",
   "metadata": {
    "colab": {
     "base_uri": "https://localhost:8080/",
     "height": 894
    },
    "id": "VJiGfLKkcqda",
    "outputId": "7b2c3a1a-10e1-4070-b339-ec794b38820e"
   },
   "outputs": [
    {
     "data": {
      "image/png": "[encoded data removed]",
      "text/plain": [
       "<Figure size 720x1080 with 1 Axes>"
      ]
     },
     "metadata": {
      "needs_background": "light"
     },
     "output_type": "display_data"
    }
   ],
   "source": [
    "# create a dataframe with feature importances\n",
    "df_f_coef = pd.DataFrame(data=lr.coef_, columns=X_train.columns).T\n",
    "# reset index and rename column\n",
    "df_f_coef = df_f_coef.reset_index()\n",
    "df_f_coef = df_f_coef.rename(columns={\"index\":\"features\", 0:\"feature_coef\"})\n",
    "# create a new column with absolute value of coef\n",
    "df_f_coef[\"abs_coef\"] = df_f_coef[\"feature_coef\"].apply(lambda x: abs(x))\n",
    "# define column names\n",
    "df_f_coef = df_f_coef.sort_values(by=\"feature_coef\", ascending=False, ignore_index=True)\n",
    "\n",
    "# define figure size\n",
    "fig = plt.figure(figsize=(10, 15))\n",
    "\n",
    "# plot\n",
    "sns.barplot(data=df_f_coef, x=\"feature_coef\", y=\"features\")\n",
    "# define details\n",
    "plt.title(\"Feature importance according to Logistic Regression\", loc=\"center\")\n",
    "plt.axvline(-0.1, linestyle=\":\", color=\"black\")\n",
    "plt.axvline(0.1, linestyle=\":\", color=\"black\")\n",
    "plt.show()"
   ]
  },
  {
   "cell_type": "code",
   "execution_count": null,
   "id": "Z0ZFLSoBd-lM",
   "metadata": {
    "colab": {
     "base_uri": "https://localhost:8080/"
    },
    "id": "Z0ZFLSoBd-lM",
    "outputId": "38d174f5-e050-4f46-d9ad-af9f8a3fd2e6"
   },
   "outputs": [
    {
     "data": {
      "text/plain": [
       "['child_mluw',\n",
       " 'pos_percent_nan',\n",
       " 'perct_child_parents_utterances',\n",
       " 'percent_child_parents_ttr',\n",
       " 'child_ttr']"
      ]
     },
     "execution_count": 59,
     "metadata": {},
     "output_type": "execute_result"
    }
   ],
   "source": [
    "# get features whose abs coef is > 0.1\n",
    "f_selected_lr = df_f_coef.loc[df_f_coef[\"abs_coef\"] > 0.1, \"features\"].tolist()\n",
    "f_selected_lr"
   ]
  },
  {
   "cell_type": "markdown",
   "id": "8aeb1a4f-aeab-4bd0-919f-18f2c049e547",
   "metadata": {
    "id": "8aeb1a4f-aeab-4bd0-919f-18f2c049e547"
   },
   "source": [
    "## 10.2 - Feature importance"
   ]
  },
  {
   "cell_type": "code",
   "execution_count": null,
   "id": "cdefa8b2-93a3-4089-a56d-c84a5901fa2d",
   "metadata": {
    "colab": {
     "base_uri": "https://localhost:8080/"
    },
    "id": "cdefa8b2-93a3-4089-a56d-c84a5901fa2d",
    "outputId": "d89ceb6d-9e82-433b-edc9-e5244b031700"
   },
   "outputs": [
    {
     "data": {
      "text/plain": [
       "RandomForestClassifier(n_jobs=-1)"
      ]
     },
     "execution_count": 60,
     "metadata": {},
     "output_type": "execute_result"
    }
   ],
   "source": [
    "# define model\n",
    "rf = RandomForestClassifier(n_estimators=100, n_jobs=-1, class_weight=None)\n",
    "\n",
    "# fit model to data\n",
    "rf.fit(X_train, y_train)"
   ]
  },
  {
   "cell_type": "code",
   "execution_count": null,
   "id": "KnvnV66_admB",
   "metadata": {
    "colab": {
     "base_uri": "https://localhost:8080/",
     "height": 894
    },
    "id": "KnvnV66_admB",
    "outputId": "d901343b-50aa-4a3d-e461-cbb56fd2e97f"
   },
   "outputs": [
    {
     "data": {
      "image/png": "[encoded data removed]",
      "text/plain": [
       "<Figure size 720x1080 with 1 Axes>"
      ]
     },
     "metadata": {
      "needs_background": "light"
     },
     "output_type": "display_data"
    }
   ],
   "source": [
    "# create a dataframe with feature importances\n",
    "df_f_importance = pd.DataFrame(data=rf.feature_importances_, index=X_train.columns)\n",
    "# reset index and rename column\n",
    "df_f_importance = df_f_importance.reset_index()\n",
    "df_f_importance = df_f_importance.rename(columns={\"index\":\"features\", 0:\"feature_importance\"})\n",
    "# define column names\n",
    "df_f_importance = df_f_importance.sort_values(by=\"feature_importance\", ascending=False)\n",
    "\n",
    "# define figure size\n",
    "fig = plt.figure(figsize=(10, 15))\n",
    "\n",
    "# plot\n",
    "sns.barplot(data=df_f_importance, x=\"feature_importance\", y=\"features\")\n",
    "# define details\n",
    "plt.title(\"Feature importance according to Random Forest\", loc=\"center\")\n",
    "plt.axvline(0.03, linestyle=\":\", color=\"black\")\n",
    "plt.show()"
   ]
  },
  {
   "cell_type": "code",
   "execution_count": null,
   "id": "5hczqSXFfIR1",
   "metadata": {
    "colab": {
     "base_uri": "https://localhost:8080/"
    },
    "id": "5hczqSXFfIR1",
    "outputId": "a678a71e-847a-44f4-8e6b-ce3ee9a7fb7f"
   },
   "outputs": [
    {
     "data": {
      "text/plain": [
       "['pos_percent_det:num',\n",
       " 'child_ttr',\n",
       " 'perct_child_parents_words',\n",
       " 'pos_percent_?',\n",
       " 'child_mlu',\n",
       " 'child_num_unique_words',\n",
       " 'perct_child_parents_utterances',\n",
       " 'perct_child_parents_tokens']"
      ]
     },
     "execution_count": 62,
     "metadata": {},
     "output_type": "execute_result"
    }
   ],
   "source": [
    "# get features whose feature_importance is > 0.03\n",
    "f_selected_rf = df_f_importance.loc[df_f_importance[\"feature_importance\"] > 0.03, \"features\"].tolist()\n",
    "f_selected_rf"
   ]
  },
  {
   "cell_type": "markdown",
   "id": "cea71bbf-55c8-48d8-b502-957ae0a89ded",
   "metadata": {
    "id": "cea71bbf-55c8-48d8-b502-957ae0a89ded"
   },
   "source": [
    "## 10.3 - Buruta algorithm"
   ]
  },
  {
   "cell_type": "code",
   "execution_count": null,
   "id": "8afCenPLX8Cd",
   "metadata": {
    "colab": {
     "base_uri": "https://localhost:8080/"
    },
    "id": "8afCenPLX8Cd",
    "outputId": "5f80eaac-55e7-4b2b-8d20-6f33f608be07"
   },
   "outputs": [
    {
     "name": "stdout",
     "output_type": "stream",
     "text": [
      "Looking in indexes: https://pypi.org/simple, https://us-python.pkg.dev/colab-wheels/public/simple/\n",
      "Collecting Boruta\n",
      "  Downloading Boruta-0.3-py3-none-any.whl (56 kB)\n",
      "\u001b[2K     \u001b[90m━━━━━━━━━━━━━━━━━━━━━━━━━━━━━━━━━━━━━━━━\u001b[0m \u001b[32m56.6/56.6 KB\u001b[0m \u001b[31m2.1 MB/s\u001b[0m eta \u001b[36m0:00:00\u001b[0m\n",
      "\u001b[?25hRequirement already satisfied: scipy>=0.17.0 in /usr/local/lib/python3.8/dist-packages (from Boruta) (1.7.3)\n",
      "Requirement already satisfied: numpy>=1.10.4 in /usr/local/lib/python3.8/dist-packages (from Boruta) (1.21.6)\n",
      "Requirement already satisfied: scikit-learn>=0.17.1 in /usr/local/lib/python3.8/dist-packages (from Boruta) (1.0.2)\n",
      "Requirement already satisfied: threadpoolctl>=2.0.0 in /usr/local/lib/python3.8/dist-packages (from scikit-learn>=0.17.1->Boruta) (3.1.0)\n",
      "Requirement already satisfied: joblib>=0.11 in /usr/local/lib/python3.8/dist-packages (from scikit-learn>=0.17.1->Boruta) (1.2.0)\n",
      "Installing collected packages: Boruta\n",
      "Successfully installed Boruta-0.3\n"
     ]
    }
   ],
   "source": [
    "# install boruta\n",
    "!pip install Boruta"
   ]
  },
  {
   "cell_type": "code",
   "execution_count": null,
   "id": "dcde15d8-5020-434b-82dd-b74f3bd49c32",
   "metadata": {
    "colab": {
     "base_uri": "https://localhost:8080/"
    },
    "id": "dcde15d8-5020-434b-82dd-b74f3bd49c32",
    "outputId": "690b6a4f-71ab-4a8c-cd5b-db5c4a5f1a20"
   },
   "outputs": [
    {
     "name": "stdout",
     "output_type": "stream",
     "text": [
      "\n",
      "*************************************************\n",
      "\n",
      "Number of selected features: 0\n",
      "\n",
      "*************************************************\n",
      "\n"
     ]
    }
   ],
   "source": [
    "# import required libraries\n",
    "from boruta import BorutaPy\n",
    "\n",
    "# define model\n",
    "rf = RandomForestClassifier(n_estimators=100, n_jobs=-1, class_weight=None)\n",
    "\n",
    "# define Boruta feature selection method\n",
    "feat_selector = BorutaPy(rf, n_estimators='auto', verbose=0, random_state=seed)\n",
    "\n",
    "# find all relevant features - 5 features should be selected\n",
    "feat_selector.fit(X_train.values, y_train.values)\n",
    "\n",
    "# get number of selected features\n",
    "print(\n",
    "    f\"\\n{'*'*49}\\n\\n\"\n",
    "    f\"Number of selected features: {feat_selector.n_features_}\"\n",
    "    f\"\\n\\n{'*'*49}\\n\"\n",
    ")"
   ]
  },
  {
   "cell_type": "markdown",
   "id": "hY6CtouO0pI7",
   "metadata": {
    "id": "hY6CtouO0pI7"
   },
   "source": [
    "## 10.4 - Mutual Information"
   ]
  },
  {
   "cell_type": "code",
   "execution_count": null,
   "id": "vE00YvHP0n6A",
   "metadata": {
    "colab": {
     "base_uri": "https://localhost:8080/",
     "height": 879
    },
    "id": "vE00YvHP0n6A",
    "outputId": "b3409ccc-2652-4f5c-bbe1-755805c931b5"
   },
   "outputs": [
    {
     "data": {
      "image/png": "[encoded data removed]",
      "text/plain": [
       "<Figure size 720x1080 with 1 Axes>"
      ]
     },
     "metadata": {
      "needs_background": "light"
     },
     "output_type": "display_data"
    }
   ],
   "source": [
    "# calculate mutual information between features and target\n",
    "mutual_info = mutual_info_classif(X_train, y_train)\n",
    "\n",
    "# create a series from mutual information\n",
    "mutual_info_series = pd.Series(mutual_info)\n",
    "# add column labels as index\n",
    "mutual_info_series.index=X_train.columns\n",
    "# sort in descending order\n",
    "mutual_info_series = mutual_info_series.sort_values(ascending=False)\n",
    "\n",
    "# define figure size\n",
    "fig = plt.figure(figsize=(10, 15))\n",
    "\n",
    "# plot\n",
    "sns.barplot(y=mutual_info_series.index, x=mutual_info_series)\n",
    "# define details\n",
    "plt.title(\"Mutual information per feature\", loc=\"center\")\n",
    "plt.axvline(0.08, linestyle=\":\", color=\"black\")\n",
    "plt.show()"
   ]
  },
  {
   "cell_type": "code",
   "execution_count": null,
   "id": "uXopF_wYgKjg",
   "metadata": {
    "colab": {
     "base_uri": "https://localhost:8080/"
    },
    "id": "uXopF_wYgKjg",
    "outputId": "06ea9d7c-567f-4593-8fe8-1692a96c06c0"
   },
   "outputs": [
    {
     "data": {
      "text/plain": [
       "['pos_percent_det:num',\n",
       " 'pos_percent_pro:exist',\n",
       " 'child_utterances',\n",
       " 'perct_child_parents_utterances',\n",
       " 'pos_percent_adv:tem',\n",
       " 'pos_percent_sing',\n",
       " 'child_ttr',\n",
       " 'pos_percent_?',\n",
       " 'child_num_words',\n",
       " 'pos_percent_mid#n',\n",
       " 'pos_percent_pro:poss',\n",
       " 'pos_percent_pro:int']"
      ]
     },
     "execution_count": 66,
     "metadata": {},
     "output_type": "execute_result"
    }
   ],
   "source": [
    "# get features whose mutual_info_series > 0.075\n",
    "f_selected_mi = mutual_info_series[mutual_info_series > 0.08].index.tolist()\n",
    "f_selected_mi"
   ]
  },
  {
   "cell_type": "markdown",
   "id": "XN0nV9M7iTwn",
   "metadata": {
    "id": "XN0nV9M7iTwn"
   },
   "source": [
    "## 10.5 - Final feaures"
   ]
  },
  {
   "cell_type": "code",
   "execution_count": null,
   "id": "rNy64-8AiXSP",
   "metadata": {
    "colab": {
     "base_uri": "https://localhost:8080/"
    },
    "id": "rNy64-8AiXSP",
    "outputId": "9ab0f313-b4f5-4fd1-de10-f4856c515fbe"
   },
   "outputs": [
    {
     "name": "stdout",
     "output_type": "stream",
     "text": [
      "\n",
      "*************************************************\n",
      "\n",
      "Number of feature with OR statement between feature selection methods: 19\n",
      "\n",
      "*************************************************\n",
      "\n",
      "Number of feature with AND statement between feature selection methods: 2\n",
      "Selected features are: ['child_ttr', 'perct_child_parents_utterances']\n",
      "\n",
      "*************************************************\n",
      "\n"
     ]
    }
   ],
   "source": [
    "# define feature with OR statement\n",
    "f_or = list((set(f_selected_mi + f_selected_rf + f_selected_lr)))\n",
    "# print report\n",
    "print(\n",
    "    f'\\n{\"*\"*49}\\n\\n'\n",
    "    f'Number of feature with OR statement between feature selection methods: {len(f_or)}\\n'\n",
    ")\n",
    "\n",
    "# define feature with OR statement\n",
    "f_and = list(set(f_selected_mi) & set(f_selected_rf) & set(f_selected_lr))\n",
    "# print report\n",
    "print(\n",
    "    f'{\"*\"*49}\\n\\n'\n",
    "    f'Number of feature with AND statement between feature selection methods: {len(f_and)}\\n'\n",
    "    f'Selected features are: {f_and}'\n",
    "    f'\\n\\n{\"*\"*49}\\n'\n",
    ")"
   ]
  },
  {
   "cell_type": "markdown",
   "id": "Pyludt2OIf8P",
   "metadata": {
    "id": "Pyludt2OIf8P"
   },
   "source": [
    "# 11 - Modelling"
   ]
  },
  {
   "cell_type": "markdown",
   "id": "2883f546-fadd-4a99-be81-5b6876dd454f",
   "metadata": {
    "id": "2883f546-fadd-4a99-be81-5b6876dd454f"
   },
   "source": [
    "## 11.1 - Dummy model"
   ]
  },
  {
   "cell_type": "markdown",
   "id": "7f6236d6-bb22-4505-ad3b-2dfbefaf1ad6",
   "metadata": {
    "id": "7f6236d6-bb22-4505-ad3b-2dfbefaf1ad6"
   },
   "source": [
    "*The easiest model without any coding*"
   ]
  },
  {
   "cell_type": "markdown",
   "id": "5f781061-9519-4ab5-9519-ec2821e94278",
   "metadata": {
    "id": "5f781061-9519-4ab5-9519-ec2821e94278"
   },
   "source": [
    "## 11.2 - Baseline model"
   ]
  },
  {
   "cell_type": "markdown",
   "id": "6d0c39ac-4691-4729-aacd-f881ae933225",
   "metadata": {
    "id": "6d0c39ac-4691-4729-aacd-f881ae933225"
   },
   "source": [
    "*The fastest model to build*"
   ]
  },
  {
   "cell_type": "code",
   "execution_count": null,
   "id": "92df00d1-cfd4-423b-bc67-518b5db4e62f",
   "metadata": {
    "id": "92df00d1-cfd4-423b-bc67-518b5db4e62f"
   },
   "outputs": [],
   "source": [
    "# TO-DO"
   ]
  },
  {
   "cell_type": "markdown",
   "id": "0ab1f97b-de15-41a3-b779-2047cab5fcb6",
   "metadata": {
    "id": "0ab1f97b-de15-41a3-b779-2047cab5fcb6"
   },
   "source": [
    "## 11.3 - Best model"
   ]
  },
  {
   "cell_type": "markdown",
   "id": "2001d4b8-947b-4fe9-aa6a-54d3fa6ea77a",
   "metadata": {
    "id": "2001d4b8-947b-4fe9-aa6a-54d3fa6ea77a"
   },
   "source": [
    "*The best model of all*"
   ]
  },
  {
   "cell_type": "code",
   "execution_count": null,
   "id": "14adb39c-05ea-4bf8-8306-db33cb12562f",
   "metadata": {
    "id": "14adb39c-05ea-4bf8-8306-db33cb12562f"
   },
   "outputs": [],
   "source": [
    "# TO-DO"
   ]
  },
  {
   "cell_type": "markdown",
   "id": "3be1b21e-5616-4337-bbc7-e8cccf4cdf65",
   "metadata": {
    "id": "3be1b21e-5616-4337-bbc7-e8cccf4cdf65"
   },
   "source": [
    "# 12 - Hyper-parameter tuning"
   ]
  },
  {
   "cell_type": "markdown",
   "id": "b3a6998a-17b0-4a18-95ca-cf8858760224",
   "metadata": {
    "id": "b3a6998a-17b0-4a18-95ca-cf8858760224"
   },
   "source": [
    "*Find out the best hyper-parameters for the ML models*"
   ]
  },
  {
   "cell_type": "markdown",
   "id": "443ba924-01fa-4827-834b-a071b2eab686",
   "metadata": {
    "id": "443ba924-01fa-4827-834b-a071b2eab686"
   },
   "source": [
    "*What strategy to use*\n",
    "- Grid Search\n",
    "- Random search\n",
    "- Bayesian search\n",
    "- Optuna"
   ]
  },
  {
   "cell_type": "markdown",
   "id": "661330c4-6161-4274-b64e-2ee28c2598a2",
   "metadata": {
    "id": "661330c4-6161-4274-b64e-2ee28c2598a2"
   },
   "source": [
    "*How ot keep track of model performances?*\n",
    "- mlflow"
   ]
  },
  {
   "cell_type": "code",
   "execution_count": null,
   "id": "cddfb773-f38e-4aa0-b009-f5da9ad55ee7",
   "metadata": {
    "id": "cddfb773-f38e-4aa0-b009-f5da9ad55ee7"
   },
   "outputs": [],
   "source": [
    "# TO-DO"
   ]
  },
  {
   "cell_type": "markdown",
   "id": "b3b1a043-43a4-42d5-9ad9-2d7a01e2f7df",
   "metadata": {
    "id": "b3b1a043-43a4-42d5-9ad9-2d7a01e2f7df"
   },
   "source": [
    "# 13 - Error Analysis"
   ]
  },
  {
   "cell_type": "markdown",
   "id": "241ac66b-4015-4fa2-a2f4-c8f4567b6b74",
   "metadata": {
    "id": "241ac66b-4015-4fa2-a2f4-c8f4567b6b74"
   },
   "source": [
    "*Perform error analysis to check model performance*"
   ]
  },
  {
   "cell_type": "markdown",
   "id": "65162d91-bd44-4df5-96e2-b7185e8aabc9",
   "metadata": {
    "id": "65162d91-bd44-4df5-96e2-b7185e8aabc9"
   },
   "source": [
    "## 13.1 - Cross-validation"
   ]
  },
  {
   "cell_type": "code",
   "execution_count": null,
   "id": "aa816705-ff8f-4be8-8170-9c842194c95f",
   "metadata": {
    "id": "aa816705-ff8f-4be8-8170-9c842194c95f"
   },
   "outputs": [],
   "source": [
    "# TO-DO"
   ]
  },
  {
   "cell_type": "code",
   "execution_count": null,
   "id": "LG6XHx27rt3h",
   "metadata": {
    "id": "LG6XHx27rt3h"
   },
   "outputs": [],
   "source": [
    "def get_class_metrics(model, y_true, y_pred, y_pred_proba):\n",
    "    \"\"\"Get basic classification metrics.\n",
    "    \n",
    "    Args\n",
    "        model: the machine learning model\n",
    "        y_true: true label for the samples\n",
    "        y_pred: predicted classes for the samples (model.predict)\n",
    "        y_pred_proba: predicted probability for the samples (model.predict_proba)\n",
    "\n",
    "    Return\n",
    "        tuple with accuracy, precision, recall, f1, roc-auc, precision-recall-auc scores\n",
    "    \n",
    "    \"\"\"\n",
    "\n",
    "    # get threshold dependent metrics for the given model\n",
    "    accuracy = accuracy_score(y_true, y_pred)\n",
    "    precision = precision_score(y_true, y_pred, zero_division=0)\n",
    "    recall = recall_score(y_true, y_pred)\n",
    "    f1 = f1_score(y_true, y_pred)\n",
    "\n",
    "    # get probability dependent metrics for the given model\n",
    "    roc_auc = roc_auc_score(y_true, y_pred_proba)\n",
    "    precision_, recall_, thresholds = precision_recall_curve(y_true, y_pred_proba)\n",
    "    precision_recall_auc = auc(recall_, precision_)\n",
    "    log_loss_ = log_loss(y_true, y_pred_proba)\n",
    "\n",
    "    return accuracy, precision, recall, f1, roc_auc, precision_recall_auc, log_loss_"
   ]
  },
  {
   "cell_type": "code",
   "execution_count": null,
   "id": "lBSBXs8TrWDV",
   "metadata": {
    "colab": {
     "base_uri": "https://localhost:8080/"
    },
    "id": "lBSBXs8TrWDV",
    "outputId": "a0cca536-d1e2-42f3-d1a5-0db4929ed491"
   },
   "outputs": [
    {
     "name": "stdout",
     "output_type": "stream",
     "text": [
      "Number of leave 2 out splits: 435\n",
      "Number of leave 1 out splits: 30\n"
     ]
    }
   ],
   "source": [
    "# instanciate Leave 2 Out object\n",
    "lpo = LeavePOut(2)\n",
    "\n",
    "# print information\n",
    "print(f'Number of leave 2 out splits: {len([True for _ in lpo.split(X_train_scaled)])}')\n",
    "\n",
    "# instanciate Leave P Out object\n",
    "lpo = LeavePOut(1)\n",
    "\n",
    "# print information\n",
    "print(f'Number of leave 1 out splits: {len([True for _ in lpo.split(X_train_scaled)])}')"
   ]
  },
  {
   "cell_type": "code",
   "execution_count": null,
   "id": "67qfHiIfT_YD",
   "metadata": {
    "id": "67qfHiIfT_YD"
   },
   "outputs": [],
   "source": [
    "# # define dict to store metrics\n",
    "# df_metrics = pd.DataFrame()\n",
    "\n",
    "# # define possible features\n",
    "# f_selected_mi\n",
    "# f_selected_rf\n",
    "# f_selected_lr\n",
    "# f_or = list((set(f_selected_mi + f_selected_rf + f_selected_lr)))\n",
    "# f_and = list(set(f_selected_mi) & set(f_selected_rf) & set(f_selected_lr))\n",
    "\n",
    "# # define default models to test\n",
    "# dummy = DummyClassifier(strategy=\"most_frequent\", random_state=seed)\n",
    "# lr = LogisticRegression(n_jobs=-1, max_iter=1000, random_state=seed)\n",
    "# svm = SVC(probability=True, max_iter=1000, random_state=seed)\n",
    "# bayes = BernoulliNB()\n",
    "# knn = KNeighborsClassifier(n_jobs=-1)\n",
    "# rf = RandomForestClassifier(n_jobs=-1, random_state=seed)\n",
    "# lgbm = LGBMClassifier(n_jobs=-1, random_state=seed)\n",
    "# catboost = CatBoostClassifier(random_seed=seed, verbose=False)\n",
    "\n",
    "# # iterate over possible feature combinations\n",
    "# for selected_features, selected_features_label in zip(\n",
    "#     # available features selected\n",
    "#     [f_selected_mi, f_selected_rf  , f_selected_lr , f_or, f_and],\n",
    "#     # features selected labels\n",
    "#     [\"Mutual Info\", \"Random Forest\", \"Logistic Reg\",  \"OR\", \"AND\"]\n",
    "#     ):\n",
    "\n",
    "#     # filter training dataframe given the selected features\n",
    "#     X_train_scaled_f_selected = X_train_scaled[selected_features]\n",
    "\n",
    "#     # sanity check\n",
    "#     assert X_train_scaled_f_selected.shape[1] == len(selected_features), \"Error of feature selection filtering\"\n",
    "\n",
    "#     # instanciate Leave P Out object\n",
    "#     lpo = LeavePOut(2)\n",
    "\n",
    "#     # iterate over models and labels\n",
    "#     for ml_model, ml_label in zip(\n",
    "#         # available models will be the \"model\" iterator\n",
    "#         [ dummy ,  lr  ,  svm  ,  bayes  ,  knn  ,  rf  ,  lgbm , catboost ],\n",
    "#         # available labels will be \"label\" iterator\n",
    "#         [\"Dummy\", \"lr\" , \"svm\" , \"bayes\" , \"knn\" , \"rf\" , \"lgbm\", \"catboost\" ] \n",
    "#     ):\n",
    "\n",
    "#         # iterate over synthetic data generation models and their labels\n",
    "#         for synthetic_data_model, data_label in zip(\n",
    "#             # available models will be the \"model\" iterator\n",
    "#             [  None  , SMOTE(random_state=0, n_jobs=-1), ADASYN(random_state=0, n_jobs=-1), TomekLinks(n_jobs=-1), NearMiss(n_jobs=-1), RandomOverSampler(random_state=seed)],\n",
    "#             # available labels will be \"label\" iterator\n",
    "#             [\"Normal\",       \"SMOTE\"                   ,       \"ADASYN\"                   ,       \"Tomek\"        ,      \"NearMiss\"    ,         \"RandomOverSampling\"        ]\n",
    "#         ):\n",
    "\n",
    "#             # print report\n",
    "#             print(\n",
    "#                 f'Performing Leave2Out validation for {ml_label.upper()} model on {data_label.upper()} data with {selected_features_label.upper()} features...'\n",
    "#             )\n",
    "\n",
    "#             # get metrics for leave 2 out validation\n",
    "#             metrics_p_out = {\n",
    "#                 \"accuracy\": [],\n",
    "#                 \"precision\": [],\n",
    "#                 \"recall\": [],\n",
    "#                 \"f1\": [],\n",
    "#                 \"roc_auc\": [], \n",
    "#                 \"pr_auc\": []\n",
    "#                 }\n",
    "\n",
    "#             # iterate over leave 2 out splits\n",
    "#             for train_index, val_index in lpo.split(X_train_scaled_f_selected):\n",
    "#                 # sanity check\n",
    "#                 assert len(set(train_index).intersection(set(val_index))) == 0, \"Overlapping train and validation index!\"\n",
    "\n",
    "#                 # ===============================================================\n",
    "#                 # for the two validation samples, \n",
    "#                 # we will always use splits that have 1 ASD and another 1 non-ASD\n",
    "#                 # ---> sum of y values in validation must be 1\n",
    "#                 # ---> otherwise both are ASD or both are non-ASD\n",
    "#                 # ===============================================================\n",
    "\n",
    "#                 # check if all are ASD or all are non-ASD\n",
    "#                 if y_train[val_index].sum() != 1: \n",
    "#                     # skip to the next iteration\n",
    "#                     continue\n",
    "#                 # one is ASD and the other is non-ASD\n",
    "#                 else:\n",
    "#                     # get train and validation samples\n",
    "#                     X_train_p = X_train_scaled_f_selected.iloc[train_index, :]\n",
    "#                     X_val_p   = X_train_scaled_f_selected.iloc[ val_index , :]\n",
    "#                     y_train_p = y_train.iloc[train_index]\n",
    "#                     y_val_p   = y_train.iloc[ val_index ]\n",
    "\n",
    "#                 # check if we will use synthetic data\n",
    "#                 if data_label == \"Normal\":\n",
    "#                     # keep data as it is\n",
    "#                     X_train_modelling, y_train_modelling = X_train_p.copy(), y_train_p.copy()\n",
    "#                 # we will not use normal data\n",
    "#                 else:\n",
    "#                     # create modelling data\n",
    "#                     X_train_modelling, y_train_modelling = synthetic_data_model.fit_resample(X_train_p.copy(), y_train_p.copy())\n",
    "\n",
    "#                 # fit model to data\n",
    "#                 ml_model.fit(X_train_modelling, y_train_modelling)\n",
    "\n",
    "#                 # get classification metrics\n",
    "#                 accuracy, precision, recall, f1, roc_auc, pr_auc = get_class_metrics(\n",
    "#                     ml_model, \n",
    "#                     y_val_p, \n",
    "#                     ml_model.predict(X_val_p), \n",
    "#                     ml_model.predict_proba(X_val_p)[:, 1]\n",
    "#                     )\n",
    "                \n",
    "#                 # get metrics for the given model\n",
    "#                 metrics_p_out[\"accuracy\"].append(accuracy)\n",
    "#                 metrics_p_out[\"precision\"].append(precision)\n",
    "#                 metrics_p_out[\"recall\"].append(recall)\n",
    "#                 metrics_p_out[\"f1\"].append(f1)\n",
    "#                 metrics_p_out[\"roc_auc\"].append(roc_auc)\n",
    "#                 metrics_p_out[\"pr_auc\"].append(pr_auc)\n",
    "\n",
    "#             # create a dataframe with iteration metrics\n",
    "#             df_ = pd.DataFrame({\n",
    "#                 \"model\": ml_label,\n",
    "#                 \"data\": data_label,\n",
    "#                 \"features\": selected_features_label,\n",
    "#                 \"pr_auc\": np.mean(metrics_p_out[\"pr_auc\"]),\n",
    "#                 \"roc_auc\": np.mean(metrics_p_out[\"roc_auc\"]),\n",
    "#                 \"f1\": np.mean(metrics_p_out[\"f1\"]),\n",
    "#                 \"recall\": np.mean(metrics_p_out[\"recall\"]),\n",
    "#                 \"precision\": np.mean(metrics_p_out[\"precision\"]),\n",
    "#                 \"accuracy\": np.mean(metrics_p_out[\"accuracy\"])\n",
    "#             }, index=[0])\n",
    "\n",
    "#             # add metrics to df_metricvalues to \n",
    "#             df_metrics = pd.concat(objs=[df_metrics, df_], ignore_index=True)\n",
    "\n",
    "# # order values by best performance metrics\n",
    "# df_metrics = df_metrics.sort_values(\n",
    "#     by=[\"pr_auc\", \"f1\", \"roc_auc\", \"recall\", \"precision\", \"accuracy\"], \n",
    "#     ascending=[False, False, False, False, False, False], \n",
    "#     ignore_index=True\n",
    "# )\n",
    "\n",
    "# # save results to html\n",
    "# df_metrics.to_html(\n",
    "#     buf=\"metrics_experimentation_asd_predictor.html\", \n",
    "#     max_rows=df_metrics.shape[0], max_cols=25, justify=\"center\"\n",
    "#     )\n",
    "\n",
    "# # check results\n",
    "# pd.read_html(\"metrics_experimentation_asd_predictor.html\")[0].head(20)"
   ]
  },
  {
   "cell_type": "code",
   "execution_count": null,
   "id": "VPpgiFXiA5WM",
   "metadata": {
    "id": "VPpgiFXiA5WM"
   },
   "outputs": [],
   "source": [
    "def explore_features_models_synthetic_data(\n",
    "    X_train, \n",
    "    y_train, \n",
    "    zip_features_label, \n",
    "    zip_model_label, \n",
    "    zip_synthetic_data_label\n",
    "):\n",
    "\n",
    "    # unpack zips\n",
    "    zip_features_label = [*zip_features_label]\n",
    "    zip_model_label = [*zip_model_label]\n",
    "    zip_synthetic_data_label = [*zip_synthetic_data_label]\n",
    "\n",
    "    # define dict to store metrics\n",
    "    df_metrics = pd.DataFrame()\n",
    "\n",
    "    # iterate over possible feature combinations\n",
    "    for selected_features, selected_features_label in zip_features_label:\n",
    "\n",
    "        # filter training dataframe given the selected features\n",
    "        X_train_f_selected = X_train[selected_features]\n",
    "\n",
    "        # sanity check\n",
    "        assert X_train_f_selected.shape[1] == len(selected_features), \"Error of feature selection filtering\"\n",
    "\n",
    "        # instanciate Leave P Out object\n",
    "        lpo = LeavePOut(2)\n",
    "\n",
    "        # iterate over models and labels\n",
    "        for ml_model, ml_label in zip_model_label:\n",
    "\n",
    "            # iterate over synthetic data generation models and their labels\n",
    "            for synthetic_data_model, data_label in zip_synthetic_data_label:\n",
    "\n",
    "                # print report\n",
    "                print(\n",
    "                    f'Performing Leave2Out validation for {ml_label.upper()} model on {data_label.upper()} data with {selected_features_label.upper()} features...'\n",
    "                )\n",
    "\n",
    "                # get metrics for leave 2 out validation\n",
    "                metrics_p_out = {\n",
    "                    \"pr_auc\": [],\n",
    "                    \"roc_auc\": [], \n",
    "                    \"log_loss\": [],\n",
    "                    \"f1\": [],\n",
    "                    \"recall\": [],\n",
    "                    \"precision\": [],\n",
    "                    \"accuracy\": []\n",
    "                    }\n",
    "\n",
    "                # iterate over leave 2 out splits\n",
    "                for train_index, val_index in lpo.split(X_train_f_selected):\n",
    "                    # sanity check\n",
    "                    assert len(set(train_index).intersection(set(val_index))) == 0, \"Overlapping train and validation index!\"\n",
    "\n",
    "                    # ===============================================================\n",
    "                    # for the two validation samples, \n",
    "                    # we will always use splits that have 1 ASD and another 1 non-ASD\n",
    "                    # ---> sum of y values in validation must be 1\n",
    "                    # ---> otherwise both are ASD or both are non-ASD\n",
    "                    # ===============================================================\n",
    "\n",
    "                    # check if all are ASD or all are non-ASD\n",
    "                    if y_train[val_index].sum() != 1: \n",
    "                        # skip to the next iteration\n",
    "                        continue\n",
    "                    # one is ASD and the other is non-ASD\n",
    "                    else:\n",
    "                        # get train and validation samples\n",
    "                        X_train_p = X_train_f_selected.iloc[train_index, :]\n",
    "                        X_val_p   = X_train_f_selected.iloc[ val_index , :]\n",
    "                        y_train_p = y_train.iloc[train_index]\n",
    "                        y_val_p   = y_train.iloc[ val_index ]\n",
    "\n",
    "                    # check if we will use synthetic data\n",
    "                    if data_label == \"Normal\":\n",
    "                        # keep data as it is\n",
    "                        X_train_modelling, y_train_modelling = X_train_p.copy(), y_train_p.copy()\n",
    "                    # we will not use normal data\n",
    "                    else:\n",
    "                        # create modelling data\n",
    "                        X_train_modelling, y_train_modelling = synthetic_data_model.fit_resample(X_train_p.copy(), y_train_p.copy())\n",
    "\n",
    "                    # fit model to data\n",
    "                    ml_model.fit(X_train_modelling, y_train_modelling)\n",
    "\n",
    "                    # get classification metrics\n",
    "                    accuracy, precision, recall, f1, roc_auc, pr_auc, log_loss = get_class_metrics(\n",
    "                        ml_model, \n",
    "                        y_val_p, \n",
    "                        ml_model.predict(X_val_p), \n",
    "                        ml_model.predict_proba(X_val_p)[:, 1]\n",
    "                        )\n",
    "\n",
    "                    # get metrics for the given model\n",
    "                    metrics_p_out[\"accuracy\"].append(accuracy)\n",
    "                    metrics_p_out[\"precision\"].append(precision)\n",
    "                    metrics_p_out[\"recall\"].append(recall)\n",
    "                    metrics_p_out[\"f1\"].append(f1)\n",
    "                    metrics_p_out[\"roc_auc\"].append(roc_auc)\n",
    "                    metrics_p_out[\"pr_auc\"].append(pr_auc)\n",
    "                    metrics_p_out[\"log_loss\"].append(log_loss)\n",
    "\n",
    "                # create a dataframe with iteration metrics\n",
    "                df_ = pd.DataFrame({\n",
    "                    \"model\": ml_label,\n",
    "                    \"data\": data_label,\n",
    "                    \"features\": selected_features_label,\n",
    "                    \"pr_auc_mean\": np.mean(metrics_p_out[\"pr_auc\"]),\n",
    "                    \"roc_auc_mean\": np.mean(metrics_p_out[\"roc_auc\"]),\n",
    "                    \"log_loss_mean\": np.mean(metrics_p_out[\"log_loss\"]),\n",
    "                    \"f1_mean\": np.mean(metrics_p_out[\"f1\"]),\n",
    "                    \"recall_mean\": np.mean(metrics_p_out[\"recall\"]),\n",
    "                    \"precision_mean\": np.mean(metrics_p_out[\"precision\"]),\n",
    "                    \"accuracy_mean\": np.mean(metrics_p_out[\"accuracy\"]),\n",
    "                    \"pr_auc_std\": np.std(metrics_p_out[\"pr_auc\"], ddof=1),\n",
    "                    \"roc_auc_std\": np.std(metrics_p_out[\"roc_auc\"], ddof=1),\n",
    "                    \"log_loss_std\": np.std(metrics_p_out[\"log_loss\"], ddof=1),\n",
    "                    \"f1_std\": np.std(metrics_p_out[\"f1\"], ddof=1),\n",
    "                    \"recall_std\": np.std(metrics_p_out[\"recall\"], ddof=1),\n",
    "                    \"precision_std\": np.std(metrics_p_out[\"precision\"], ddof=1),\n",
    "                    \"accuracy_std\": np.std(metrics_p_out[\"accuracy\"], ddof=1)\n",
    "                }, index=[0])\n",
    "\n",
    "                # add metrics to df_metricvalues to \n",
    "                df_metrics = pd.concat(objs=[df_metrics, df_], ignore_index=True)\n",
    "\n",
    "    # order values by best performance metrics\n",
    "    df_metrics = df_metrics.sort_values(\n",
    "        by=[\"pr_auc_mean\", \"roc_auc_mean\", \"log_loss_mean\", \"f1_mean\", \"recall_mean\", \"precision_mean\", \"accuracy_mean\"], \n",
    "        ascending=[False, False, False, False, False, False, False], \n",
    "        ignore_index=True\n",
    "    )\n",
    "\n",
    "    return df_metrics"
   ]
  },
  {
   "cell_type": "code",
   "execution_count": null,
   "id": "WZJF9fuWpzLk",
   "metadata": {
    "id": "WZJF9fuWpzLk"
   },
   "outputs": [],
   "source": [
    "# # define possible features\n",
    "# f_selected_mi\n",
    "# f_selected_rf\n",
    "# f_selected_lr\n",
    "# f_or = list((set(f_selected_mi + f_selected_rf + f_selected_lr)))\n",
    "# f_and = list(set(f_selected_mi) & set(f_selected_rf) & set(f_selected_lr))\n",
    "\n",
    "# # define possible features to test\n",
    "# zip_features_label = zip(\n",
    "#     # available features selected\n",
    "#     [f_selected_mi, f_selected_rf  , f_selected_lr , f_or, f_and],\n",
    "#     # features selected labels\n",
    "#     [\"Mutual Info\", \"Random Forest\", \"Logistic Reg\",  \"OR\", \"AND\"]\n",
    "#     )\n",
    "\n",
    "# # define possible models to test\n",
    "# dummy = DummyClassifier(strategy=\"most_frequent\", random_state=seed)\n",
    "# lr = LogisticRegression(n_jobs=-1, max_iter=1000, random_state=seed)\n",
    "# svm = SVC(probability=True, max_iter=1000, random_state=seed)\n",
    "# bayes = BernoulliNB()\n",
    "# knn = KNeighborsClassifier(n_jobs=-1)\n",
    "# rf = RandomForestClassifier(n_jobs=-1, random_state=seed)\n",
    "# lgbm = LGBMClassifier(n_jobs=-1, random_state=seed)\n",
    "# catboost = CatBoostClassifier(random_seed=seed, verbose=False)\n",
    "\n",
    "# zip_model_label = zip(\n",
    "#         # available models will be the \"model\" iterator\n",
    "#         [ dummy ,  lr  ,  svm  ,  bayes  ,  knn  ,  rf  ,  lgbm , catboost ],\n",
    "#         # available labels will be \"label\" iterator\n",
    "#         [\"Dummy\", \"lr\" , \"svm\" , \"bayes\" , \"knn\" , \"rf\" , \"lgbm\", \"catboost\" ] \n",
    "#     )\n",
    "\n",
    "# # define possible synthetic data generation techniques\n",
    "# zip_synthetic_data_label = zip(\n",
    "#             # available models will be the \"model\" iterator\n",
    "#             [  None  , SMOTE(random_state=0, n_jobs=-1), ADASYN(random_state=0, n_jobs=-1), TomekLinks(n_jobs=-1), NearMiss(n_jobs=-1), RandomOverSampler(random_state=seed)],\n",
    "#             # available labels will be \"label\" iterator\n",
    "#             [\"Normal\",       \"SMOTE\"                   ,       \"ADASYN\"                   ,       \"Tomek\"        ,      \"NearMiss\"    ,         \"RandomOverSampling\"        ]\n",
    "#         )\n",
    "\n",
    "# # make experiments\n",
    "# df_metrics = explore_features_models_synthetic_data(\n",
    "#     X_train=X_train_scaled, \n",
    "#     y_train=y_train, \n",
    "#     zip_features_label=zip_features_label, \n",
    "#     zip_model_label=zip_model_label, \n",
    "#     zip_synthetic_data_label=zip_synthetic_data_label\n",
    "#     )\n",
    "\n",
    "# # save results to html\n",
    "# df_metrics.to_html(\n",
    "#     buf=\"metrics_experimentation_asd_predictor.html\", \n",
    "#     max_rows=df_metrics.shape[0], max_cols=25, justify=\"center\"\n",
    "#     )"
   ]
  },
  {
   "cell_type": "code",
   "execution_count": null,
   "id": "eXZfG8lrCynW",
   "metadata": {
    "id": "eXZfG8lrCynW"
   },
   "outputs": [],
   "source": [
    "# # make experiments \n",
    "# df_metrics = explore_features_models_synthetic_data(\n",
    "#     X_train=X_train_scaled, \n",
    "#     y_train=y_train, \n",
    "#     zip_features_label=zip([f_selected_mi, f_or, f_and], [\"Mutual Info\", \"OR\", \"AND\"]), \n",
    "#     zip_model_label=zip([ DummyClassifier(strategy=\"most_frequent\", random_state=seed) ,  KNeighborsClassifier(n_jobs=-1)], [\"Dummy\", \"knn\"]), \n",
    "#     zip_synthetic_data_label=zip([  None  , ADASYN(random_state=0, n_jobs=-1), NearMiss(n_jobs=-1)], [\"Normal\", \"ADASYN\",\"NearMiss\"])\n",
    "#     )\n",
    "\n",
    "# # inspect results\n",
    "# df_metrics"
   ]
  },
  {
   "cell_type": "markdown",
   "id": "7011ae20-ebac-4cbd-8e9b-5de9064d5e0b",
   "metadata": {
    "id": "7011ae20-ebac-4cbd-8e9b-5de9064d5e0b"
   },
   "source": [
    "## 13.2 - Overfitting vs Wellfitting vs Underfitting"
   ]
  },
  {
   "cell_type": "code",
   "execution_count": null,
   "id": "mqE_7_7DNDyI",
   "metadata": {
    "id": "mqE_7_7DNDyI"
   },
   "outputs": [],
   "source": [
    "# TO-DO"
   ]
  },
  {
   "cell_type": "code",
   "execution_count": null,
   "id": "Va-hzxia89AL",
   "metadata": {
    "id": "Va-hzxia89AL"
   },
   "outputs": [],
   "source": [
    "def explore_stratified_cv(\n",
    "    X_train, \n",
    "    y_train, \n",
    "    zip_features_label, \n",
    "    zip_model_label, \n",
    "    zip_synthetic_data_label\n",
    "):\n",
    "\n",
    "    # unpack zips\n",
    "    zip_features_label = [*zip_features_label]\n",
    "    zip_model_label = [*zip_model_label]\n",
    "    zip_synthetic_data_label = [*zip_synthetic_data_label]\n",
    "\n",
    "    # define dict to store metrics\n",
    "    df_metrics = pd.DataFrame()\n",
    "\n",
    "    # iterate over possible feature combinations\n",
    "    for selected_features, selected_features_label in zip_features_label:\n",
    "\n",
    "        # filter training dataframe given the selected features\n",
    "        X_train_f_selected = X_train[selected_features]\n",
    "\n",
    "        # sanity check\n",
    "        assert X_train_f_selected.shape[1] == len(selected_features), \"Error of feature selection filtering\"\n",
    "\n",
    "        # instanciate Leave P Out object\n",
    "        lpo = LeavePOut(2)\n",
    "\n",
    "        # iterate over models and labels\n",
    "        for ml_model, ml_label in zip_model_label:\n",
    "\n",
    "            # iterate over synthetic data generation models and their labels\n",
    "            for synthetic_data_model, data_label in zip_synthetic_data_label:\n",
    "\n",
    "                # print report\n",
    "                print(\n",
    "                    f'Performing Leave2Out validation for {ml_label.upper()} model on {data_label.upper()} data with {selected_features_label.upper()} features...'\n",
    "                )\n",
    "\n",
    "                # check if we will use synthetic data\n",
    "                if data_label == \"Normal\":\n",
    "                    # keep data as it is\n",
    "                    X_train_modelling, y_train_modelling = X_train_f_selected.copy(), y_train.copy()\n",
    "                # we will not use normal data\n",
    "                else:\n",
    "                    # create modelling data\n",
    "                    X_train_modelling, y_train_modelling = synthetic_data_model.fit_resample(X_train_f_selected.copy(), y_train.copy())\n",
    "\n",
    "                # define metrics\n",
    "                metrics = [\"roc_auc\", \"f1\", \"recall\", \"precision\", \"accuracy\", \"neg_log_loss\"]\n",
    "\n",
    "                # cross validate model\n",
    "                cv_data = cross_validate(\n",
    "                    estimator=ml_model, \n",
    "                    X=X_train_modelling, \n",
    "                    y=y_train_modelling, \n",
    "                    # groups=None, \n",
    "                    scoring=metrics, \n",
    "                    cv=StratifiedKFold(n_splits=10, shuffle=True, random_state=seed), \n",
    "                    return_train_score=True,\n",
    "                    n_jobs=-1, \n",
    "                    verbose=0\n",
    "                    )\n",
    "\n",
    "                # iterate over metrics\n",
    "                for metric in metrics:\n",
    "                    # create a new key for division of test and train metric\n",
    "                    cv_data[f\"test_divided_train_{metric}\"] = cv_data[f\"test_{metric}\"] / cv_data[f\"train_{metric}\"]\n",
    "\n",
    "                # create a dict to store mean and std for k-fold metrics\n",
    "                cv_data_agg = {}\n",
    "\n",
    "                # iterate over cv_data dict\n",
    "                for k, v in cv_data.items():\n",
    "                    # check if key is not time\n",
    "                    if not k.endswith(\"_time\"):\n",
    "                        # create a mean and std for the given metric\n",
    "                        cv_data_agg[f\"mean_{k}\"] = np.mean(v)\n",
    "                        cv_data_agg[f\"std_{k}\"] = np.std(v, ddof=1)\n",
    "\n",
    "                # add metadata info to dict\n",
    "                cv_data_agg[\"model\"]=ml_label\n",
    "                cv_data_agg[\"data\"]=data_label\n",
    "                cv_data_agg[\"features\"]=selected_features_label\n",
    "\n",
    "                # create a dataframe with iteration metrics\n",
    "                df_ = pd.DataFrame(cv_data_agg, index=[0])\n",
    "\n",
    "                # add metrics to df_metricvalues to \n",
    "                df_metrics = pd.concat(objs=[df_metrics, df_], ignore_index=True)\n",
    "\n",
    "    # reorder columns\n",
    "    df_metrics = df_metrics[[\n",
    "        'model', 'data', 'features', \n",
    "\n",
    "        'mean_test_divided_train_roc_auc',\n",
    "        'mean_test_divided_train_f1', \n",
    "        'mean_test_divided_train_recall',      \n",
    "        'mean_test_divided_train_precision',\n",
    "        'mean_test_divided_train_accuracy',\n",
    "        'mean_test_divided_train_neg_log_loss',\n",
    "\n",
    "        'mean_test_roc_auc', 'std_test_roc_auc',\n",
    "        'mean_train_roc_auc', 'std_train_roc_auc', \n",
    "        'mean_test_f1', 'std_test_f1', \n",
    "        'mean_train_f1', 'std_train_f1', \n",
    "        'mean_test_recall','std_test_recall', \n",
    "        'mean_train_recall', 'std_train_recall',\n",
    "        'mean_test_precision', 'std_test_precision', \n",
    "        'mean_train_precision', 'std_train_precision', \n",
    "        'mean_test_accuracy', 'std_test_accuracy',\n",
    "        'mean_train_accuracy', 'std_train_accuracy', \n",
    "        'mean_test_neg_log_loss', 'std_test_neg_log_loss', \n",
    "        'mean_train_neg_log_loss', 'std_train_neg_log_loss',        \n",
    "\n",
    "        'std_test_divided_train_roc_auc', \n",
    "        'std_test_divided_train_f1', \n",
    "        'std_test_divided_train_recall',\n",
    "        'std_test_divided_train_precision',\n",
    "        'std_test_divided_train_accuracy',\n",
    "        'std_test_divided_train_neg_log_loss'        \n",
    "       ]]\n",
    "\n",
    "    # order values by best performance metrics\n",
    "    df_metrics = df_metrics.sort_values(\n",
    "        by=[\"mean_test_divided_train_roc_auc\", \"mean_test_divided_train_neg_log_loss\", \"mean_test_divided_train_f1\"],\n",
    "        ascending=[False, False, False], \n",
    "        ignore_index=True\n",
    "    )\n",
    "\n",
    "    return df_metrics"
   ]
  },
  {
   "cell_type": "code",
   "execution_count": null,
   "id": "fN8DBpbGAU5u",
   "metadata": {
    "colab": {
     "base_uri": "https://localhost:8080/"
    },
    "id": "fN8DBpbGAU5u",
    "outputId": "23d0bde6-dcb2-4e04-da1e-50e3b2c4aafb"
   },
   "outputs": [
    {
     "name": "stdout",
     "output_type": "stream",
     "text": [
      "Performing Leave2Out validation for DUMMY model on NORMAL data with OR features...\n"
     ]
    },
    {
     "name": "stderr",
     "output_type": "stream",
     "text": [
      "invalid value encountered in true_divide\n",
      "invalid value encountered in true_divide\n"
     ]
    },
    {
     "name": "stdout",
     "output_type": "stream",
     "text": [
      "Performing Leave2Out validation for DUMMY model on SMOTE data with OR features...\n",
      "Performing Leave2Out validation for DUMMY model on ADASYN data with OR features...\n"
     ]
    },
    {
     "name": "stderr",
     "output_type": "stream",
     "text": [
      "invalid value encountered in true_divide\n"
     ]
    },
    {
     "name": "stdout",
     "output_type": "stream",
     "text": [
      "Performing Leave2Out validation for LR model on NORMAL data with OR features...\n",
      "Performing Leave2Out validation for LR model on SMOTE data with OR features...\n",
      "Performing Leave2Out validation for LR model on ADASYN data with OR features...\n",
      "Performing Leave2Out validation for BAYES model on NORMAL data with OR features...\n",
      "Performing Leave2Out validation for BAYES model on SMOTE data with OR features...\n",
      "Performing Leave2Out validation for BAYES model on ADASYN data with OR features...\n",
      "Performing Leave2Out validation for KNN model on NORMAL data with OR features...\n",
      "Performing Leave2Out validation for KNN model on SMOTE data with OR features...\n",
      "Performing Leave2Out validation for KNN model on ADASYN data with OR features...\n",
      "Performing Leave2Out validation for DUMMY model on NORMAL data with AND features...\n",
      "Performing Leave2Out validation for DUMMY model on SMOTE data with AND features...\n"
     ]
    },
    {
     "name": "stderr",
     "output_type": "stream",
     "text": [
      "invalid value encountered in true_divide\n",
      "invalid value encountered in true_divide\n"
     ]
    },
    {
     "name": "stdout",
     "output_type": "stream",
     "text": [
      "Performing Leave2Out validation for DUMMY model on ADASYN data with AND features...\n",
      "Performing Leave2Out validation for LR model on NORMAL data with AND features...\n"
     ]
    },
    {
     "name": "stderr",
     "output_type": "stream",
     "text": [
      "invalid value encountered in true_divide\n"
     ]
    },
    {
     "name": "stdout",
     "output_type": "stream",
     "text": [
      "Performing Leave2Out validation for LR model on SMOTE data with AND features...\n",
      "Performing Leave2Out validation for LR model on ADASYN data with AND features...\n",
      "Performing Leave2Out validation for BAYES model on NORMAL data with AND features...\n",
      "Performing Leave2Out validation for BAYES model on SMOTE data with AND features...\n"
     ]
    },
    {
     "name": "stderr",
     "output_type": "stream",
     "text": [
      "invalid value encountered in true_divide\n"
     ]
    },
    {
     "name": "stdout",
     "output_type": "stream",
     "text": [
      "Performing Leave2Out validation for BAYES model on ADASYN data with AND features...\n",
      "Performing Leave2Out validation for KNN model on NORMAL data with AND features...\n",
      "Performing Leave2Out validation for KNN model on SMOTE data with AND features...\n",
      "Performing Leave2Out validation for KNN model on ADASYN data with AND features...\n"
     ]
    }
   ],
   "source": [
    "# define possible features\n",
    "f_selected_mi\n",
    "f_selected_rf\n",
    "f_selected_lr\n",
    "f_or = list((set(f_selected_mi + f_selected_rf + f_selected_lr)))\n",
    "f_and = list(set(f_selected_mi) & set(f_selected_rf) & set(f_selected_lr))\n",
    "\n",
    "# define possible features to test\n",
    "zip_features_label = zip(\n",
    "    # available features selected\n",
    "    [f_selected_mi, f_selected_rf  , f_selected_lr , f_or, f_and],\n",
    "    # features selected labels\n",
    "    [\"Mutual Info\", \"Random Forest\", \"Logistic Reg\",  \"OR\", \"AND\"]\n",
    "    )\n",
    "\n",
    "# define possible models to test\n",
    "dummy = DummyClassifier(strategy=\"most_frequent\", random_state=seed)\n",
    "lr = LogisticRegression(n_jobs=-1, max_iter=1000, random_state=seed)\n",
    "svm = SVC(probability=True, max_iter=1000, random_state=seed)\n",
    "bayes = BernoulliNB()\n",
    "knn = KNeighborsClassifier(n_jobs=-1)\n",
    "rf = RandomForestClassifier(n_jobs=-1, random_state=seed)\n",
    "lgbm = LGBMClassifier(n_jobs=-1, random_state=seed)\n",
    "catboost = CatBoostClassifier(random_seed=seed, verbose=False)\n",
    "\n",
    "zip_model_label = zip(\n",
    "        # available models will be the \"model\" iterator\n",
    "        [ dummy ,  lr  ,  svm  ,  bayes  ,  knn  ,  rf  ,  lgbm , catboost ],\n",
    "        # available labels will be \"label\" iterator\n",
    "        [\"Dummy\", \"lr\" , \"svm\" , \"bayes\" , \"knn\" , \"rf\" , \"lgbm\", \"catboost\" ] \n",
    "    )\n",
    "\n",
    "# define possible synthetic data generation techniques\n",
    "zip_synthetic_data_label = zip(\n",
    "            # available models will be the \"model\" iterator\n",
    "            [  None  , SMOTE(random_state=0, n_jobs=-1), ADASYN(random_state=0, n_jobs=-1), TomekLinks(n_jobs=-1), NearMiss(n_jobs=-1), RandomOverSampler(random_state=seed)],\n",
    "            # available labels will be \"label\" iterator\n",
    "            [\"Normal\",       \"SMOTE\"                   ,       \"ADASYN\"                   ,       \"Tomek\"        ,      \"NearMiss\"    ,         \"RandomOverSampling\"        ]\n",
    "        )\n",
    "\n",
    "# make experiments\n",
    "df_metrics = explore_stratified_cv(\n",
    "    X_train=X_train_scaled, \n",
    "    y_train=y_train, \n",
    "    zip_features_label=zip_features_label, \n",
    "    zip_model_label=zip_model_label, \n",
    "    zip_synthetic_data_label=zip_synthetic_data_label\n",
    "    )\n",
    "\n",
    "# save results to html\n",
    "df_metrics.to_html(\n",
    "    buf=\"teste.html\", \n",
    "    max_rows=df_metrics.shape[0], max_cols=100, justify=\"center\"\n",
    "    )    "
   ]
  },
  {
   "cell_type": "code",
   "execution_count": null,
   "id": "GFUmAXiFBnpC",
   "metadata": {
    "colab": {
     "base_uri": "https://localhost:8080/",
     "height": 802
    },
    "id": "GFUmAXiFBnpC",
    "outputId": "15c8ed94-5905-4d61-886a-bdce24af9ae3"
   },
   "outputs": [
    {
     "data": {
      "text/html": [
       "\n",
       "  <div id=\"df-114fa338-c894-4847-ad4e-e86de840a54c\">\n",
       "    <div class=\"colab-df-container\">\n",
       "      <div>\n",
       "<style scoped>\n",
       "    .dataframe tbody tr th:only-of-type {\n",
       "        vertical-align: middle;\n",
       "    }\n",
       "\n",
       "    .dataframe tbody tr th {\n",
       "        vertical-align: top;\n",
       "    }\n",
       "\n",
       "    .dataframe thead th {\n",
       "        text-align: right;\n",
       "    }\n",
       "</style>\n",
       "<table border=\"1\" class=\"dataframe\">\n",
       "  <thead>\n",
       "    <tr style=\"text-align: right;\">\n",
       "      <th></th>\n",
       "      <th>model</th>\n",
       "      <th>data</th>\n",
       "      <th>features</th>\n",
       "      <th>mean_test_divided_train_f1</th>\n",
       "      <th>mean_test_f1</th>\n",
       "      <th>std_test_f1</th>\n",
       "    </tr>\n",
       "  </thead>\n",
       "  <tbody>\n",
       "    <tr>\n",
       "      <th>0</th>\n",
       "      <td>lr</td>\n",
       "      <td>Normal</td>\n",
       "      <td>AND</td>\n",
       "      <td>0.800</td>\n",
       "      <td>0.400</td>\n",
       "      <td>0.516</td>\n",
       "    </tr>\n",
       "    <tr>\n",
       "      <th>1</th>\n",
       "      <td>bayes</td>\n",
       "      <td>Normal</td>\n",
       "      <td>AND</td>\n",
       "      <td>NaN</td>\n",
       "      <td>0.233</td>\n",
       "      <td>0.387</td>\n",
       "    </tr>\n",
       "    <tr>\n",
       "      <th>2</th>\n",
       "      <td>lr</td>\n",
       "      <td>ADASYN</td>\n",
       "      <td>AND</td>\n",
       "      <td>0.954</td>\n",
       "      <td>0.600</td>\n",
       "      <td>0.274</td>\n",
       "    </tr>\n",
       "    <tr>\n",
       "      <th>3</th>\n",
       "      <td>bayes</td>\n",
       "      <td>ADASYN</td>\n",
       "      <td>AND</td>\n",
       "      <td>0.972</td>\n",
       "      <td>0.647</td>\n",
       "      <td>0.347</td>\n",
       "    </tr>\n",
       "    <tr>\n",
       "      <th>4</th>\n",
       "      <td>Dummy</td>\n",
       "      <td>ADASYN</td>\n",
       "      <td>AND</td>\n",
       "      <td>NaN</td>\n",
       "      <td>0.600</td>\n",
       "      <td>0.211</td>\n",
       "    </tr>\n",
       "    <tr>\n",
       "      <th>5</th>\n",
       "      <td>Dummy</td>\n",
       "      <td>Normal</td>\n",
       "      <td>OR</td>\n",
       "      <td>NaN</td>\n",
       "      <td>0.000</td>\n",
       "      <td>0.000</td>\n",
       "    </tr>\n",
       "    <tr>\n",
       "      <th>6</th>\n",
       "      <td>Dummy</td>\n",
       "      <td>Normal</td>\n",
       "      <td>AND</td>\n",
       "      <td>NaN</td>\n",
       "      <td>0.000</td>\n",
       "      <td>0.000</td>\n",
       "    </tr>\n",
       "    <tr>\n",
       "      <th>7</th>\n",
       "      <td>Dummy</td>\n",
       "      <td>SMOTE</td>\n",
       "      <td>OR</td>\n",
       "      <td>NaN</td>\n",
       "      <td>0.000</td>\n",
       "      <td>0.000</td>\n",
       "    </tr>\n",
       "    <tr>\n",
       "      <th>8</th>\n",
       "      <td>Dummy</td>\n",
       "      <td>ADASYN</td>\n",
       "      <td>OR</td>\n",
       "      <td>NaN</td>\n",
       "      <td>0.000</td>\n",
       "      <td>0.000</td>\n",
       "    </tr>\n",
       "    <tr>\n",
       "      <th>9</th>\n",
       "      <td>Dummy</td>\n",
       "      <td>SMOTE</td>\n",
       "      <td>AND</td>\n",
       "      <td>NaN</td>\n",
       "      <td>0.000</td>\n",
       "      <td>0.000</td>\n",
       "    </tr>\n",
       "    <tr>\n",
       "      <th>10</th>\n",
       "      <td>bayes</td>\n",
       "      <td>SMOTE</td>\n",
       "      <td>AND</td>\n",
       "      <td>0.987</td>\n",
       "      <td>0.707</td>\n",
       "      <td>0.311</td>\n",
       "    </tr>\n",
       "    <tr>\n",
       "      <th>11</th>\n",
       "      <td>bayes</td>\n",
       "      <td>ADASYN</td>\n",
       "      <td>OR</td>\n",
       "      <td>0.890</td>\n",
       "      <td>0.643</td>\n",
       "      <td>0.377</td>\n",
       "    </tr>\n",
       "    <tr>\n",
       "      <th>12</th>\n",
       "      <td>knn</td>\n",
       "      <td>ADASYN</td>\n",
       "      <td>AND</td>\n",
       "      <td>0.724</td>\n",
       "      <td>0.592</td>\n",
       "      <td>0.365</td>\n",
       "    </tr>\n",
       "    <tr>\n",
       "      <th>13</th>\n",
       "      <td>bayes</td>\n",
       "      <td>SMOTE</td>\n",
       "      <td>OR</td>\n",
       "      <td>0.972</td>\n",
       "      <td>0.697</td>\n",
       "      <td>0.320</td>\n",
       "    </tr>\n",
       "    <tr>\n",
       "      <th>14</th>\n",
       "      <td>knn</td>\n",
       "      <td>ADASYN</td>\n",
       "      <td>OR</td>\n",
       "      <td>0.935</td>\n",
       "      <td>0.780</td>\n",
       "      <td>0.191</td>\n",
       "    </tr>\n",
       "    <tr>\n",
       "      <th>15</th>\n",
       "      <td>knn</td>\n",
       "      <td>SMOTE</td>\n",
       "      <td>AND</td>\n",
       "      <td>0.802</td>\n",
       "      <td>0.617</td>\n",
       "      <td>0.385</td>\n",
       "    </tr>\n",
       "    <tr>\n",
       "      <th>16</th>\n",
       "      <td>lr</td>\n",
       "      <td>SMOTE</td>\n",
       "      <td>AND</td>\n",
       "      <td>0.975</td>\n",
       "      <td>0.680</td>\n",
       "      <td>0.296</td>\n",
       "    </tr>\n",
       "    <tr>\n",
       "      <th>17</th>\n",
       "      <td>lr</td>\n",
       "      <td>SMOTE</td>\n",
       "      <td>OR</td>\n",
       "      <td>0.896</td>\n",
       "      <td>0.847</td>\n",
       "      <td>0.199</td>\n",
       "    </tr>\n",
       "    <tr>\n",
       "      <th>18</th>\n",
       "      <td>bayes</td>\n",
       "      <td>Normal</td>\n",
       "      <td>OR</td>\n",
       "      <td>0.896</td>\n",
       "      <td>0.567</td>\n",
       "      <td>0.417</td>\n",
       "    </tr>\n",
       "    <tr>\n",
       "      <th>19</th>\n",
       "      <td>knn</td>\n",
       "      <td>Normal</td>\n",
       "      <td>AND</td>\n",
       "      <td>0.892</td>\n",
       "      <td>0.633</td>\n",
       "      <td>0.457</td>\n",
       "    </tr>\n",
       "    <tr>\n",
       "      <th>20</th>\n",
       "      <td>knn</td>\n",
       "      <td>SMOTE</td>\n",
       "      <td>OR</td>\n",
       "      <td>0.787</td>\n",
       "      <td>0.657</td>\n",
       "      <td>0.330</td>\n",
       "    </tr>\n",
       "    <tr>\n",
       "      <th>21</th>\n",
       "      <td>lr</td>\n",
       "      <td>ADASYN</td>\n",
       "      <td>OR</td>\n",
       "      <td>0.882</td>\n",
       "      <td>0.827</td>\n",
       "      <td>0.192</td>\n",
       "    </tr>\n",
       "    <tr>\n",
       "      <th>22</th>\n",
       "      <td>knn</td>\n",
       "      <td>Normal</td>\n",
       "      <td>OR</td>\n",
       "      <td>0.752</td>\n",
       "      <td>0.483</td>\n",
       "      <td>0.448</td>\n",
       "    </tr>\n",
       "    <tr>\n",
       "      <th>23</th>\n",
       "      <td>lr</td>\n",
       "      <td>Normal</td>\n",
       "      <td>OR</td>\n",
       "      <td>0.545</td>\n",
       "      <td>0.433</td>\n",
       "      <td>0.473</td>\n",
       "    </tr>\n",
       "  </tbody>\n",
       "</table>\n",
       "</div>\n",
       "      <button class=\"colab-df-convert\" onclick=\"convertToInteractive('df-114fa338-c894-4847-ad4e-e86de840a54c')\"\n",
       "              title=\"Convert this dataframe to an interactive table.\"\n",
       "              style=\"display:none;\">\n",
       "        \n",
       "  <svg xmlns=\"http://www.w3.org/2000/svg\" height=\"24px\"viewBox=\"0 0 24 24\"\n",
       "       width=\"24px\">\n",
       "    <path d=\"M0 0h24v24H0V0z\" fill=\"none\"/>\n",
       "    <path d=\"M18.56 5.44l.94 2.06.94-2.06 2.06-.94-2.06-.94-.94-2.06-.94 2.06-2.06.94zm-11 1L8.5 8.5l.94-2.06 2.06-.94-2.06-.94L8.5 2.5l-.94 2.06-2.06.94zm10 10l.94 2.06.94-2.06 2.06-.94-2.06-.94-.94-2.06-.94 2.06-2.06.94z\"/><path d=\"M17.41 7.96l-1.37-1.37c-.4-.4-.92-.59-1.43-.59-.52 0-1.04.2-1.43.59L10.3 9.45l-7.72 7.72c-.78.78-.78 2.05 0 2.83L4 21.41c.39.39.9.59 1.41.59.51 0 1.02-.2 1.41-.59l7.78-7.78 2.81-2.81c.8-.78.8-2.07 0-2.86zM5.41 20L4 18.59l7.72-7.72 1.47 1.35L5.41 20z\"/>\n",
       "  </svg>\n",
       "      </button>\n",
       "      \n",
       "  <style>\n",
       "    .colab-df-container {\n",
       "      display:flex;\n",
       "      flex-wrap:wrap;\n",
       "      gap: 12px;\n",
       "    }\n",
       "\n",
       "    .colab-df-convert {\n",
       "      background-color: #E8F0FE;\n",
       "      border: none;\n",
       "      border-radius: 50%;\n",
       "      cursor: pointer;\n",
       "      display: none;\n",
       "      fill: #1967D2;\n",
       "      height: 32px;\n",
       "      padding: 0 0 0 0;\n",
       "      width: 32px;\n",
       "    }\n",
       "\n",
       "    .colab-df-convert:hover {\n",
       "      background-color: #E2EBFA;\n",
       "      box-shadow: 0px 1px 2px rgba(60, 64, 67, 0.3), 0px 1px 3px 1px rgba(60, 64, 67, 0.15);\n",
       "      fill: #174EA6;\n",
       "    }\n",
       "\n",
       "    [theme=dark] .colab-df-convert {\n",
       "      background-color: #3B4455;\n",
       "      fill: #D2E3FC;\n",
       "    }\n",
       "\n",
       "    [theme=dark] .colab-df-convert:hover {\n",
       "      background-color: #434B5C;\n",
       "      box-shadow: 0px 1px 3px 1px rgba(0, 0, 0, 0.15);\n",
       "      filter: drop-shadow(0px 1px 2px rgba(0, 0, 0, 0.3));\n",
       "      fill: #FFFFFF;\n",
       "    }\n",
       "  </style>\n",
       "\n",
       "      <script>\n",
       "        const buttonEl =\n",
       "          document.querySelector('#df-114fa338-c894-4847-ad4e-e86de840a54c button.colab-df-convert');\n",
       "        buttonEl.style.display =\n",
       "          google.colab.kernel.accessAllowed ? 'block' : 'none';\n",
       "\n",
       "        async function convertToInteractive(key) {\n",
       "          const element = document.querySelector('#df-114fa338-c894-4847-ad4e-e86de840a54c');\n",
       "          const dataTable =\n",
       "            await google.colab.kernel.invokeFunction('convertToInteractive',\n",
       "                                                     [key], {});\n",
       "          if (!dataTable) return;\n",
       "\n",
       "          const docLinkHtml = 'Like what you see? Visit the ' +\n",
       "            '<a target=\"_blank\" href=https://colab.research.google.com/notebooks/data_table.ipynb>data table notebook</a>'\n",
       "            + ' to learn more about interactive tables.';\n",
       "          element.innerHTML = '';\n",
       "          dataTable['output_type'] = 'display_data';\n",
       "          await google.colab.output.renderOutput(dataTable, element);\n",
       "          const docLink = document.createElement('div');\n",
       "          docLink.innerHTML = docLinkHtml;\n",
       "          element.appendChild(docLink);\n",
       "        }\n",
       "      </script>\n",
       "    </div>\n",
       "  </div>\n",
       "  "
      ],
      "text/plain": [
       "    model    data features  mean_test_divided_train_f1  mean_test_f1  \\\n",
       "0      lr  Normal      AND                       0.800         0.400   \n",
       "1   bayes  Normal      AND                         NaN         0.233   \n",
       "2      lr  ADASYN      AND                       0.954         0.600   \n",
       "3   bayes  ADASYN      AND                       0.972         0.647   \n",
       "4   Dummy  ADASYN      AND                         NaN         0.600   \n",
       "5   Dummy  Normal       OR                         NaN         0.000   \n",
       "6   Dummy  Normal      AND                         NaN         0.000   \n",
       "7   Dummy   SMOTE       OR                         NaN         0.000   \n",
       "8   Dummy  ADASYN       OR                         NaN         0.000   \n",
       "9   Dummy   SMOTE      AND                         NaN         0.000   \n",
       "10  bayes   SMOTE      AND                       0.987         0.707   \n",
       "11  bayes  ADASYN       OR                       0.890         0.643   \n",
       "12    knn  ADASYN      AND                       0.724         0.592   \n",
       "13  bayes   SMOTE       OR                       0.972         0.697   \n",
       "14    knn  ADASYN       OR                       0.935         0.780   \n",
       "15    knn   SMOTE      AND                       0.802         0.617   \n",
       "16     lr   SMOTE      AND                       0.975         0.680   \n",
       "17     lr   SMOTE       OR                       0.896         0.847   \n",
       "18  bayes  Normal       OR                       0.896         0.567   \n",
       "19    knn  Normal      AND                       0.892         0.633   \n",
       "20    knn   SMOTE       OR                       0.787         0.657   \n",
       "21     lr  ADASYN       OR                       0.882         0.827   \n",
       "22    knn  Normal       OR                       0.752         0.483   \n",
       "23     lr  Normal       OR                       0.545         0.433   \n",
       "\n",
       "    std_test_f1  \n",
       "0         0.516  \n",
       "1         0.387  \n",
       "2         0.274  \n",
       "3         0.347  \n",
       "4         0.211  \n",
       "5         0.000  \n",
       "6         0.000  \n",
       "7         0.000  \n",
       "8         0.000  \n",
       "9         0.000  \n",
       "10        0.311  \n",
       "11        0.377  \n",
       "12        0.365  \n",
       "13        0.320  \n",
       "14        0.191  \n",
       "15        0.385  \n",
       "16        0.296  \n",
       "17        0.199  \n",
       "18        0.417  \n",
       "19        0.457  \n",
       "20        0.330  \n",
       "21        0.192  \n",
       "22        0.448  \n",
       "23        0.473  "
      ]
     },
     "execution_count": 148,
     "metadata": {},
     "output_type": "execute_result"
    }
   ],
   "source": [
    "df_metrics[[\"model\", \"data\", \"features\", \"mean_test_divided_train_f1\", \"mean_test_f1\", \"std_test_f1\"]]"
   ]
  },
  {
   "cell_type": "markdown",
   "id": "41d74b92-80f8-4d91-a8a2-c4c8fc2ce58f",
   "metadata": {
    "id": "41d74b92-80f8-4d91-a8a2-c4c8fc2ce58f"
   },
   "source": [
    "## 13.3 - Confusion Matrix"
   ]
  },
  {
   "cell_type": "code",
   "execution_count": null,
   "id": "0f9f1003-94fb-491d-b419-33f71b153989",
   "metadata": {
    "id": "0f9f1003-94fb-491d-b419-33f71b153989"
   },
   "outputs": [],
   "source": [
    "# TO-DO"
   ]
  },
  {
   "cell_type": "markdown",
   "id": "e624fe66-08df-4aaa-a51b-8cf8d3846cdc",
   "metadata": {
    "id": "e624fe66-08df-4aaa-a51b-8cf8d3846cdc"
   },
   "source": [
    "## 13.4 - Learning Curves"
   ]
  },
  {
   "cell_type": "code",
   "execution_count": null,
   "id": "ERH-extTxcr2",
   "metadata": {
    "id": "ERH-extTxcr2"
   },
   "outputs": [],
   "source": [
    "# define training dataset -> X_train_scaled with mutual information features\n",
    "# X_train_final = X_train_scaled[f_selected_mi]\n",
    "# X_train_final = X_train_scaled[f_or]\n",
    "X_train_final = X_train_scaled[f_and]\n",
    "\n",
    "# define model to generate synthetic data\n",
    "data_model = SMOTE(random_state=0, n_jobs=-1)\n",
    "# data_model = RandomOverSampler(random_state=seed)\n",
    "\n",
    "# generate synthetic data\n",
    "X_train_modelling, y_train_modelling = data_model.fit_resample(\n",
    "    X_train_final, y_train\n",
    "    )\n",
    "\n",
    "# define ML model\n",
    "# ml_model = CatBoostClassifier(random_seed=seed, verbose=False)\n",
    "# ml_model = KNeighborsClassifier(n_jobs=-1)\n",
    "# ml_model = RandomForestClassifier(n_jobs=-1, random_state=seed)\n",
    "# ml_model = LogisticRegression(n_jobs=-1, max_iter=1000, random_state=seed, C=0.1)\n",
    "ml_model = BernoulliNB()"
   ]
  },
  {
   "cell_type": "code",
   "execution_count": null,
   "id": "rHnjm-68xb6A",
   "metadata": {
    "colab": {
     "base_uri": "https://localhost:8080/"
    },
    "id": "rHnjm-68xb6A",
    "outputId": "3aa730cc-3305-4b35-bab3-d636639da876"
   },
   "outputs": [
    {
     "name": "stdout",
     "output_type": "stream",
     "text": [
      "STRATIFIED CROSS VALIDATION:\n",
      "\n",
      "\ttest_f1: 0.71 +-0.31\n",
      "\ttrain_f1: 0.73 +-0.03\n",
      "\ttest_recall: 0.80 +-0.35\n",
      "\ttrain_recall: 0.80 +-0.04\n",
      "\ttest_precision: 0.65 +-0.31\n",
      "\ttrain_precision: 0.67 +-0.02\n",
      "\ttest_divided_train_f1: 0.99 +-0.45\n",
      "\ttest_divided_train_recall: 1.02 +-0.46\n",
      "\ttest_divided_train_precision: 0.99 +-0.49\n"
     ]
    }
   ],
   "source": [
    "# define metrics\n",
    "metrics = [\"f1\", \"recall\", \"precision\"]\n",
    "\n",
    "# cross validate model\n",
    "cv_data = cross_validate(\n",
    "    estimator=ml_model, \n",
    "    X=X_train_modelling, \n",
    "    y=y_train_modelling, \n",
    "    groups=None, \n",
    "    scoring=metrics, \n",
    "    cv=StratifiedKFold(n_splits=10, shuffle=True, random_state=seed), \n",
    "    return_train_score=True,\n",
    "    n_jobs=-1, \n",
    "    verbose=0\n",
    "    )\n",
    "\n",
    "# iterate over metrics\n",
    "for metric in metrics:\n",
    "    # create a new key for division of test and train metric\n",
    "    cv_data[f\"test_divided_train_{metric}\"] = cv_data[f\"test_{metric}\"] / cv_data[f\"train_{metric}\"]\n",
    "\n",
    "# print report\n",
    "print(\n",
    "    f'STRATIFIED CROSS VALIDATION:\\n'\n",
    ")\n",
    "\n",
    "# iterate over cv_data\n",
    "for k, v in cv_data.items():\n",
    "    # check if key is time or metric\n",
    "    if not k.endswith(\"_time\"):\n",
    "        # print metric\n",
    "        print(\n",
    "            f\"\\t{k}: {np.mean(v):.2f} +-{np.std(v, ddof=1):.2f}\"\n",
    "        )"
   ]
  },
  {
   "cell_type": "code",
   "execution_count": null,
   "id": "ac5ed1de-8bbe-4716-9680-40cdceff555f",
   "metadata": {
    "colab": {
     "base_uri": "https://localhost:8080/",
     "height": 295
    },
    "id": "ac5ed1de-8bbe-4716-9680-40cdceff555f",
    "outputId": "f719cfa3-e470-4230-a591-ae4200a25c2e"
   },
   "outputs": [
    {
     "data": {
      "image/png": "[encoded data removed]",
      "text/plain": [
       "<Figure size 432x288 with 1 Axes>"
      ]
     },
     "metadata": {
      "needs_background": "light"
     },
     "output_type": "display_data"
    }
   ],
   "source": [
    "# check learning curves\n",
    "train_sizes, train_scores, test_scores = learning_curve(\n",
    "    estimator=LogisticRegression(n_jobs=-1, max_iter=1000, random_state=seed, C=0.1), \n",
    "    X=X_train_modelling, y=y_train_modelling, \n",
    "    train_sizes=np.linspace(0.1, 1.0, 10), \n",
    "    cv=StratifiedKFold(n_splits=10, shuffle=True, random_state=seed),\n",
    "    scoring=\"f1\", n_jobs=-1, shuffle=True, random_state=seed\n",
    "    )\n",
    "\n",
    "# Take the mean of cross-validated train scores and validation scores\n",
    "train_scores_mean = np.mean(train_scores, axis=1)\n",
    "test_scores_mean = np.mean(test_scores, axis=1)\n",
    "\n",
    "# plot learning curves\n",
    "sns.lineplot(x = train_sizes, y = train_scores_mean, \n",
    "             estimator='mean', ci=95, n_boot=1000, label = \"Training\")\n",
    "sns.lineplot(x = train_sizes, y = test_scores_mean, \n",
    "             estimator='mean', ci=95, n_boot=1000, label = \"Validating\")\n",
    "# define plot details\n",
    "plt.ylabel('PERFORMANCE METRICS')\n",
    "plt.xlabel('TRAINING SET SIZE')\n",
    "plt.title('LEARNING CURVES')\n",
    "plt.legend();"
   ]
  },
  {
   "cell_type": "markdown",
   "id": "4e1e4a0e-10e7-415c-b4cc-86db0fa3821c",
   "metadata": {
    "id": "4e1e4a0e-10e7-415c-b4cc-86db0fa3821c"
   },
   "source": [
    "## 13.5 - Model Calibration"
   ]
  },
  {
   "cell_type": "code",
   "execution_count": null,
   "id": "7df6a7fc-98e3-4ab5-b03a-4304958de00e",
   "metadata": {
    "id": "7df6a7fc-98e3-4ab5-b03a-4304958de00e"
   },
   "outputs": [],
   "source": [
    "# TO-DO"
   ]
  },
  {
   "cell_type": "markdown",
   "id": "2b3ebc08-9b00-4b62-b2a0-790f7621bd5d",
   "metadata": {
    "id": "2b3ebc08-9b00-4b62-b2a0-790f7621bd5d"
   },
   "source": [
    "# 14 - Model Performance"
   ]
  },
  {
   "cell_type": "markdown",
   "id": "29f624f4-e0fb-45a1-a53c-1b302d0f9f60",
   "metadata": {
    "id": "29f624f4-e0fb-45a1-a53c-1b302d0f9f60"
   },
   "source": [
    "*Evaluate model performance*"
   ]
  },
  {
   "cell_type": "markdown",
   "id": "9b0ef560-c352-44ea-990f-2bb098dd8e89",
   "metadata": {
    "id": "9b0ef560-c352-44ea-990f-2bb098dd8e89"
   },
   "source": [
    "## 14.1 - Training performance"
   ]
  },
  {
   "cell_type": "markdown",
   "id": "ff7b4358-9824-4526-a05d-2dce0b7bb783",
   "metadata": {
    "id": "ff7b4358-9824-4526-a05d-2dce0b7bb783"
   },
   "source": [
    "*Evaluate model performance on training dataset*"
   ]
  },
  {
   "cell_type": "code",
   "execution_count": null,
   "id": "0d072a34-4285-4ac4-b118-1e132a6d9628",
   "metadata": {
    "colab": {
     "base_uri": "https://localhost:8080/"
    },
    "id": "0d072a34-4285-4ac4-b118-1e132a6d9628",
    "outputId": "bbf93fbc-07a6-4c74-f5dd-46f66354485a"
   },
   "outputs": [
    {
     "data": {
      "text/plain": [
       "BernoulliNB()"
      ]
     },
     "execution_count": 156,
     "metadata": {},
     "output_type": "execute_result"
    }
   ],
   "source": [
    "# define training dataset -> X_train_scaled with mutual information features\n",
    "X_train_final = X_train_scaled[f_and]\n",
    "\n",
    "# define model to generate synthetic data\n",
    "data_model = SMOTE(random_state=0, n_jobs=-1)\n",
    "\n",
    "# generate synthetic data\n",
    "X_train_modelling, y_train_modelling = data_model.fit_resample(\n",
    "    X_train_final, y_train\n",
    "    )\n",
    "\n",
    "# define ML model\n",
    "ml_model = BernoulliNB()\n",
    "\n",
    "# fit model to data\n",
    "ml_model.fit(X_train_modelling, y_train_modelling)"
   ]
  },
  {
   "cell_type": "code",
   "execution_count": null,
   "id": "22r2FU7SHuhc",
   "metadata": {
    "colab": {
     "base_uri": "https://localhost:8080/",
     "height": 229
    },
    "id": "22r2FU7SHuhc",
    "outputId": "ddef867c-8f66-4630-ab24-9e7814769ef3"
   },
   "outputs": [
    {
     "name": "stderr",
     "output_type": "stream",
     "text": [
      "Attribute `coef_` was deprecated in version 0.24 and will be removed in 1.1 (renaming of 0.26).\n",
      "Attribute `intercept_` was deprecated in version 0.24 and will be removed in 1.1 (renaming of 0.26).\n"
     ]
    },
    {
     "data": {
      "image/png": "[encoded data removed]",
      "text/plain": [
       "<Figure size 576x165.6 with 2 Axes>"
      ]
     },
     "metadata": {
      "needs_background": "light"
     },
     "output_type": "display_data"
    }
   ],
   "source": [
    "# compute SHAP values\n",
    "explainer = shap.Explainer(ml_model, X_train_modelling)\n",
    "shap_values = explainer(X_train_modelling)\n",
    "\n",
    "# plot shap values for features\n",
    "shap.plots.beeswarm(shap_values, order=shap_values.abs.mean(0), max_display=10)"
   ]
  },
  {
   "cell_type": "code",
   "execution_count": null,
   "id": "38hhOsZTKUbU",
   "metadata": {
    "colab": {
     "base_uri": "https://localhost:8080/",
     "height": 252
    },
    "id": "38hhOsZTKUbU",
    "outputId": "91f2aba8-1df6-4e49-a752-06fbff506d63"
   },
   "outputs": [
    {
     "data": {
      "image/png": "[encoded data removed]",
      "text/plain": [
       "<Figure size 576x252 with 2 Axes>"
      ]
     },
     "metadata": {
      "needs_background": "light"
     },
     "output_type": "display_data"
    }
   ],
   "source": [
    "# plot heatmap\n",
    "shap.plots.heatmap(shap_values[:1000], max_display=10, feature_values=shap.Explanation.abs.mean(0))"
   ]
  },
  {
   "cell_type": "markdown",
   "id": "748ed4f0-b4b7-4a43-89d7-af4b0c7e31f7",
   "metadata": {
    "id": "748ed4f0-b4b7-4a43-89d7-af4b0c7e31f7"
   },
   "source": [
    "## 14.2 - Validation performance"
   ]
  },
  {
   "cell_type": "markdown",
   "id": "ca3e6fb1-1a36-4bae-a6c5-3d028101dfff",
   "metadata": {
    "id": "ca3e6fb1-1a36-4bae-a6c5-3d028101dfff"
   },
   "source": [
    "*Evaluate model performance on validation dataset*"
   ]
  },
  {
   "cell_type": "code",
   "execution_count": null,
   "id": "465d7120-8148-48e4-ac20-57d632a601b9",
   "metadata": {
    "id": "465d7120-8148-48e4-ac20-57d632a601b9"
   },
   "outputs": [],
   "source": [
    "# TO-DO"
   ]
  },
  {
   "cell_type": "code",
   "execution_count": null,
   "id": "452ba38b-08d8-419f-9841-66dff895ba43",
   "metadata": {
    "id": "452ba38b-08d8-419f-9841-66dff895ba43"
   },
   "outputs": [],
   "source": [
    "# TO-DO"
   ]
  },
  {
   "cell_type": "markdown",
   "id": "383066ac-0be1-4629-8eb2-20ca4eac315b",
   "metadata": {
    "id": "383066ac-0be1-4629-8eb2-20ca4eac315b"
   },
   "source": [
    "## 14.1 - Test performance"
   ]
  },
  {
   "cell_type": "markdown",
   "id": "a3be767f-fde3-433f-88c5-72a7855c0738",
   "metadata": {
    "id": "a3be767f-fde3-433f-88c5-72a7855c0738"
   },
   "source": [
    "*Evaluate model performance on test dataset*"
   ]
  },
  {
   "cell_type": "code",
   "execution_count": null,
   "id": "7e7744b6-5091-4356-9231-3035d052a5ab",
   "metadata": {
    "id": "7e7744b6-5091-4356-9231-3035d052a5ab"
   },
   "outputs": [],
   "source": [
    "# TO-DO"
   ]
  },
  {
   "cell_type": "markdown",
   "id": "cea5884f-d96e-4f1f-940d-f3fe1fd2d289",
   "metadata": {
    "id": "cea5884f-d96e-4f1f-940d-f3fe1fd2d289"
   },
   "source": [
    "# 15 - Model diagnostics"
   ]
  },
  {
   "cell_type": "markdown",
   "id": "706efcd9-8110-4325-bfc5-60e10177b9fa",
   "metadata": {
    "id": "706efcd9-8110-4325-bfc5-60e10177b9fa"
   },
   "source": [
    "## 15.1 - Feature importance"
   ]
  },
  {
   "cell_type": "markdown",
   "id": "c0f4e185-b234-4f32-b18a-b08ac00f522e",
   "metadata": {
    "id": "c0f4e185-b234-4f32-b18a-b08ac00f522e"
   },
   "source": [
    "*Check the importance of features for model prediciton*"
   ]
  },
  {
   "cell_type": "code",
   "execution_count": null,
   "id": "1e1b74f5-03d3-4d36-ba57-d87b5cf045fd",
   "metadata": {
    "id": "1e1b74f5-03d3-4d36-ba57-d87b5cf045fd"
   },
   "outputs": [],
   "source": [
    "# TO-DO"
   ]
  },
  {
   "cell_type": "markdown",
   "id": "89d52e7e-92ad-4adb-8799-9432e196e9a4",
   "metadata": {
    "id": "89d52e7e-92ad-4adb-8799-9432e196e9a4"
   },
   "source": [
    "## 15.2 - Bias analysis"
   ]
  },
  {
   "cell_type": "markdown",
   "id": "654d5a3a-2f73-4789-a8d9-1c14148da64d",
   "metadata": {
    "id": "654d5a3a-2f73-4789-a8d9-1c14148da64d"
   },
   "source": [
    "*Check for bias on model predictions*"
   ]
  },
  {
   "cell_type": "code",
   "execution_count": null,
   "id": "84c16f0a-06a0-4c61-b28d-1a83a585f30d",
   "metadata": {
    "id": "84c16f0a-06a0-4c61-b28d-1a83a585f30d"
   },
   "outputs": [],
   "source": [
    "# TO-DO"
   ]
  },
  {
   "cell_type": "markdown",
   "id": "409035aa-8576-46bc-b1aa-a6b114f52a56",
   "metadata": {
    "id": "409035aa-8576-46bc-b1aa-a6b114f52a56"
   },
   "source": [
    "## 15.3 - Uncertainty analysis"
   ]
  },
  {
   "cell_type": "markdown",
   "id": "73ca8fc6-b17d-4cb7-acaf-1ef7840843af",
   "metadata": {
    "id": "73ca8fc6-b17d-4cb7-acaf-1ef7840843af"
   },
   "source": [
    "*Check for uncertainty on model predictions*"
   ]
  },
  {
   "cell_type": "code",
   "execution_count": null,
   "id": "1f1f86fa-2476-4db7-8295-38132ba3568e",
   "metadata": {
    "id": "1f1f86fa-2476-4db7-8295-38132ba3568e"
   },
   "outputs": [],
   "source": [
    "# TO-DO"
   ]
  },
  {
   "cell_type": "markdown",
   "id": "78a671d7-7efb-45a9-9174-76d5e92ed18e",
   "metadata": {
    "id": "78a671d7-7efb-45a9-9174-76d5e92ed18e"
   },
   "source": [
    "## 15.4 - SHAP values"
   ]
  },
  {
   "cell_type": "markdown",
   "id": "8e45fe97-793e-4c79-9c52-9b1720d37154",
   "metadata": {
    "id": "8e45fe97-793e-4c79-9c52-9b1720d37154"
   },
   "source": [
    "*Inspect shap values for model prediction*"
   ]
  },
  {
   "cell_type": "code",
   "execution_count": null,
   "id": "d6b47d25-1fa6-42af-9b36-d6c1bb4a2fc5",
   "metadata": {
    "id": "d6b47d25-1fa6-42af-9b36-d6c1bb4a2fc5"
   },
   "outputs": [],
   "source": [
    "# # TO-DO\n",
    "\n",
    "# # explain the GAM model with SHAP\n",
    "# explainer_ebm = shap.Explainer(model_ebm.predict, X100)\n",
    "# shap_values_ebm = explainer_ebm(X)\n",
    "\n",
    "# shap.plots.beeswarm(shap_values_ebm)"
   ]
  },
  {
   "cell_type": "markdown",
   "id": "81275df4-e65e-4a4d-a695-40094519ab32",
   "metadata": {
    "id": "81275df4-e65e-4a4d-a695-40094519ab32"
   },
   "source": [
    "# 16 - Prepare model for production"
   ]
  },
  {
   "cell_type": "code",
   "execution_count": null,
   "id": "b5ffef10-8ced-40e2-b6e5-1085403a0104",
   "metadata": {
    "id": "b5ffef10-8ced-40e2-b6e5-1085403a0104"
   },
   "outputs": [],
   "source": [
    "# TO-DO"
   ]
  }
 ],
 "metadata": {
  "colab": {
   "provenance": []
  },
  "kernelspec": {
   "display_name": "Python 3 (ipykernel)",
   "language": "python",
   "name": "python3"
  },
  "language_info": {
   "codemirror_mode": {
    "name": "ipython",
    "version": 3
   },
   "file_extension": ".py",
   "mimetype": "text/x-python",
   "name": "python",
   "nbconvert_exporter": "python",
   "pygments_lexer": "ipython3",
   "version": "3.9.7"
  },
  "require": {
   "paths": {
    "buttons.colvis": "https://cdn.datatables.net/buttons/1.5.6/js/buttons.colVis.min",
    "buttons.flash": "https://cdn.datatables.net/buttons/1.5.6/js/buttons.flash.min",
    "buttons.html5": "https://cdn.datatables.net/buttons/1.5.6/js/buttons.html5.min",
    "buttons.print": "https://cdn.datatables.net/buttons/1.5.6/js/buttons.print.min",
    "chartjs": "https://cdnjs.cloudflare.com/ajax/libs/Chart.js/2.8.0/Chart",
    "d3": "https://d3js.org/d3.v5.min",
    "d3-array": "https://d3js.org/d3-array.v2.min",
    "datatables.net": "https://cdn.datatables.net/1.10.18/js/jquery.dataTables",
    "datatables.net-buttons": "https://cdn.datatables.net/buttons/1.5.6/js/dataTables.buttons.min",
    "datatables.responsive": "https://cdn.datatables.net/responsive/2.2.2/js/dataTables.responsive.min",
    "datatables.scroller": "https://cdn.datatables.net/scroller/2.0.0/js/dataTables.scroller.min",
    "datatables.select": "https://cdn.datatables.net/select/1.3.0/js/dataTables.select.min",
    "jszip": "https://cdnjs.cloudflare.com/ajax/libs/jszip/2.5.0/jszip.min",
    "moment": "https://cdnjs.cloudflare.com/ajax/libs/moment.js/2.8.0/moment",
    "pdfmake": "https://cdnjs.cloudflare.com/ajax/libs/pdfmake/0.1.36/pdfmake.min",
    "vfsfonts": "https://cdnjs.cloudflare.com/ajax/libs/pdfmake/0.1.36/vfs_fonts"
   },
   "shim": {
    "buttons.colvis": {
     "deps": [
      "jszip",
      "datatables.net-buttons"
     ]
    },
    "buttons.flash": {
     "deps": [
      "jszip",
      "datatables.net-buttons"
     ]
    },
    "buttons.html5": {
     "deps": [
      "jszip",
      "datatables.net-buttons"
     ]
    },
    "buttons.print": {
     "deps": [
      "jszip",
      "datatables.net-buttons"
     ]
    },
    "chartjs": {
     "deps": [
      "moment"
     ]
    },
    "datatables.net": {
     "exports": "$.fn.dataTable"
    },
    "datatables.net-buttons": {
     "deps": [
      "datatables.net"
     ]
    },
    "pdfmake": {
     "deps": [
      "datatables.net"
     ]
    },
    "vfsfonts": {
     "deps": [
      "datatables.net"
     ]
    }
   }
  }
 },
 "nbformat": 4,
 "nbformat_minor": 5
}
